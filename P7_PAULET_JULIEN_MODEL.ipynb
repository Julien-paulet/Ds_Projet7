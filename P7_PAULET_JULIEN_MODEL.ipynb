{
 "cells": [
  {
   "cell_type": "markdown",
   "metadata": {
    "toc": true
   },
   "source": [
    "<h1>Table of Contents<span class=\"tocSkip\"></span></h1>\n",
    "<div class=\"toc\"><ul class=\"toc-item\"><li><span><a href=\"#Data-Import\" data-toc-modified-id=\"Data-Import-1\"><span class=\"toc-item-num\">1&nbsp;&nbsp;</span>Data Import</a></span></li><li><span><a href=\"#Data-Preparation\" data-toc-modified-id=\"Data-Preparation-2\"><span class=\"toc-item-num\">2&nbsp;&nbsp;</span>Data Preparation</a></span></li><li><span><a href=\"#Standard-Scaler\" data-toc-modified-id=\"Standard-Scaler-3\"><span class=\"toc-item-num\">3&nbsp;&nbsp;</span>Standard Scaler</a></span></li><li><span><a href=\"#Over-Sampling\" data-toc-modified-id=\"Over-Sampling-4\"><span class=\"toc-item-num\">4&nbsp;&nbsp;</span>Over Sampling</a></span></li><li><span><a href=\"#Under-&amp;-Over-Sampling\" data-toc-modified-id=\"Under-&amp;-Over-Sampling-5\"><span class=\"toc-item-num\">5&nbsp;&nbsp;</span>Under &amp; Over Sampling</a></span></li><li><span><a href=\"#Sampling-for-modelization\" data-toc-modified-id=\"Sampling-for-modelization-6\"><span class=\"toc-item-num\">6&nbsp;&nbsp;</span>Sampling for modelization</a></span></li><li><span><a href=\"#Personalized-Metric\" data-toc-modified-id=\"Personalized-Metric-7\"><span class=\"toc-item-num\">7&nbsp;&nbsp;</span>Personalized Metric</a></span></li><li><span><a href=\"#Features-Selection\" data-toc-modified-id=\"Features-Selection-8\"><span class=\"toc-item-num\">8&nbsp;&nbsp;</span>Features Selection</a></span></li><li><span><a href=\"#Modeling\" data-toc-modified-id=\"Modeling-9\"><span class=\"toc-item-num\">9&nbsp;&nbsp;</span>Modeling</a></span><ul class=\"toc-item\"><li><span><a href=\"#Logistic-Regression-(Baseline)\" data-toc-modified-id=\"Logistic-Regression-(Baseline)-9.1\"><span class=\"toc-item-num\">9.1&nbsp;&nbsp;</span>Logistic Regression (Baseline)</a></span><ul class=\"toc-item\"><li><span><a href=\"#Training\" data-toc-modified-id=\"Training-9.1.1\"><span class=\"toc-item-num\">9.1.1&nbsp;&nbsp;</span>Training</a></span><ul class=\"toc-item\"><li><span><a href=\"#Without-SMOTE\" data-toc-modified-id=\"Without-SMOTE-9.1.1.1\"><span class=\"toc-item-num\">9.1.1.1&nbsp;&nbsp;</span>Without SMOTE</a></span></li><li><span><a href=\"#With-SMOTE\" data-toc-modified-id=\"With-SMOTE-9.1.1.2\"><span class=\"toc-item-num\">9.1.1.2&nbsp;&nbsp;</span>With SMOTE</a></span></li></ul></li><li><span><a href=\"#Performances\" data-toc-modified-id=\"Performances-9.1.2\"><span class=\"toc-item-num\">9.1.2&nbsp;&nbsp;</span>Performances</a></span></li><li><span><a href=\"#Features-importance\" data-toc-modified-id=\"Features-importance-9.1.3\"><span class=\"toc-item-num\">9.1.3&nbsp;&nbsp;</span>Features importance</a></span></li></ul></li><li><span><a href=\"#Random-Forest\" data-toc-modified-id=\"Random-Forest-9.2\"><span class=\"toc-item-num\">9.2&nbsp;&nbsp;</span>Random Forest</a></span><ul class=\"toc-item\"><li><span><a href=\"#Training\" data-toc-modified-id=\"Training-9.2.1\"><span class=\"toc-item-num\">9.2.1&nbsp;&nbsp;</span>Training</a></span><ul class=\"toc-item\"><li><span><a href=\"#Without-SMOTE\" data-toc-modified-id=\"Without-SMOTE-9.2.1.1\"><span class=\"toc-item-num\">9.2.1.1&nbsp;&nbsp;</span>Without SMOTE</a></span></li><li><span><a href=\"#With-SMOTE\" data-toc-modified-id=\"With-SMOTE-9.2.1.2\"><span class=\"toc-item-num\">9.2.1.2&nbsp;&nbsp;</span>With SMOTE</a></span></li></ul></li><li><span><a href=\"#Performances\" data-toc-modified-id=\"Performances-9.2.2\"><span class=\"toc-item-num\">9.2.2&nbsp;&nbsp;</span>Performances</a></span></li><li><span><a href=\"#Features-importance\" data-toc-modified-id=\"Features-importance-9.2.3\"><span class=\"toc-item-num\">9.2.3&nbsp;&nbsp;</span>Features importance</a></span></li></ul></li><li><span><a href=\"#XGBoost\" data-toc-modified-id=\"XGBoost-9.3\"><span class=\"toc-item-num\">9.3&nbsp;&nbsp;</span>XGBoost</a></span><ul class=\"toc-item\"><li><span><a href=\"#Training\" data-toc-modified-id=\"Training-9.3.1\"><span class=\"toc-item-num\">9.3.1&nbsp;&nbsp;</span>Training</a></span><ul class=\"toc-item\"><li><span><a href=\"#Without-SMOTE\" data-toc-modified-id=\"Without-SMOTE-9.3.1.1\"><span class=\"toc-item-num\">9.3.1.1&nbsp;&nbsp;</span>Without SMOTE</a></span></li><li><span><a href=\"#With-SMOTE\" data-toc-modified-id=\"With-SMOTE-9.3.1.2\"><span class=\"toc-item-num\">9.3.1.2&nbsp;&nbsp;</span>With SMOTE</a></span></li></ul></li><li><span><a href=\"#Performances\" data-toc-modified-id=\"Performances-9.3.2\"><span class=\"toc-item-num\">9.3.2&nbsp;&nbsp;</span>Performances</a></span></li><li><span><a href=\"#Features-importance\" data-toc-modified-id=\"Features-importance-9.3.3\"><span class=\"toc-item-num\">9.3.3&nbsp;&nbsp;</span>Features importance</a></span></li></ul></li></ul></li><li><span><a href=\"#Best-Model\" data-toc-modified-id=\"Best-Model-10\"><span class=\"toc-item-num\">10&nbsp;&nbsp;</span>Best Model</a></span></li><li><span><a href=\"#Model-Saving\" data-toc-modified-id=\"Model-Saving-11\"><span class=\"toc-item-num\">11&nbsp;&nbsp;</span>Model Saving</a></span></li><li><span><a href=\"#LIME\" data-toc-modified-id=\"LIME-12\"><span class=\"toc-item-num\">12&nbsp;&nbsp;</span>LIME</a></span></li></ul></div>"
   ]
  },
  {
   "cell_type": "markdown",
   "metadata": {},
   "source": [
    "https://medium.com/henry-jia/how-to-score-your-credit-1c08dd73e2ed <br/>\n",
    "https://towardsdatascience.com/intro-to-credit-scorecard-9afeaaa3725f"
   ]
  },
  {
   "cell_type": "code",
   "execution_count": 1,
   "metadata": {},
   "outputs": [],
   "source": [
    "import pandas as pd\n",
    "import numpy as np\n",
    "import time\n",
    "import seaborn as sns\n",
    "import matplotlib.pyplot as plt\n",
    "from pickle import load\n",
    "from sklearn import metrics\n",
    "from sklearn.metrics import accuracy_score\n",
    "from sklearn.metrics import confusion_matrix"
   ]
  },
  {
   "cell_type": "code",
   "execution_count": 2,
   "metadata": {},
   "outputs": [],
   "source": [
    "np.random.seed(42)"
   ]
  },
  {
   "cell_type": "markdown",
   "metadata": {},
   "source": [
    "# Data Import"
   ]
  },
  {
   "cell_type": "code",
   "execution_count": 3,
   "metadata": {},
   "outputs": [],
   "source": [
    "application_train = pd.read_csv('input/application_train.csv')\n",
    "X = application_train.set_index('SK_ID_CURR').drop(columns=['TARGET'])\n",
    "y = application_train.set_index('SK_ID_CURR')['TARGET']"
   ]
  },
  {
   "cell_type": "markdown",
   "metadata": {},
   "source": [
    "# Data Preparation"
   ]
  },
  {
   "cell_type": "code",
   "execution_count": 4,
   "metadata": {},
   "outputs": [],
   "source": [
    "X['TERM'] = X.AMT_CREDIT / X.AMT_ANNUITY\n",
    "X['OVER_EXPECT_CREDIT'] = (X.AMT_CREDIT > X.AMT_GOODS_PRICE).map({False:0, True:1})\n",
    "X['MEAN_BUILDING_SCORE_AVG'] = X.iloc[:, 44:58].mean(skipna=True, axis=1)\n",
    "X['TOTAL_BUILDING_SCORE_AVG'] = X.iloc[:, 44:58].sum(skipna=True, axis=1)\n",
    "X['FLAG_DOCUMENT_TOTAL'] = X.iloc[:, 96:116].sum(axis=1)\n",
    "X['AMT_REQ_CREDIT_BUREAU_TOTAL'] = X.iloc[:, 116:122].sum(axis=1)\n",
    "X['BIRTH_EMPLOTED_INTERVEL'] = X.DAYS_EMPLOYED - X.DAYS_BIRTH\n",
    "X['BIRTH_REGISTRATION_INTERVEL'] = X.DAYS_REGISTRATION - X.DAYS_BIRTH\n",
    "X['MEAN_BUILDING_SCORE_AVG'] = X.iloc[:, 44:58].mean(skipna=True, axis=1)\n",
    "X['TOTAL_BUILDING_SCORE_AVG'] = X.iloc[:, 44:58].sum(skipna=True, axis=1)\n",
    "X['INCOME_PER_FAMILY_MEMBER'] = X.AMT_INCOME_TOTAL / X.CNT_FAM_MEMBERS\n",
    "X['SEASON_REMAINING'] = X.AMT_INCOME_TOTAL/4 -  X.AMT_ANNUITY\n",
    "X['RATIO_INCOME_GOODS'] = X.AMT_INCOME_TOTAL -  X.AMT_GOODS_PRICE\n",
    "X['CHILDREN_RATIO'] = X.CNT_CHILDREN / X.CNT_FAM_MEMBERS"
   ]
  },
  {
   "cell_type": "code",
   "execution_count": 5,
   "metadata": {},
   "outputs": [],
   "source": [
    "from pipeline_functions import DataFrameFeatureUnion, SelectColumnsTransfomer\n",
    "from pipeline_functions import DataFrameFunctionTransformer, backToDf"
   ]
  },
  {
   "cell_type": "code",
   "execution_count": 6,
   "metadata": {},
   "outputs": [],
   "source": [
    "pipeline = load(open('preprocessing_features.pkl', 'rb'))"
   ]
  },
  {
   "cell_type": "code",
   "execution_count": 7,
   "metadata": {},
   "outputs": [],
   "source": [
    "X = pipeline.fit_transform(X)"
   ]
  },
  {
   "cell_type": "markdown",
   "metadata": {},
   "source": [
    "# Standard Scaler"
   ]
  },
  {
   "cell_type": "code",
   "execution_count": 8,
   "metadata": {},
   "outputs": [],
   "source": [
    "from sklearn.model_selection import train_test_split"
   ]
  },
  {
   "cell_type": "code",
   "execution_count": 9,
   "metadata": {},
   "outputs": [],
   "source": [
    "x_train_, x_test, y_train_, y_test = train_test_split(X, y, test_size=0.2)"
   ]
  },
  {
   "cell_type": "markdown",
   "metadata": {},
   "source": [
    "# Over Sampling"
   ]
  },
  {
   "cell_type": "code",
   "execution_count": 10,
   "metadata": {},
   "outputs": [],
   "source": [
    "from collections import Counter\n",
    "from imblearn.over_sampling import SMOTE"
   ]
  },
  {
   "cell_type": "code",
   "execution_count": 11,
   "metadata": {},
   "outputs": [
    {
     "name": "stdout",
     "output_type": "stream",
     "text": [
      "Counter({0: 282686, 1: 24825})\n"
     ]
    }
   ],
   "source": [
    "counter = Counter(y)\n",
    "print(counter)"
   ]
  },
  {
   "cell_type": "code",
   "execution_count": 12,
   "metadata": {},
   "outputs": [],
   "source": [
    "sm = SMOTE(random_state=42)\n",
    "x_res, y_res = sm.fit_resample(x_train_, y_train_)"
   ]
  },
  {
   "cell_type": "code",
   "execution_count": 13,
   "metadata": {},
   "outputs": [
    {
     "name": "stdout",
     "output_type": "stream",
     "text": [
      "Counter({0: 226132, 1: 226132})\n"
     ]
    }
   ],
   "source": [
    "counter = Counter(y_res)\n",
    "print(counter)"
   ]
  },
  {
   "cell_type": "markdown",
   "metadata": {},
   "source": [
    "# Under & Over Sampling"
   ]
  },
  {
   "cell_type": "code",
   "execution_count": 14,
   "metadata": {},
   "outputs": [],
   "source": [
    "from imblearn.under_sampling import RandomUnderSampler\n",
    "from imblearn.pipeline import Pipeline"
   ]
  },
  {
   "cell_type": "code",
   "execution_count": 15,
   "metadata": {},
   "outputs": [
    {
     "name": "stdout",
     "output_type": "stream",
     "text": [
      "Counter({0: 282686, 1: 24825})\n"
     ]
    }
   ],
   "source": [
    "counter = Counter(y)\n",
    "print(counter)"
   ]
  },
  {
   "cell_type": "code",
   "execution_count": 16,
   "metadata": {},
   "outputs": [],
   "source": [
    "over = SMOTE(sampling_strategy=0.2, random_state=42)\n",
    "under = RandomUnderSampler(sampling_strategy=0.5)\n",
    "steps = [('o', over), ('u', under)]\n",
    "pipeline = Pipeline(steps=steps)\n",
    "# transform the dataset\n",
    "x_res, y_res = pipeline.fit_resample(x_train_, y_train_)"
   ]
  },
  {
   "cell_type": "code",
   "execution_count": 17,
   "metadata": {},
   "outputs": [
    {
     "name": "stdout",
     "output_type": "stream",
     "text": [
      "Counter({0: 90452, 1: 45226})\n"
     ]
    }
   ],
   "source": [
    "counter = Counter(y_res)\n",
    "print(counter)"
   ]
  },
  {
   "cell_type": "markdown",
   "metadata": {},
   "source": [
    "# Sampling for modelization"
   ]
  },
  {
   "cell_type": "code",
   "execution_count": 18,
   "metadata": {},
   "outputs": [
    {
     "data": {
      "text/plain": [
       "(10000, 132)"
      ]
     },
     "execution_count": 18,
     "metadata": {},
     "output_type": "execute_result"
    }
   ],
   "source": [
    "sample = np.random.randint(0, x_res.shape[0], 10000)\n",
    "x_sample = x_res.iloc[sample,:]\n",
    "y_sample = y_res[sample]\n",
    "x_sample.shape"
   ]
  },
  {
   "cell_type": "code",
   "execution_count": 19,
   "metadata": {},
   "outputs": [
    {
     "name": "stdout",
     "output_type": "stream",
     "text": [
      "Counter({0: 6643, 1: 3357})\n"
     ]
    }
   ],
   "source": [
    "counter = Counter(y_sample)\n",
    "print(counter)"
   ]
  },
  {
   "cell_type": "code",
   "execution_count": 20,
   "metadata": {},
   "outputs": [
    {
     "data": {
      "text/plain": [
       "(10000, 132)"
      ]
     },
     "execution_count": 20,
     "metadata": {},
     "output_type": "execute_result"
    }
   ],
   "source": [
    "sample_no_smote = np.random.randint(0, x_train_.shape[0], 10000)\n",
    "x_train = x_train_.iloc[sample_no_smote,:]\n",
    "y_train = y_train_.iloc[sample_no_smote]\n",
    "x_train.shape"
   ]
  },
  {
   "cell_type": "code",
   "execution_count": 21,
   "metadata": {},
   "outputs": [
    {
     "name": "stdout",
     "output_type": "stream",
     "text": [
      "Counter({0: 9195, 1: 805})\n"
     ]
    }
   ],
   "source": [
    "counter = Counter(y_train)\n",
    "print(counter)"
   ]
  },
  {
   "cell_type": "markdown",
   "metadata": {},
   "source": [
    "# Personalized Metric"
   ]
  },
  {
   "cell_type": "markdown",
   "metadata": {},
   "source": [
    "Calculate the performances of the model"
   ]
  },
  {
   "cell_type": "code",
   "execution_count": 22,
   "metadata": {},
   "outputs": [],
   "source": [
    "def personalizedMetric(model_name, data, pred, saving=True, scores=None):\n",
    "    \"\"\"This function calculate a score based on a personalized metric ; \n",
    "    It creates a dataframe if it does not already exist, allowing you to keep the scores\n",
    "    of your models in memory\"\"\"\n",
    "    # Df init\n",
    "    if scores is not None:\n",
    "        df = scores        \n",
    "    else:\n",
    "        df = pd.DataFrame(columns=['Model', 'Score', 'false_positive',\n",
    "                                   'false_negative', 'good_pred',\n",
    "                                   'f1_score', 'AUC'])\n",
    "    \n",
    "    # Calculation of the score for current model:\n",
    "    false_positive = 0\n",
    "    false_negative = 0\n",
    "    good_pred = 0\n",
    "    model_score = 0\n",
    "    f1_score = metrics.f1_score(data, pred, average='macro')\n",
    "    fpr, tpr, thresholds = metrics.roc_curve(data, pred)\n",
    "    AUC = metrics.auc(fpr, tpr)\n",
    "    for i, j in zip(data, pred):\n",
    "        if i == j:\n",
    "            good_pred += 1\n",
    "            model_score += 0\n",
    "        elif i != j:\n",
    "            if i == 0:\n",
    "                false_positive += 1\n",
    "                model_score += 1\n",
    "            elif i == 1:\n",
    "                false_negative += 1\n",
    "                model_score += 5\n",
    "    \n",
    "    # Put the results in the df\n",
    "    results = {\"Model\":model_name, \"Score\":model_score,\n",
    "               \"false_positive\":false_positive, \"false_negative\":false_negative,\n",
    "               \"good_pred\":good_pred, \"f1_score\":f1_score, \"AUC\":AUC}\n",
    "    \n",
    "    # if saving == True:\n",
    "    df = df.append(results, ignore_index=True)\n",
    "    \n",
    "    return df"
   ]
  },
  {
   "cell_type": "markdown",
   "metadata": {},
   "source": [
    "Plot the comparaison between models ; Either between SMOTE/NON SMOTE models, or between all the models"
   ]
  },
  {
   "cell_type": "code",
   "execution_count": 23,
   "metadata": {},
   "outputs": [],
   "source": [
    "def autolabel(rects, ax):\n",
    "    \"\"\"Attach a text label above each bar in *rects*, displaying its height.\"\"\"\n",
    "    for rect in rects:\n",
    "        height = rect.get_height()\n",
    "        ax.annotate('{}'.format(height),\n",
    "                    xy=(rect.get_x() + rect.get_width() / 2, height),\n",
    "                    xytext=(0, 1),  # 1 points vertical offset\n",
    "                    textcoords=\"offset points\",\n",
    "                    ha='center', va='bottom')\n",
    "\n",
    "\n",
    "def comparaison(scores, type_='SMOTE', model='Baseline'):\n",
    "    width = 0.35\n",
    "    scores_ = scores\n",
    "\n",
    "    if type_ == 'SMOTE':\n",
    "        try:\n",
    "            scores = scores[(scores['Model'] == model) | (scores['Model'] == model + ' Without SMOTE')]\n",
    "            x = np.arange(len(scores['Model']))\n",
    "            fig, ax = plt.subplots(figsize=(10,5))\n",
    "            rects1 = ax.bar(x - width/2, scores['Score'], width, label='Score')\n",
    "            #rects2 = ax.bar(x + width/2, scores['false_positive'], width, label='false_positive')\n",
    "            rects2 = ax.bar(x + width/2, scores['false_negative'], width, label='false_negative')\n",
    "            ax.set_xticks(x)\n",
    "            ax.set_xticklabels(scores['Model'])\n",
    "            ax.set_ylabel('Value')\n",
    "            plt.yscale('log')\n",
    "            ax.legend()\n",
    "\n",
    "            autolabel(rects1, ax)\n",
    "            autolabel(rects2, ax)\n",
    "\n",
    "            fig.tight_layout()\n",
    "\n",
    "            plt.show()\n",
    "            \n",
    "        except:\n",
    "            print('The model paramater that you gave is not present in the DataFrame, please use a good model name')\n",
    "            print('Model name currently present : ')\n",
    "            print(scores_['Model'])\n",
    "\n",
    "    elif type_ == 'MODEL':\n",
    "        scores = scores[~scores['Model'].str.contains('Without SMOTE')]\n",
    "        x = np.arange(len(scores['Model']))\n",
    "        fig, ax = plt.subplots(figsize=(10,5))\n",
    "        rects1 = ax.bar(x - width/2, scores['Score'], width, label='Score')\n",
    "        #rects2 = ax.bar(x + width/2, scores['false_positive'], width, label='false_positive')\n",
    "        rects2 = ax.bar(x + width/2, scores['false_negative'], width, label='false_negative')\n",
    "        ax.set_xticks(x)\n",
    "        ax.set_xticklabels(scores['Model'])\n",
    "        ax.set_ylabel('Value')\n",
    "        plt.yscale('log')\n",
    "        ax.legend()\n",
    "\n",
    "        autolabel(rects1, ax)\n",
    "        autolabel(rects2, ax)\n",
    "\n",
    "        fig.tight_layout()\n",
    "\n",
    "        plt.show()\n",
    "    \n",
    "    else:\n",
    "        print(\"Choose a correct type_ ; Available : MODEL, SMOTE. Default : SMOTE\")"
   ]
  },
  {
   "cell_type": "markdown",
   "metadata": {},
   "source": [
    "# Features Selection"
   ]
  },
  {
   "cell_type": "code",
   "execution_count": 24,
   "metadata": {},
   "outputs": [],
   "source": [
    "from sklearn.feature_selection import RFE\n",
    "from sklearn.ensemble import RandomForestClassifier"
   ]
  },
  {
   "cell_type": "code",
   "execution_count": 25,
   "metadata": {},
   "outputs": [
    {
     "data": {
      "text/plain": [
       "array([False,  True,  True, False, False, False, False, False, False,\n",
       "       False, False, False, False, False, False, False, False, False,\n",
       "        True,  True,  True,  True,  True, False,  True,  True, False,\n",
       "       False, False, False, False, False, False, False, False, False,\n",
       "       False, False, False, False, False, False, False,  True,  True,\n",
       "        True, False, False, False, False, False, False, False, False,\n",
       "       False, False, False, False, False, False, False, False, False,\n",
       "       False, False, False, False, False, False, False, False, False,\n",
       "       False, False, False, False, False, False, False, False, False,\n",
       "       False, False, False, False, False, False, False, False, False,\n",
       "       False, False, False,  True, False, False, False, False, False,\n",
       "       False, False, False, False, False, False, False, False, False,\n",
       "       False, False, False, False, False, False, False, False, False,\n",
       "       False, False,  True,  True,  True, False, False, False,  True,\n",
       "        True,  True, False,  True, False, False])"
      ]
     },
     "execution_count": 25,
     "metadata": {},
     "output_type": "execute_result"
    }
   ],
   "source": [
    "estimator = RandomForestClassifier()\n",
    "selector = RFE(estimator, n_features_to_select=20, step=1)\n",
    "selector = selector.fit(x_sample, y_sample)\n",
    "selector.support_"
   ]
  },
  {
   "cell_type": "code",
   "execution_count": 26,
   "metadata": {},
   "outputs": [
    {
     "data": {
      "text/plain": [
       "array([ 84,   1,   1,  24,  68,  57,  15,  23,  55,  16,  18,  13,  86,\n",
       "        76,  62,  67,  51,   7,   1,   1,   1,   1,   1,   3,   1,   1,\n",
       "        12, 111,  92,  52, 109,  43,  89,  29,  37,  31,   5,  95,  90,\n",
       "        93,  82,  69,  73,   1,   1,   1,  36,  46,  33,  66,  60,  87,\n",
       "        53,  56,  72,  28,  65,  39,  81,  48,  22,  54,  14,  59,  63,\n",
       "        80,  58,  70,  79,  34,  71,  30,  78,  38,  32,  35,  26,  44,\n",
       "        47,  83,  40,  64,  74,  41,  50,  27,  85,  49,  25,  21,  61,\n",
       "        17,  75,   1,  99,  42, 113,  94,  91, 112,  88,  97, 110, 100,\n",
       "       108, 102, 101, 103,  96, 107,  98, 105, 106, 104,   6,  10,  20,\n",
       "        11,   2,   1,   1,   1,   9,  19,  77,   1,   1,   1,   4,   1,\n",
       "         8,  45])"
      ]
     },
     "execution_count": 26,
     "metadata": {},
     "output_type": "execute_result"
    }
   ],
   "source": [
    "selector.ranking_"
   ]
  },
  {
   "cell_type": "code",
   "execution_count": 27,
   "metadata": {},
   "outputs": [],
   "source": [
    "x_sample = x_sample.iloc[:, selector.support_]\n",
    "x_train = x_train.iloc[:, selector.support_]\n",
    "x_train_ = x_train_.iloc[:, selector.support_]\n",
    "x_res = x_res.iloc[:, selector.support_]\n",
    "x_test = x_test.iloc[:, selector.support_]"
   ]
  },
  {
   "cell_type": "markdown",
   "metadata": {},
   "source": [
    "# Modeling"
   ]
  },
  {
   "cell_type": "markdown",
   "metadata": {},
   "source": [
    "## Logistic Regression (Baseline)"
   ]
  },
  {
   "cell_type": "code",
   "execution_count": 28,
   "metadata": {},
   "outputs": [],
   "source": [
    "from sklearn.linear_model import LogisticRegression"
   ]
  },
  {
   "cell_type": "markdown",
   "metadata": {},
   "source": [
    "### Training"
   ]
  },
  {
   "cell_type": "markdown",
   "metadata": {},
   "source": [
    "#### Without SMOTE"
   ]
  },
  {
   "cell_type": "code",
   "execution_count": 29,
   "metadata": {},
   "outputs": [],
   "source": [
    "clf_no_smote = LogisticRegression(max_iter=1000, random_state=42).fit(x_train, y_train)\n",
    "clf_predict_no_smote = clf_no_smote.predict(x_test)"
   ]
  },
  {
   "cell_type": "markdown",
   "metadata": {},
   "source": [
    "#### With SMOTE"
   ]
  },
  {
   "cell_type": "code",
   "execution_count": 30,
   "metadata": {},
   "outputs": [],
   "source": [
    "clf = LogisticRegression(max_iter=1000, random_state=42).fit(x_sample, y_sample)\n",
    "clf_predict = clf.predict(x_test)\n",
    "#clf_predict = pd.DataFrame(clf_predict, index=y_test.index, columns=['predict'])"
   ]
  },
  {
   "cell_type": "markdown",
   "metadata": {},
   "source": [
    "### Performances"
   ]
  },
  {
   "cell_type": "code",
   "execution_count": 31,
   "metadata": {},
   "outputs": [
    {
     "data": {
      "text/html": [
       "<div>\n",
       "<style scoped>\n",
       "    .dataframe tbody tr th:only-of-type {\n",
       "        vertical-align: middle;\n",
       "    }\n",
       "\n",
       "    .dataframe tbody tr th {\n",
       "        vertical-align: top;\n",
       "    }\n",
       "\n",
       "    .dataframe thead th {\n",
       "        text-align: right;\n",
       "    }\n",
       "</style>\n",
       "<table border=\"1\" class=\"dataframe\">\n",
       "  <thead>\n",
       "    <tr style=\"text-align: right;\">\n",
       "      <th></th>\n",
       "      <th>Model</th>\n",
       "      <th>Score</th>\n",
       "      <th>false_positive</th>\n",
       "      <th>false_negative</th>\n",
       "      <th>good_pred</th>\n",
       "      <th>f1_score</th>\n",
       "      <th>AUC</th>\n",
       "    </tr>\n",
       "  </thead>\n",
       "  <tbody>\n",
       "    <tr>\n",
       "      <th>0</th>\n",
       "      <td>Baseline</td>\n",
       "      <td>21898</td>\n",
       "      <td>6993</td>\n",
       "      <td>2981</td>\n",
       "      <td>51529</td>\n",
       "      <td>0.595769</td>\n",
       "      <td>0.637002</td>\n",
       "    </tr>\n",
       "    <tr>\n",
       "      <th>1</th>\n",
       "      <td>Baseline Without SMOTE</td>\n",
       "      <td>24542</td>\n",
       "      <td>57</td>\n",
       "      <td>4897</td>\n",
       "      <td>56549</td>\n",
       "      <td>0.489280</td>\n",
       "      <td>0.504750</td>\n",
       "    </tr>\n",
       "  </tbody>\n",
       "</table>\n",
       "</div>"
      ],
      "text/plain": [
       "                    Model  Score false_positive false_negative good_pred  \\\n",
       "0                Baseline  21898           6993           2981     51529   \n",
       "1  Baseline Without SMOTE  24542             57           4897     56549   \n",
       "\n",
       "   f1_score       AUC  \n",
       "0  0.595769  0.637002  \n",
       "1  0.489280  0.504750  "
      ]
     },
     "execution_count": 31,
     "metadata": {},
     "output_type": "execute_result"
    }
   ],
   "source": [
    "scores = personalizedMetric('Baseline', y_test, clf_predict)\n",
    "scores = personalizedMetric('Baseline Without SMOTE', y_test, clf_predict_no_smote, scores=scores)\n",
    "scores"
   ]
  },
  {
   "cell_type": "code",
   "execution_count": 32,
   "metadata": {},
   "outputs": [
    {
     "data": {
      "image/png": "[encoded data removed]",
      "text/plain": [
       "<Figure size 720x360 with 1 Axes>"
      ]
     },
     "metadata": {
      "needs_background": "light"
     },
     "output_type": "display_data"
    }
   ],
   "source": [
    "comparaison(scores, type_='SMOTE', model='Baseline')"
   ]
  },
  {
   "cell_type": "markdown",
   "metadata": {},
   "source": [
    "As we can see here, without SMOTE the model does not seem to take into account the \"1\" class, the prediction looks good in general, but we are missing 1 class"
   ]
  },
  {
   "cell_type": "markdown",
   "metadata": {},
   "source": [
    "### Features importance"
   ]
  },
  {
   "cell_type": "code",
   "execution_count": null,
   "metadata": {},
   "outputs": [],
   "source": []
  },
  {
   "cell_type": "markdown",
   "metadata": {},
   "source": [
    "## Random Forest"
   ]
  },
  {
   "cell_type": "code",
   "execution_count": 33,
   "metadata": {},
   "outputs": [],
   "source": [
    "from sklearn.model_selection import RandomizedSearchCV"
   ]
  },
  {
   "cell_type": "markdown",
   "metadata": {},
   "source": [
    "### Training"
   ]
  },
  {
   "cell_type": "markdown",
   "metadata": {},
   "source": [
    "#### Without SMOTE"
   ]
  },
  {
   "cell_type": "code",
   "execution_count": 34,
   "metadata": {},
   "outputs": [
    {
     "name": "stdout",
     "output_type": "stream",
     "text": [
      "Fitting 3 folds for each of 10 candidates, totalling 30 fits\n"
     ]
    },
    {
     "name": "stderr",
     "output_type": "stream",
     "text": [
      "[Parallel(n_jobs=-1)]: Using backend LokyBackend with 12 concurrent workers.\n",
      "[Parallel(n_jobs=-1)]: Done  23 out of  30 | elapsed:   55.0s remaining:   16.7s\n",
      "[Parallel(n_jobs=-1)]: Done  30 out of  30 | elapsed:  1.0min finished\n"
     ]
    },
    {
     "name": "stdout",
     "output_type": "stream",
     "text": [
      "\n",
      "\n",
      "Function elapsed in:  77.5338597 s\n"
     ]
    },
    {
     "data": {
      "text/plain": [
       "{'n_estimators': 500,\n",
       " 'min_samples_split': 2,\n",
       " 'min_samples_leaf': 1,\n",
       " 'max_depth': 16,\n",
       " 'bootstrap': False}"
      ]
     },
     "execution_count": 34,
     "metadata": {},
     "output_type": "execute_result"
    }
   ],
   "source": [
    "# Nombre d'arbres dans la forêt\n",
    "n_estimators = [int(x) for x in np.linspace(start=500, stop=2000, num=10)]\n",
    "# Level max des arbres\n",
    "max_depth = [int(x) for x in np.linspace(10, 20, num=10)]\n",
    "max_depth.append(None)\n",
    "# nombre de sample min pour split\n",
    "min_samples_split = [2, 5]\n",
    "# Minimum number of samples required at each leaf node\n",
    "min_samples_leaf = [1, 2]\n",
    "# Method of selecting samples for training each tree\n",
    "bootstrap = [True, False]\n",
    "\n",
    "# On crée la random grid\n",
    "random_grid = {'n_estimators': n_estimators,\n",
    "               'max_depth': max_depth,\n",
    "               'min_samples_split': min_samples_split,\n",
    "               'min_samples_leaf': min_samples_leaf,\n",
    "               'bootstrap': bootstrap}\n",
    "\n",
    "t0 = time.perf_counter()\n",
    "\n",
    "rfc_no_smote = RandomForestClassifier()\n",
    "\n",
    "# On recherche avec 100 combinaisons différentes \n",
    "rfc_no_smote = RandomizedSearchCV(estimator=rfc_no_smote, param_distributions=random_grid, n_iter=10, \n",
    "                               cv=3, verbose=2, random_state=42, n_jobs=-1)\n",
    "\n",
    "# On fit\n",
    "rfc_no_smote.fit(x_train, y_train)\n",
    "\n",
    "t1 = time.perf_counter()\n",
    "print(\"\\n\")\n",
    "print ('Function elapsed in: ', t1-t0, 's')\n",
    "\n",
    "rfc_no_smote.best_params_"
   ]
  },
  {
   "cell_type": "code",
   "execution_count": 35,
   "metadata": {},
   "outputs": [
    {
     "name": "stdout",
     "output_type": "stream",
     "text": [
      "\n",
      "\n",
      "Function elapsed in:  2.208068200000014 s\n"
     ]
    }
   ],
   "source": [
    "t0 = time.perf_counter()\n",
    "\n",
    "rf_no_smote = RandomForestClassifier(n_estimators = list(rfc_no_smote.best_params_.values())[0],\n",
    "                                     min_samples_split = list(rfc_no_smote.best_params_.values())[1],\n",
    "                                     min_samples_leaf=list(rfc_no_smote.best_params_.values())[2],\n",
    "                                     max_depth = list(rfc_no_smote.best_params_.values())[3],\n",
    "                                     bootstrap=list(rfc_no_smote.best_params_.values())[4],\n",
    "                                     n_jobs = -1)\n",
    "rf_no_smote.fit(x_train, y_train)\n",
    "# on prédit\n",
    "y_predict_no_smote = rf_no_smote.predict_proba(x_test)\n",
    "\n",
    "t1 = time.perf_counter()\n",
    "print(\"\\n\")\n",
    "print ('Function elapsed in: ', t1-t0, 's')\n",
    "\n",
    "y_predict_df_no_smote = pd.DataFrame(y_predict_no_smote, index=y_test.index, columns=['Class0', 'Class1'])"
   ]
  },
  {
   "cell_type": "markdown",
   "metadata": {},
   "source": [
    "Partie à revoir concernant les proba"
   ]
  },
  {
   "cell_type": "code",
   "execution_count": 36,
   "metadata": {},
   "outputs": [
    {
     "data": {
      "image/png": "[encoded data removed]",
      "text/plain": [
       "<Figure size 432x288 with 1 Axes>"
      ]
     },
     "metadata": {
      "needs_background": "light"
     },
     "output_type": "display_data"
    }
   ],
   "source": [
    "class1_1 = y_predict_df_no_smote['Class0']\n",
    "class2_1 = y_predict_df_no_smote['Class1']\n",
    "\n",
    "fig, ax = plt.subplots()\n",
    "ax.bar(0, np.hstack(([class1_1[:-1], [0]])))\n",
    "ax.bar(1,  np.hstack(([class2_1[:-1], [0]])))\n",
    "plt.ylim([0, 1])\n",
    "ax.set_xticks([0, 1])\n",
    "ax.set_xticklabels(y_predict_df_no_smote.columns)\n",
    "plt.tight_layout()\n",
    "plt.show()"
   ]
  },
  {
   "cell_type": "code",
   "execution_count": 37,
   "metadata": {},
   "outputs": [
    {
     "data": {
      "text/plain": [
       "array([0.84407919, 0.95833614, 0.8908791 , ..., 0.95556503, 0.97747712,\n",
       "       0.        ])"
      ]
     },
     "execution_count": 37,
     "metadata": {},
     "output_type": "execute_result"
    }
   ],
   "source": [
    "np.hstack(([class1_1[:-1], [0]]))"
   ]
  },
  {
   "cell_type": "code",
   "execution_count": 38,
   "metadata": {},
   "outputs": [],
   "source": [
    "y_predict_no_smote = np.where(y_predict_no_smote[:,0] > 0.5, 0, 1)"
   ]
  },
  {
   "cell_type": "markdown",
   "metadata": {},
   "source": [
    "#### With SMOTE"
   ]
  },
  {
   "cell_type": "code",
   "execution_count": 39,
   "metadata": {},
   "outputs": [
    {
     "name": "stdout",
     "output_type": "stream",
     "text": [
      "Fitting 3 folds for each of 10 candidates, totalling 30 fits\n"
     ]
    },
    {
     "name": "stderr",
     "output_type": "stream",
     "text": [
      "[Parallel(n_jobs=-1)]: Using backend LokyBackend with 12 concurrent workers.\n",
      "[Parallel(n_jobs=-1)]: Done  23 out of  30 | elapsed:   53.0s remaining:   16.1s\n",
      "[Parallel(n_jobs=-1)]: Done  30 out of  30 | elapsed:   59.1s finished\n"
     ]
    },
    {
     "name": "stdout",
     "output_type": "stream",
     "text": [
      "\n",
      "\n",
      "Function elapsed in:  100.05464820000009 s\n"
     ]
    },
    {
     "data": {
      "text/plain": [
       "{'n_estimators': 1333,\n",
       " 'min_samples_split': 5,\n",
       " 'min_samples_leaf': 1,\n",
       " 'max_depth': 20,\n",
       " 'bootstrap': False}"
      ]
     },
     "execution_count": 39,
     "metadata": {},
     "output_type": "execute_result"
    }
   ],
   "source": [
    "# Nombre d'arbres dans la forêt\n",
    "n_estimators = [int(x) for x in np.linspace(start=500, stop=2000, num=10)]\n",
    "# Level max des arbres\n",
    "max_depth = [int(x) for x in np.linspace(10, 20, num=10)]\n",
    "max_depth.append(None)\n",
    "# nombre de sample min pour split\n",
    "min_samples_split = [2, 5]\n",
    "# Minimum number of samples required at each leaf node\n",
    "min_samples_leaf = [1, 2]\n",
    "# Method of selecting samples for training each tree\n",
    "bootstrap = [True, False]\n",
    "\n",
    "# On crée la random grid\n",
    "random_grid = {'n_estimators': n_estimators,\n",
    "               'max_depth': max_depth,\n",
    "               'min_samples_split': min_samples_split,\n",
    "               'min_samples_leaf': min_samples_leaf,\n",
    "               'bootstrap': bootstrap}\n",
    "\n",
    "t0 = time.perf_counter()\n",
    "\n",
    "rfc = RandomForestClassifier()\n",
    "\n",
    "# On recherche avec 100 combinaisons différentes \n",
    "rfc = RandomizedSearchCV(estimator=rfc, param_distributions=random_grid, n_iter=10, \n",
    "                               cv=3, verbose=2, random_state=42, n_jobs=-1)\n",
    "\n",
    "# On fit\n",
    "rfc.fit(x_sample, y_sample)\n",
    "\n",
    "t1 = time.perf_counter()\n",
    "print(\"\\n\")\n",
    "print ('Function elapsed in: ', t1-t0, 's')\n",
    "\n",
    "rfc.best_params_"
   ]
  },
  {
   "cell_type": "code",
   "execution_count": 40,
   "metadata": {},
   "outputs": [
    {
     "name": "stdout",
     "output_type": "stream",
     "text": [
      "\n",
      "\n",
      "Function elapsed in:  7.666854600000079 s\n"
     ]
    }
   ],
   "source": [
    "t0 = time.perf_counter()\n",
    "\n",
    "rf = RandomForestClassifier(n_estimators = list(rfc.best_params_.values())[0],\n",
    "                             min_samples_split = list(rfc.best_params_.values())[1],\n",
    "                             min_samples_leaf=list(rfc.best_params_.values())[2],\n",
    "                             max_depth = list(rfc.best_params_.values())[3],\n",
    "                             bootstrap=list(rfc.best_params_.values())[4],\n",
    "                             n_jobs = -1)\n",
    "rf.fit(x_sample, y_sample)\n",
    "# on prédit\n",
    "y_predict = rf.predict_proba(x_test)\n",
    "\n",
    "t1 = time.perf_counter()\n",
    "print(\"\\n\")\n",
    "print ('Function elapsed in: ', t1-t0, 's')\n",
    "\n",
    "y_predict_df = pd.DataFrame(y_predict, index=y_test.index, columns=['Class0', 'Class1'])"
   ]
  },
  {
   "cell_type": "code",
   "execution_count": 41,
   "metadata": {},
   "outputs": [],
   "source": [
    "y_predict = np.where(y_predict[:,0] > 0.5, 0, 1)"
   ]
  },
  {
   "cell_type": "markdown",
   "metadata": {},
   "source": [
    "### Performances"
   ]
  },
  {
   "cell_type": "code",
   "execution_count": 42,
   "metadata": {},
   "outputs": [
    {
     "data": {
      "text/html": [
       "<div>\n",
       "<style scoped>\n",
       "    .dataframe tbody tr th:only-of-type {\n",
       "        vertical-align: middle;\n",
       "    }\n",
       "\n",
       "    .dataframe tbody tr th {\n",
       "        vertical-align: top;\n",
       "    }\n",
       "\n",
       "    .dataframe thead th {\n",
       "        text-align: right;\n",
       "    }\n",
       "</style>\n",
       "<table border=\"1\" class=\"dataframe\">\n",
       "  <thead>\n",
       "    <tr style=\"text-align: right;\">\n",
       "      <th></th>\n",
       "      <th>Model</th>\n",
       "      <th>Score</th>\n",
       "      <th>false_positive</th>\n",
       "      <th>false_negative</th>\n",
       "      <th>good_pred</th>\n",
       "      <th>f1_score</th>\n",
       "      <th>AUC</th>\n",
       "    </tr>\n",
       "  </thead>\n",
       "  <tbody>\n",
       "    <tr>\n",
       "      <th>0</th>\n",
       "      <td>Baseline</td>\n",
       "      <td>21898</td>\n",
       "      <td>6993</td>\n",
       "      <td>2981</td>\n",
       "      <td>51529</td>\n",
       "      <td>0.595769</td>\n",
       "      <td>0.637002</td>\n",
       "    </tr>\n",
       "    <tr>\n",
       "      <th>1</th>\n",
       "      <td>Baseline Without SMOTE</td>\n",
       "      <td>24542</td>\n",
       "      <td>57</td>\n",
       "      <td>4897</td>\n",
       "      <td>56549</td>\n",
       "      <td>0.489280</td>\n",
       "      <td>0.504750</td>\n",
       "    </tr>\n",
       "    <tr>\n",
       "      <th>2</th>\n",
       "      <td>Random Forest</td>\n",
       "      <td>22555</td>\n",
       "      <td>3185</td>\n",
       "      <td>3874</td>\n",
       "      <td>54444</td>\n",
       "      <td>0.585718</td>\n",
       "      <td>0.580449</td>\n",
       "    </tr>\n",
       "    <tr>\n",
       "      <th>3</th>\n",
       "      <td>Random Forest Without SMOTE</td>\n",
       "      <td>24412</td>\n",
       "      <td>142</td>\n",
       "      <td>4854</td>\n",
       "      <td>56507</td>\n",
       "      <td>0.497117</td>\n",
       "      <td>0.508342</td>\n",
       "    </tr>\n",
       "  </tbody>\n",
       "</table>\n",
       "</div>"
      ],
      "text/plain": [
       "                         Model  Score false_positive false_negative good_pred  \\\n",
       "0                     Baseline  21898           6993           2981     51529   \n",
       "1       Baseline Without SMOTE  24542             57           4897     56549   \n",
       "2                Random Forest  22555           3185           3874     54444   \n",
       "3  Random Forest Without SMOTE  24412            142           4854     56507   \n",
       "\n",
       "   f1_score       AUC  \n",
       "0  0.595769  0.637002  \n",
       "1  0.489280  0.504750  \n",
       "2  0.585718  0.580449  \n",
       "3  0.497117  0.508342  "
      ]
     },
     "execution_count": 42,
     "metadata": {},
     "output_type": "execute_result"
    }
   ],
   "source": [
    "scores = personalizedMetric('Random Forest', y_test, y_predict, scores=scores)\n",
    "scores = personalizedMetric('Random Forest Without SMOTE', y_test, y_predict_no_smote, scores=scores)\n",
    "scores"
   ]
  },
  {
   "cell_type": "code",
   "execution_count": 43,
   "metadata": {},
   "outputs": [
    {
     "data": {
      "image/png": "[encoded data removed]",
      "text/plain": [
       "<Figure size 720x360 with 1 Axes>"
      ]
     },
     "metadata": {
      "needs_background": "light"
     },
     "output_type": "display_data"
    }
   ],
   "source": [
    "comparaison(scores, type_='SMOTE', model='Random Forest')"
   ]
  },
  {
   "cell_type": "markdown",
   "metadata": {},
   "source": [
    "### Features importance"
   ]
  },
  {
   "cell_type": "code",
   "execution_count": 44,
   "metadata": {},
   "outputs": [
    {
     "data": {
      "image/png": "[encoded data removed]",
      "text/plain": [
       "<Figure size 2160x720 with 1 Axes>"
      ]
     },
     "metadata": {
      "needs_background": "light"
     },
     "output_type": "display_data"
    }
   ],
   "source": [
    "importances = rf.feature_importances_\n",
    "std = np.std([tree.feature_importances_ for tree in rf.estimators_],\n",
    "             axis=0)\n",
    "indices = np.argsort(importances)[::-1]\n",
    "\n",
    "# Plot the impurity-based feature importances of the forest\n",
    "plt.figure(figsize=(30,10))\n",
    "plt.title(\"Feature importances\")\n",
    "plt.bar(range(x_sample.shape[1]), importances[indices],\n",
    "        color=\"r\", yerr=std[indices], align=\"center\")\n",
    "plt.xticks(range(x_sample.shape[1]), indices)\n",
    "plt.xlim([-1, x_sample.shape[1]])\n",
    "plt.show()"
   ]
  },
  {
   "cell_type": "markdown",
   "metadata": {},
   "source": [
    "## XGBoost"
   ]
  },
  {
   "cell_type": "code",
   "execution_count": 107,
   "metadata": {},
   "outputs": [],
   "source": [
    "import xgboost as xgb"
   ]
  },
  {
   "cell_type": "code",
   "execution_count": 108,
   "metadata": {},
   "outputs": [],
   "source": [
    "dxsample = xgb.DMatrix(x_sample, label=y_sample)\n",
    "dtrain  = xgb.DMatrix(x_train, label=y_train)\n",
    "dtest = xgb.DMatrix(x_test, label=y_test)"
   ]
  },
  {
   "cell_type": "code",
   "execution_count": 109,
   "metadata": {},
   "outputs": [],
   "source": [
    "param = {'learning_rate':0.05, 'max_depth':20, 'min_child_weight':40,\n",
    "         'eta': 1, 'objective': 'binary:logistic'}\n",
    "param['nthread'] = 4\n",
    "param['eval_metric'] = 'auc'"
   ]
  },
  {
   "cell_type": "markdown",
   "metadata": {},
   "source": [
    "### Training"
   ]
  },
  {
   "cell_type": "markdown",
   "metadata": {},
   "source": [
    "#### Without SMOTE"
   ]
  },
  {
   "cell_type": "code",
   "execution_count": 110,
   "metadata": {},
   "outputs": [],
   "source": [
    "num_round = 10\n",
    "bst_no_smote = xgb.train(param, dtrain, num_round)"
   ]
  },
  {
   "cell_type": "code",
   "execution_count": 111,
   "metadata": {},
   "outputs": [],
   "source": [
    "ypred_no_smote = bst_no_smote.predict(dtest)\n",
    "ypred_df_no_smote = pd.DataFrame(ypred_no_smote, index=y_test.index, columns=['Predict'])\n",
    "ypred_df_no_smote['Predict_bool'] = np.where(ypred_df_no_smote['Predict']>0.50, 1, 0)\n",
    "ypred_no_smote_ = ypred_df_no_smote['Predict']"
   ]
  },
  {
   "cell_type": "markdown",
   "metadata": {},
   "source": [
    "#### With SMOTE"
   ]
  },
  {
   "cell_type": "code",
   "execution_count": 50,
   "metadata": {},
   "outputs": [],
   "source": [
    "num_round = 10\n",
    "bst = xgb.train(param, dxsample, num_round)"
   ]
  },
  {
   "cell_type": "code",
   "execution_count": 51,
   "metadata": {},
   "outputs": [],
   "source": [
    "ypred = bst.predict(dtest)\n",
    "ypred_df = pd.DataFrame(ypred, index=y_test.index, columns=['Predict'])\n",
    "ypred_df['Predict_bool'] = np.where(ypred_df['Predict']>0.50, 1, 0)\n",
    "ypred_ = ypred_df['Predict']"
   ]
  },
  {
   "cell_type": "code",
   "execution_count": 52,
   "metadata": {},
   "outputs": [],
   "source": [
    "# Load model saved, usefull for after\n",
    "#bst = xgb.Booster({'nthread': 4})  # init model\n",
    "#bst.load_model('model.bin')  # load data"
   ]
  },
  {
   "cell_type": "markdown",
   "metadata": {},
   "source": [
    "### Performances"
   ]
  },
  {
   "cell_type": "code",
   "execution_count": 53,
   "metadata": {},
   "outputs": [
    {
     "data": {
      "text/html": [
       "<div>\n",
       "<style scoped>\n",
       "    .dataframe tbody tr th:only-of-type {\n",
       "        vertical-align: middle;\n",
       "    }\n",
       "\n",
       "    .dataframe tbody tr th {\n",
       "        vertical-align: top;\n",
       "    }\n",
       "\n",
       "    .dataframe thead th {\n",
       "        text-align: right;\n",
       "    }\n",
       "</style>\n",
       "<table border=\"1\" class=\"dataframe\">\n",
       "  <thead>\n",
       "    <tr style=\"text-align: right;\">\n",
       "      <th></th>\n",
       "      <th>Model</th>\n",
       "      <th>Score</th>\n",
       "      <th>false_positive</th>\n",
       "      <th>false_negative</th>\n",
       "      <th>good_pred</th>\n",
       "      <th>f1_score</th>\n",
       "      <th>AUC</th>\n",
       "    </tr>\n",
       "  </thead>\n",
       "  <tbody>\n",
       "    <tr>\n",
       "      <th>0</th>\n",
       "      <td>Baseline</td>\n",
       "      <td>21898</td>\n",
       "      <td>6993</td>\n",
       "      <td>2981</td>\n",
       "      <td>51529</td>\n",
       "      <td>0.595769</td>\n",
       "      <td>0.637002</td>\n",
       "    </tr>\n",
       "    <tr>\n",
       "      <th>1</th>\n",
       "      <td>Baseline Without SMOTE</td>\n",
       "      <td>24542</td>\n",
       "      <td>57</td>\n",
       "      <td>4897</td>\n",
       "      <td>56549</td>\n",
       "      <td>0.489280</td>\n",
       "      <td>0.504750</td>\n",
       "    </tr>\n",
       "    <tr>\n",
       "      <th>2</th>\n",
       "      <td>Random Forest</td>\n",
       "      <td>22555</td>\n",
       "      <td>3185</td>\n",
       "      <td>3874</td>\n",
       "      <td>54444</td>\n",
       "      <td>0.585718</td>\n",
       "      <td>0.580449</td>\n",
       "    </tr>\n",
       "    <tr>\n",
       "      <th>3</th>\n",
       "      <td>Random Forest Without SMOTE</td>\n",
       "      <td>24412</td>\n",
       "      <td>142</td>\n",
       "      <td>4854</td>\n",
       "      <td>56507</td>\n",
       "      <td>0.497117</td>\n",
       "      <td>0.508342</td>\n",
       "    </tr>\n",
       "    <tr>\n",
       "      <th>4</th>\n",
       "      <td>XGBoost</td>\n",
       "      <td>23492</td>\n",
       "      <td>5312</td>\n",
       "      <td>3636</td>\n",
       "      <td>52555</td>\n",
       "      <td>0.573294</td>\n",
       "      <td>0.585689</td>\n",
       "    </tr>\n",
       "    <tr>\n",
       "      <th>5</th>\n",
       "      <td>XGBoost Without SMOTE</td>\n",
       "      <td>24745</td>\n",
       "      <td>0</td>\n",
       "      <td>4949</td>\n",
       "      <td>56554</td>\n",
       "      <td>0.479040</td>\n",
       "      <td>0.500000</td>\n",
       "    </tr>\n",
       "  </tbody>\n",
       "</table>\n",
       "</div>"
      ],
      "text/plain": [
       "                         Model  Score false_positive false_negative good_pred  \\\n",
       "0                     Baseline  21898           6993           2981     51529   \n",
       "1       Baseline Without SMOTE  24542             57           4897     56549   \n",
       "2                Random Forest  22555           3185           3874     54444   \n",
       "3  Random Forest Without SMOTE  24412            142           4854     56507   \n",
       "4                      XGBoost  23492           5312           3636     52555   \n",
       "5        XGBoost Without SMOTE  24745              0           4949     56554   \n",
       "\n",
       "   f1_score       AUC  \n",
       "0  0.595769  0.637002  \n",
       "1  0.489280  0.504750  \n",
       "2  0.585718  0.580449  \n",
       "3  0.497117  0.508342  \n",
       "4  0.573294  0.585689  \n",
       "5  0.479040  0.500000  "
      ]
     },
     "execution_count": 53,
     "metadata": {},
     "output_type": "execute_result"
    }
   ],
   "source": [
    "scores = personalizedMetric('XGBoost', y_test, ypred_df['Predict_bool'], scores=scores)\n",
    "scores = personalizedMetric('XGBoost Without SMOTE', y_test, ypred_df_no_smote['Predict_bool'], scores=scores)\n",
    "scores"
   ]
  },
  {
   "cell_type": "code",
   "execution_count": 54,
   "metadata": {},
   "outputs": [
    {
     "data": {
      "image/png": "[encoded data removed]",
      "text/plain": [
       "<Figure size 720x360 with 1 Axes>"
      ]
     },
     "metadata": {
      "needs_background": "light"
     },
     "output_type": "display_data"
    }
   ],
   "source": [
    "comparaison(scores, type_='SMOTE', model='XGBoost')"
   ]
  },
  {
   "cell_type": "markdown",
   "metadata": {},
   "source": [
    "### Features importance"
   ]
  },
  {
   "cell_type": "code",
   "execution_count": 55,
   "metadata": {},
   "outputs": [
    {
     "data": {
      "text/plain": [
       "[]"
      ]
     },
     "execution_count": 55,
     "metadata": {},
     "output_type": "execute_result"
    },
    {
     "data": {
      "image/png": "[encoded data removed]",
      "text/plain": [
       "<Figure size 432x288 with 1 Axes>"
      ]
     },
     "metadata": {
      "needs_background": "light"
     },
     "output_type": "display_data"
    }
   ],
   "source": [
    "xgb.plot_importance(bst)\n",
    "plt.plot()"
   ]
  },
  {
   "cell_type": "markdown",
   "metadata": {},
   "source": [
    "The model is less effective if we watch only the accuracy score, but it understands better the problem and this time predict not only 0 values, but also 1 values"
   ]
  },
  {
   "cell_type": "code",
   "execution_count": 56,
   "metadata": {},
   "outputs": [
    {
     "data": {
      "text/html": [
       "<div>\n",
       "<style scoped>\n",
       "    .dataframe tbody tr th:only-of-type {\n",
       "        vertical-align: middle;\n",
       "    }\n",
       "\n",
       "    .dataframe tbody tr th {\n",
       "        vertical-align: top;\n",
       "    }\n",
       "\n",
       "    .dataframe thead th {\n",
       "        text-align: right;\n",
       "    }\n",
       "</style>\n",
       "<table border=\"1\" class=\"dataframe\">\n",
       "  <thead>\n",
       "    <tr style=\"text-align: right;\">\n",
       "      <th></th>\n",
       "      <th>TARGET</th>\n",
       "      <th>Predict</th>\n",
       "      <th>Predict_bool</th>\n",
       "    </tr>\n",
       "    <tr>\n",
       "      <th>SK_ID_CURR</th>\n",
       "      <th></th>\n",
       "      <th></th>\n",
       "      <th></th>\n",
       "    </tr>\n",
       "  </thead>\n",
       "  <tbody>\n",
       "    <tr>\n",
       "      <th>134561</th>\n",
       "      <td>1</td>\n",
       "      <td>0.438628</td>\n",
       "      <td>0</td>\n",
       "    </tr>\n",
       "    <tr>\n",
       "      <th>120952</th>\n",
       "      <td>1</td>\n",
       "      <td>0.474339</td>\n",
       "      <td>0</td>\n",
       "    </tr>\n",
       "    <tr>\n",
       "      <th>231929</th>\n",
       "      <td>1</td>\n",
       "      <td>0.455137</td>\n",
       "      <td>0</td>\n",
       "    </tr>\n",
       "    <tr>\n",
       "      <th>138839</th>\n",
       "      <td>1</td>\n",
       "      <td>0.431670</td>\n",
       "      <td>0</td>\n",
       "    </tr>\n",
       "    <tr>\n",
       "      <th>368698</th>\n",
       "      <td>1</td>\n",
       "      <td>0.455640</td>\n",
       "      <td>0</td>\n",
       "    </tr>\n",
       "    <tr>\n",
       "      <th>...</th>\n",
       "      <td>...</td>\n",
       "      <td>...</td>\n",
       "      <td>...</td>\n",
       "    </tr>\n",
       "    <tr>\n",
       "      <th>255597</th>\n",
       "      <td>1</td>\n",
       "      <td>0.483424</td>\n",
       "      <td>0</td>\n",
       "    </tr>\n",
       "    <tr>\n",
       "      <th>449805</th>\n",
       "      <td>1</td>\n",
       "      <td>0.488470</td>\n",
       "      <td>0</td>\n",
       "    </tr>\n",
       "    <tr>\n",
       "      <th>410732</th>\n",
       "      <td>1</td>\n",
       "      <td>0.430170</td>\n",
       "      <td>0</td>\n",
       "    </tr>\n",
       "    <tr>\n",
       "      <th>148483</th>\n",
       "      <td>1</td>\n",
       "      <td>0.405515</td>\n",
       "      <td>0</td>\n",
       "    </tr>\n",
       "    <tr>\n",
       "      <th>328006</th>\n",
       "      <td>1</td>\n",
       "      <td>0.479151</td>\n",
       "      <td>0</td>\n",
       "    </tr>\n",
       "  </tbody>\n",
       "</table>\n",
       "<p>2118 rows × 3 columns</p>\n",
       "</div>"
      ],
      "text/plain": [
       "            TARGET   Predict  Predict_bool\n",
       "SK_ID_CURR                                \n",
       "134561           1  0.438628             0\n",
       "120952           1  0.474339             0\n",
       "231929           1  0.455137             0\n",
       "138839           1  0.431670             0\n",
       "368698           1  0.455640             0\n",
       "...            ...       ...           ...\n",
       "255597           1  0.483424             0\n",
       "449805           1  0.488470             0\n",
       "410732           1  0.430170             0\n",
       "148483           1  0.405515             0\n",
       "328006           1  0.479151             0\n",
       "\n",
       "[2118 rows x 3 columns]"
      ]
     },
     "execution_count": 56,
     "metadata": {},
     "output_type": "execute_result"
    }
   ],
   "source": [
    "test = pd.merge(y_test, ypred_df, left_index=True, right_index=True, how='inner')\n",
    "test[(test['Predict'] >= 0.4) & (test['Predict'] <= 0.49) & test['TARGET'] == 1]"
   ]
  },
  {
   "cell_type": "markdown",
   "metadata": {},
   "source": [
    "There is 554 values that are wrongly predicted, but with average probability between 0.4 and 0.49 ; We need to go deeper into those values to see where the model could perform better"
   ]
  },
  {
   "cell_type": "markdown",
   "metadata": {},
   "source": [
    "# Best Model"
   ]
  },
  {
   "cell_type": "markdown",
   "metadata": {},
   "source": [
    "Let's see our DataFrame with the personalized metric:"
   ]
  },
  {
   "cell_type": "code",
   "execution_count": 57,
   "metadata": {},
   "outputs": [
    {
     "data": {
      "text/html": [
       "<div>\n",
       "<style scoped>\n",
       "    .dataframe tbody tr th:only-of-type {\n",
       "        vertical-align: middle;\n",
       "    }\n",
       "\n",
       "    .dataframe tbody tr th {\n",
       "        vertical-align: top;\n",
       "    }\n",
       "\n",
       "    .dataframe thead th {\n",
       "        text-align: right;\n",
       "    }\n",
       "</style>\n",
       "<table border=\"1\" class=\"dataframe\">\n",
       "  <thead>\n",
       "    <tr style=\"text-align: right;\">\n",
       "      <th></th>\n",
       "      <th>Model</th>\n",
       "      <th>Score</th>\n",
       "      <th>false_positive</th>\n",
       "      <th>false_negative</th>\n",
       "      <th>good_pred</th>\n",
       "      <th>f1_score</th>\n",
       "      <th>AUC</th>\n",
       "    </tr>\n",
       "  </thead>\n",
       "  <tbody>\n",
       "    <tr>\n",
       "      <th>0</th>\n",
       "      <td>Baseline</td>\n",
       "      <td>21898</td>\n",
       "      <td>6993</td>\n",
       "      <td>2981</td>\n",
       "      <td>51529</td>\n",
       "      <td>0.595769</td>\n",
       "      <td>0.637002</td>\n",
       "    </tr>\n",
       "    <tr>\n",
       "      <th>1</th>\n",
       "      <td>Baseline Without SMOTE</td>\n",
       "      <td>24542</td>\n",
       "      <td>57</td>\n",
       "      <td>4897</td>\n",
       "      <td>56549</td>\n",
       "      <td>0.489280</td>\n",
       "      <td>0.504750</td>\n",
       "    </tr>\n",
       "    <tr>\n",
       "      <th>2</th>\n",
       "      <td>Random Forest</td>\n",
       "      <td>22555</td>\n",
       "      <td>3185</td>\n",
       "      <td>3874</td>\n",
       "      <td>54444</td>\n",
       "      <td>0.585718</td>\n",
       "      <td>0.580449</td>\n",
       "    </tr>\n",
       "    <tr>\n",
       "      <th>3</th>\n",
       "      <td>Random Forest Without SMOTE</td>\n",
       "      <td>24412</td>\n",
       "      <td>142</td>\n",
       "      <td>4854</td>\n",
       "      <td>56507</td>\n",
       "      <td>0.497117</td>\n",
       "      <td>0.508342</td>\n",
       "    </tr>\n",
       "    <tr>\n",
       "      <th>4</th>\n",
       "      <td>XGBoost</td>\n",
       "      <td>23492</td>\n",
       "      <td>5312</td>\n",
       "      <td>3636</td>\n",
       "      <td>52555</td>\n",
       "      <td>0.573294</td>\n",
       "      <td>0.585689</td>\n",
       "    </tr>\n",
       "    <tr>\n",
       "      <th>5</th>\n",
       "      <td>XGBoost Without SMOTE</td>\n",
       "      <td>24745</td>\n",
       "      <td>0</td>\n",
       "      <td>4949</td>\n",
       "      <td>56554</td>\n",
       "      <td>0.479040</td>\n",
       "      <td>0.500000</td>\n",
       "    </tr>\n",
       "  </tbody>\n",
       "</table>\n",
       "</div>"
      ],
      "text/plain": [
       "                         Model  Score false_positive false_negative good_pred  \\\n",
       "0                     Baseline  21898           6993           2981     51529   \n",
       "1       Baseline Without SMOTE  24542             57           4897     56549   \n",
       "2                Random Forest  22555           3185           3874     54444   \n",
       "3  Random Forest Without SMOTE  24412            142           4854     56507   \n",
       "4                      XGBoost  23492           5312           3636     52555   \n",
       "5        XGBoost Without SMOTE  24745              0           4949     56554   \n",
       "\n",
       "   f1_score       AUC  \n",
       "0  0.595769  0.637002  \n",
       "1  0.489280  0.504750  \n",
       "2  0.585718  0.580449  \n",
       "3  0.497117  0.508342  \n",
       "4  0.573294  0.585689  \n",
       "5  0.479040  0.500000  "
      ]
     },
     "execution_count": 57,
     "metadata": {},
     "output_type": "execute_result"
    }
   ],
   "source": [
    "scores"
   ]
  },
  {
   "cell_type": "code",
   "execution_count": 58,
   "metadata": {},
   "outputs": [
    {
     "data": {
      "image/png": "[encoded data removed]",
      "text/plain": [
       "<Figure size 720x360 with 1 Axes>"
      ]
     },
     "metadata": {
      "needs_background": "light"
     },
     "output_type": "display_data"
    }
   ],
   "source": [
    "comparaison(scores, type_='MODEL')"
   ]
  },
  {
   "cell_type": "markdown",
   "metadata": {},
   "source": [
    "The best model is the XGBoost model. The thing here is to reduce the number of false negative, in order for the bank to avoid loosing money. <br/>\n",
    "So even if the number of good prediction is higher with the random forest (and even the baseline), XGBoost performs better in term of saving money"
   ]
  },
  {
   "cell_type": "markdown",
   "metadata": {},
   "source": [
    "# Model Saving"
   ]
  },
  {
   "cell_type": "code",
   "execution_count": 71,
   "metadata": {},
   "outputs": [],
   "source": [
    "bst.save_model('0001.model')\n",
    "# bst.load_model('0001.model') for loading"
   ]
  },
  {
   "cell_type": "code",
   "execution_count": 72,
   "metadata": {},
   "outputs": [],
   "source": [
    "predictions = bst.predict(dtest)"
   ]
  },
  {
   "cell_type": "code",
   "execution_count": 73,
   "metadata": {},
   "outputs": [],
   "source": [
    "pred_df = pd.DataFrame(predictions, index=x_test.index, columns=['Predict'])\n",
    "pred_df['Predict_bool'] = np.where(pred_df['Predict']>0.50, 1, 0)\n",
    "pred_df = pd.merge(x_test, pred_df, left_index=True, right_index=True, how='inner')"
   ]
  }
 ],
 "metadata": {
  "kernelspec": {
   "display_name": "Python 3",
   "language": "python",
   "name": "python3"
  },
  "language_info": {
   "codemirror_mode": {
    "name": "ipython",
    "version": 3
   },
   "file_extension": ".py",
   "mimetype": "text/x-python",
   "name": "python",
   "nbconvert_exporter": "python",
   "pygments_lexer": "ipython3",
   "version": "3.7.6"
  },
  "toc": {
   "base_numbering": 1,
   "nav_menu": {},
   "number_sections": true,
   "sideBar": true,
   "skip_h1_title": false,
   "title_cell": "Table of Contents",
   "title_sidebar": "Contents",
   "toc_cell": true,
   "toc_position": {
    "height": "calc(100% - 180px)",
    "left": "10px",
    "top": "150px",
    "width": "352px"
   },
   "toc_section_display": true,
   "toc_window_display": true
  },
  "varInspector": {
   "cols": {
    "lenName": 16,
    "lenType": 16,
    "lenVar": 40
   },
   "kernels_config": {
    "python": {
     "delete_cmd_postfix": "",
     "delete_cmd_prefix": "del ",
     "library": "var_list.py",
     "varRefreshCmd": "print(var_dic_list())"
    },
    "r": {
     "delete_cmd_postfix": ") ",
     "delete_cmd_prefix": "rm(",
     "library": "var_list.r",
     "varRefreshCmd": "cat(var_dic_list()) "
    }
   },
   "types_to_exclude": [
    "module",
    "function",
    "builtin_function_or_method",
    "instance",
    "_Feature"
   ],
   "window_display": false
  }
 },
 "nbformat": 4,
 "nbformat_minor": 4
}
