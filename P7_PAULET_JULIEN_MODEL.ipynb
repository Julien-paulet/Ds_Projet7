{
 "cells": [
  {
   "cell_type": "markdown",
   "metadata": {
    "toc": true
   },
   "source": [
    "<h1>Table of Contents<span class=\"tocSkip\"></span></h1>\n",
    "<div class=\"toc\"><ul class=\"toc-item\"><li><span><a href=\"#Data-Import\" data-toc-modified-id=\"Data-Import-1\"><span class=\"toc-item-num\">1&nbsp;&nbsp;</span>Data Import</a></span></li><li><span><a href=\"#Data-Preparation\" data-toc-modified-id=\"Data-Preparation-2\"><span class=\"toc-item-num\">2&nbsp;&nbsp;</span>Data Preparation</a></span></li><li><span><a href=\"#Standard-Scaler\" data-toc-modified-id=\"Standard-Scaler-3\"><span class=\"toc-item-num\">3&nbsp;&nbsp;</span>Standard Scaler</a></span></li><li><span><a href=\"#Under-&amp;-Over-Sampling\" data-toc-modified-id=\"Under-&amp;-Over-Sampling-4\"><span class=\"toc-item-num\">4&nbsp;&nbsp;</span>Under &amp; Over Sampling</a></span></li><li><span><a href=\"#Sampling-for-modelization\" data-toc-modified-id=\"Sampling-for-modelization-5\"><span class=\"toc-item-num\">5&nbsp;&nbsp;</span>Sampling for modelization</a></span></li><li><span><a href=\"#Personalized-Metric\" data-toc-modified-id=\"Personalized-Metric-6\"><span class=\"toc-item-num\">6&nbsp;&nbsp;</span>Personalized Metric</a></span></li><li><span><a href=\"#Features-Selection\" data-toc-modified-id=\"Features-Selection-7\"><span class=\"toc-item-num\">7&nbsp;&nbsp;</span>Features Selection</a></span></li><li><span><a href=\"#Modeling\" data-toc-modified-id=\"Modeling-8\"><span class=\"toc-item-num\">8&nbsp;&nbsp;</span>Modeling</a></span><ul class=\"toc-item\"><li><span><a href=\"#Logistic-Regression-(Baseline)\" data-toc-modified-id=\"Logistic-Regression-(Baseline)-8.1\"><span class=\"toc-item-num\">8.1&nbsp;&nbsp;</span>Logistic Regression (Baseline)</a></span><ul class=\"toc-item\"><li><span><a href=\"#Training\" data-toc-modified-id=\"Training-8.1.1\"><span class=\"toc-item-num\">8.1.1&nbsp;&nbsp;</span>Training</a></span><ul class=\"toc-item\"><li><span><a href=\"#Without-SMOTE\" data-toc-modified-id=\"Without-SMOTE-8.1.1.1\"><span class=\"toc-item-num\">8.1.1.1&nbsp;&nbsp;</span>Without SMOTE</a></span></li><li><span><a href=\"#With-SMOTE\" data-toc-modified-id=\"With-SMOTE-8.1.1.2\"><span class=\"toc-item-num\">8.1.1.2&nbsp;&nbsp;</span>With SMOTE</a></span></li></ul></li><li><span><a href=\"#Performances\" data-toc-modified-id=\"Performances-8.1.2\"><span class=\"toc-item-num\">8.1.2&nbsp;&nbsp;</span>Performances</a></span></li><li><span><a href=\"#Features-importance\" data-toc-modified-id=\"Features-importance-8.1.3\"><span class=\"toc-item-num\">8.1.3&nbsp;&nbsp;</span>Features importance</a></span></li></ul></li><li><span><a href=\"#Random-Forest\" data-toc-modified-id=\"Random-Forest-8.2\"><span class=\"toc-item-num\">8.2&nbsp;&nbsp;</span>Random Forest</a></span><ul class=\"toc-item\"><li><span><a href=\"#Training\" data-toc-modified-id=\"Training-8.2.1\"><span class=\"toc-item-num\">8.2.1&nbsp;&nbsp;</span>Training</a></span><ul class=\"toc-item\"><li><span><a href=\"#Without-SMOTE\" data-toc-modified-id=\"Without-SMOTE-8.2.1.1\"><span class=\"toc-item-num\">8.2.1.1&nbsp;&nbsp;</span>Without SMOTE</a></span></li><li><span><a href=\"#With-SMOTE\" data-toc-modified-id=\"With-SMOTE-8.2.1.2\"><span class=\"toc-item-num\">8.2.1.2&nbsp;&nbsp;</span>With SMOTE</a></span></li></ul></li><li><span><a href=\"#Performances\" data-toc-modified-id=\"Performances-8.2.2\"><span class=\"toc-item-num\">8.2.2&nbsp;&nbsp;</span>Performances</a></span></li><li><span><a href=\"#Features-importance\" data-toc-modified-id=\"Features-importance-8.2.3\"><span class=\"toc-item-num\">8.2.3&nbsp;&nbsp;</span>Features importance</a></span></li></ul></li><li><span><a href=\"#XGBoost\" data-toc-modified-id=\"XGBoost-8.3\"><span class=\"toc-item-num\">8.3&nbsp;&nbsp;</span>XGBoost</a></span><ul class=\"toc-item\"><li><span><a href=\"#Training\" data-toc-modified-id=\"Training-8.3.1\"><span class=\"toc-item-num\">8.3.1&nbsp;&nbsp;</span>Training</a></span><ul class=\"toc-item\"><li><span><a href=\"#Without-SMOTE\" data-toc-modified-id=\"Without-SMOTE-8.3.1.1\"><span class=\"toc-item-num\">8.3.1.1&nbsp;&nbsp;</span>Without SMOTE</a></span></li><li><span><a href=\"#With-SMOTE\" data-toc-modified-id=\"With-SMOTE-8.3.1.2\"><span class=\"toc-item-num\">8.3.1.2&nbsp;&nbsp;</span>With SMOTE</a></span></li></ul></li><li><span><a href=\"#Performances\" data-toc-modified-id=\"Performances-8.3.2\"><span class=\"toc-item-num\">8.3.2&nbsp;&nbsp;</span>Performances</a></span></li><li><span><a href=\"#Features-importance\" data-toc-modified-id=\"Features-importance-8.3.3\"><span class=\"toc-item-num\">8.3.3&nbsp;&nbsp;</span>Features importance</a></span></li></ul></li></ul></li><li><span><a href=\"#Best-Model\" data-toc-modified-id=\"Best-Model-9\"><span class=\"toc-item-num\">9&nbsp;&nbsp;</span>Best Model</a></span></li><li><span><a href=\"#Model-Saving\" data-toc-modified-id=\"Model-Saving-10\"><span class=\"toc-item-num\">10&nbsp;&nbsp;</span>Model Saving</a></span></li></ul></div>"
   ]
  },
  {
   "cell_type": "markdown",
   "metadata": {},
   "source": [
    "https://medium.com/henry-jia/how-to-score-your-credit-1c08dd73e2ed <br/>\n",
    "https://towardsdatascience.com/intro-to-credit-scorecard-9afeaaa3725f"
   ]
  },
  {
   "cell_type": "code",
   "execution_count": 1,
   "metadata": {},
   "outputs": [],
   "source": [
    "import pandas as pd\n",
    "import numpy as np\n",
    "import time\n",
    "import seaborn as sns\n",
    "import matplotlib.pyplot as plt\n",
    "import pickle\n",
    "from pickle import load\n",
    "from sklearn import metrics\n",
    "from sklearn.metrics import accuracy_score\n",
    "from sklearn.metrics import confusion_matrix"
   ]
  },
  {
   "cell_type": "code",
   "execution_count": 2,
   "metadata": {},
   "outputs": [],
   "source": [
    "np.random.seed(42)"
   ]
  },
  {
   "cell_type": "markdown",
   "metadata": {},
   "source": [
    "# Data Import"
   ]
  },
  {
   "cell_type": "code",
   "execution_count": 3,
   "metadata": {},
   "outputs": [],
   "source": [
    "application_train = pd.read_csv('input/application_train.csv')\n",
    "X = application_train.set_index('SK_ID_CURR').drop(columns=['TARGET'])\n",
    "y = application_train.set_index('SK_ID_CURR')['TARGET']"
   ]
  },
  {
   "cell_type": "markdown",
   "metadata": {},
   "source": [
    "# Data Preparation"
   ]
  },
  {
   "cell_type": "code",
   "execution_count": 4,
   "metadata": {},
   "outputs": [],
   "source": [
    "X['TERM'] = X.AMT_CREDIT / X.AMT_ANNUITY\n",
    "X['OVER_EXPECT_CREDIT'] = (X.AMT_CREDIT > X.AMT_GOODS_PRICE).map({False:0, True:1})\n",
    "X['MEAN_BUILDING_SCORE_AVG'] = X.iloc[:, 44:58].mean(skipna=True, axis=1)\n",
    "X['TOTAL_BUILDING_SCORE_AVG'] = X.iloc[:, 44:58].sum(skipna=True, axis=1)\n",
    "X['FLAG_DOCUMENT_TOTAL'] = X.iloc[:, 96:116].sum(axis=1)\n",
    "X['AMT_REQ_CREDIT_BUREAU_TOTAL'] = X.iloc[:, 116:122].sum(axis=1)\n",
    "X['BIRTH_EMPLOTED_INTERVEL'] = X.DAYS_EMPLOYED - X.DAYS_BIRTH\n",
    "X['BIRTH_REGISTRATION_INTERVEL'] = X.DAYS_REGISTRATION - X.DAYS_BIRTH\n",
    "X['MEAN_BUILDING_SCORE_AVG'] = X.iloc[:, 44:58].mean(skipna=True, axis=1)\n",
    "X['TOTAL_BUILDING_SCORE_AVG'] = X.iloc[:, 44:58].sum(skipna=True, axis=1)\n",
    "X['INCOME_PER_FAMILY_MEMBER'] = X.AMT_INCOME_TOTAL / X.CNT_FAM_MEMBERS\n",
    "X['SEASON_REMAINING'] = X.AMT_INCOME_TOTAL/4 -  X.AMT_ANNUITY\n",
    "X['RATIO_INCOME_GOODS'] = X.AMT_INCOME_TOTAL -  X.AMT_GOODS_PRICE\n",
    "X['CHILDREN_RATIO'] = X.CNT_CHILDREN / X.CNT_FAM_MEMBERS"
   ]
  },
  {
   "cell_type": "code",
   "execution_count": 5,
   "metadata": {},
   "outputs": [],
   "source": [
    "from pipeline_functions import DataFrameFeatureUnion, SelectColumnsTransfomer\n",
    "from pipeline_functions import DataFrameFunctionTransformer, backToDf"
   ]
  },
  {
   "cell_type": "code",
   "execution_count": 6,
   "metadata": {},
   "outputs": [],
   "source": [
    "pipeline = load(open('preprocessing_features.pkl', 'rb'))"
   ]
  },
  {
   "cell_type": "code",
   "execution_count": 7,
   "metadata": {},
   "outputs": [],
   "source": [
    "X = pipeline.fit_transform(X)"
   ]
  },
  {
   "cell_type": "markdown",
   "metadata": {},
   "source": [
    "# Standard Scaler"
   ]
  },
  {
   "cell_type": "code",
   "execution_count": 8,
   "metadata": {},
   "outputs": [],
   "source": [
    "from sklearn.model_selection import train_test_split"
   ]
  },
  {
   "cell_type": "code",
   "execution_count": 9,
   "metadata": {},
   "outputs": [],
   "source": [
    "x_train_, x_test, y_train_, y_test = train_test_split(X, y, test_size=0.2)"
   ]
  },
  {
   "cell_type": "markdown",
   "metadata": {},
   "source": [
    "# Under & Over Sampling"
   ]
  },
  {
   "cell_type": "code",
   "execution_count": 90,
   "metadata": {},
   "outputs": [],
   "source": [
    "from collections import Counter\n",
    "from imblearn.over_sampling import SMOTE\n",
    "from imblearn.under_sampling import RandomUnderSampler\n",
    "from imblearn.pipeline import Pipeline"
   ]
  },
  {
   "cell_type": "code",
   "execution_count": 87,
   "metadata": {},
   "outputs": [
    {
     "name": "stdout",
     "output_type": "stream",
     "text": [
      "Counter({0: 282686, 1: 24825})\n"
     ]
    },
    {
     "data": {
      "image/png": "[encoded data removed]",
      "text/plain": [
       "<Figure size 432x288 with 1 Axes>"
      ]
     },
     "metadata": {
      "needs_background": "light"
     },
     "output_type": "display_data"
    }
   ],
   "source": [
    "counter = Counter(y)\n",
    "print(counter)\n",
    "plt.bar(\"0\", counter[0])\n",
    "plt.bar(\"1\", counter[1])\n",
    "plt.title('Class repartition without SMOTE')\n",
    "plt.show()"
   ]
  },
  {
   "cell_type": "code",
   "execution_count": 16,
   "metadata": {},
   "outputs": [],
   "source": [
    "over = SMOTE(sampling_strategy=0.2, random_state=42)\n",
    "under = RandomUnderSampler(sampling_strategy=0.5)\n",
    "steps = [('o', over), ('u', under)]\n",
    "pipeline = Pipeline(steps=steps)\n",
    "# transform the dataset\n",
    "x_res, y_res = pipeline.fit_resample(x_train_, y_train_)"
   ]
  },
  {
   "cell_type": "code",
   "execution_count": 85,
   "metadata": {},
   "outputs": [
    {
     "name": "stdout",
     "output_type": "stream",
     "text": [
      "Counter({0: 90452, 1: 45226})\n"
     ]
    },
    {
     "data": {
      "image/png": "[encoded data removed]",
      "text/plain": [
       "<Figure size 432x288 with 1 Axes>"
      ]
     },
     "metadata": {
      "needs_background": "light"
     },
     "output_type": "display_data"
    }
   ],
   "source": [
    "counter = Counter(y_res)\n",
    "print(counter)\n",
    "plt.bar(\"0\", counter[0])\n",
    "plt.bar(\"1\", counter[1])\n",
    "plt.title('Class repartition with SMOTE')\n",
    "plt.show()"
   ]
  },
  {
   "cell_type": "markdown",
   "metadata": {},
   "source": [
    "# Sampling for modelization"
   ]
  },
  {
   "cell_type": "code",
   "execution_count": 18,
   "metadata": {},
   "outputs": [
    {
     "data": {
      "text/plain": [
       "(10000, 132)"
      ]
     },
     "execution_count": 18,
     "metadata": {},
     "output_type": "execute_result"
    }
   ],
   "source": [
    "sample = np.random.randint(0, x_res.shape[0], 10000)\n",
    "x_sample = x_res.iloc[sample,:]\n",
    "y_sample = y_res[sample]\n",
    "x_sample.shape"
   ]
  },
  {
   "cell_type": "code",
   "execution_count": 19,
   "metadata": {},
   "outputs": [
    {
     "name": "stdout",
     "output_type": "stream",
     "text": [
      "Counter({0: 6643, 1: 3357})\n"
     ]
    }
   ],
   "source": [
    "counter = Counter(y_sample)\n",
    "print(counter)\n",
    "plt.bar(\"0\", counter[0])\n",
    "plt.bar(\"1\", counter[1])\n",
    "plt.show()"
   ]
  },
  {
   "cell_type": "code",
   "execution_count": 20,
   "metadata": {},
   "outputs": [
    {
     "data": {
      "text/plain": [
       "(10000, 132)"
      ]
     },
     "execution_count": 20,
     "metadata": {},
     "output_type": "execute_result"
    }
   ],
   "source": [
    "sample_no_smote = np.random.randint(0, x_train_.shape[0], 10000)\n",
    "x_train = x_train_.iloc[sample_no_smote,:]\n",
    "y_train = y_train_.iloc[sample_no_smote]\n",
    "x_train.shape"
   ]
  },
  {
   "cell_type": "code",
   "execution_count": 21,
   "metadata": {},
   "outputs": [
    {
     "name": "stdout",
     "output_type": "stream",
     "text": [
      "Counter({0: 9195, 1: 805})\n"
     ]
    }
   ],
   "source": [
    "counter = Counter(y_train)\n",
    "print(counter)"
   ]
  },
  {
   "cell_type": "markdown",
   "metadata": {},
   "source": [
    "# Personalized Metric"
   ]
  },
  {
   "cell_type": "markdown",
   "metadata": {},
   "source": [
    "Calculate the performances of the model"
   ]
  },
  {
   "cell_type": "code",
   "execution_count": 22,
   "metadata": {},
   "outputs": [],
   "source": [
    "def personalizedMetric(model_name, data, pred, saving=True, scores=None):\n",
    "    \"\"\"This function calculate a score based on a personalized metric ; \n",
    "    It creates a dataframe if it does not already exist, allowing you to keep the scores\n",
    "    of your models in memory\"\"\"\n",
    "    # Df init\n",
    "    if scores is not None:\n",
    "        df = scores        \n",
    "    else:\n",
    "        df = pd.DataFrame(columns=['Model', 'Score', 'false_positive',\n",
    "                                   'false_negative', 'good_pred',\n",
    "                                   'f1_score', 'AUC'])\n",
    "    \n",
    "    # Calculation of the score for current model:\n",
    "    false_positive = 0\n",
    "    false_negative = 0\n",
    "    good_pred = 0\n",
    "    model_score = 0\n",
    "    f1_score = metrics.f1_score(data, pred, average='macro')\n",
    "    fpr, tpr, thresholds = metrics.roc_curve(data, pred)\n",
    "    AUC = metrics.auc(fpr, tpr)\n",
    "    for i, j in zip(data, pred):\n",
    "        if i == j:\n",
    "            good_pred += 1\n",
    "            model_score += 0\n",
    "        elif i != j:\n",
    "            if i == 0:\n",
    "                false_positive += 1\n",
    "                model_score += 1\n",
    "            elif i == 1:\n",
    "                false_negative += 1\n",
    "                model_score += 7\n",
    "    \n",
    "    # Put the results in the df\n",
    "    results = {\"Model\":model_name, \"Score\":model_score,\n",
    "               \"false_positive\":false_positive, \"false_negative\":false_negative,\n",
    "               \"good_pred\":good_pred, \"f1_score\":f1_score, \"AUC\":AUC}\n",
    "    \n",
    "    # if saving == True:\n",
    "    df = df.append(results, ignore_index=True)\n",
    "    \n",
    "    return df"
   ]
  },
  {
   "cell_type": "markdown",
   "metadata": {},
   "source": [
    "Plot the comparaison between models ; Either between SMOTE/NON SMOTE models, or between all the models"
   ]
  },
  {
   "cell_type": "code",
   "execution_count": 23,
   "metadata": {},
   "outputs": [],
   "source": [
    "def autolabel(rects, ax):\n",
    "    \"\"\"Attach a text label above each bar in *rects*, displaying its height.\"\"\"\n",
    "    for rect in rects:\n",
    "        height = rect.get_height()\n",
    "        ax.annotate('{}'.format(height),\n",
    "                    xy=(rect.get_x() + rect.get_width() / 2, height),\n",
    "                    xytext=(0, 1),  # 1 points vertical offset\n",
    "                    textcoords=\"offset points\",\n",
    "                    ha='center', va='bottom')\n",
    "\n",
    "\n",
    "def comparaison(scores, type_='SMOTE', model='Baseline'):\n",
    "    width = 0.35\n",
    "    scores_ = scores\n",
    "\n",
    "    if type_ == 'SMOTE':\n",
    "        try:\n",
    "            scores = scores[(scores['Model'] == model) | (scores['Model'] == model + ' Without SMOTE')]\n",
    "            x = np.arange(len(scores['Model']))\n",
    "            fig, ax = plt.subplots(figsize=(10,5))\n",
    "            rects1 = ax.bar(x - width/2, scores['Score'], width, label='Score')\n",
    "            #rects2 = ax.bar(x + width/2, scores['false_positive'], width, label='false_positive')\n",
    "            rects2 = ax.bar(x + width/2, scores['false_negative'], width, label='false_negative')\n",
    "            ax.set_xticks(x)\n",
    "            ax.set_xticklabels(scores['Model'])\n",
    "            ax.set_ylabel('Value')\n",
    "            plt.yscale('log')\n",
    "            ax.legend()\n",
    "\n",
    "            autolabel(rects1, ax)\n",
    "            autolabel(rects2, ax)\n",
    "\n",
    "            fig.tight_layout()\n",
    "\n",
    "            plt.show()\n",
    "            \n",
    "        except:\n",
    "            print('The model paramater that you gave is not present in the DataFrame, please use a good model name')\n",
    "            print('Model name currently present : ')\n",
    "            print(scores_['Model'])\n",
    "\n",
    "    elif type_ == 'MODEL':\n",
    "        scores = scores[~scores['Model'].str.contains('Without SMOTE')]\n",
    "        x = np.arange(len(scores['Model']))\n",
    "        fig, ax = plt.subplots(figsize=(10,5))\n",
    "        rects1 = ax.bar(x - width/2, scores['Score'], width, label='Score')\n",
    "        #rects2 = ax.bar(x + width/2, scores['false_positive'], width, label='false_positive')\n",
    "        rects2 = ax.bar(x + width/2, scores['false_negative'], width, label='false_negative')\n",
    "        ax.set_xticks(x)\n",
    "        ax.set_xticklabels(scores['Model'])\n",
    "        ax.set_ylabel('Value')\n",
    "        plt.yscale('log')\n",
    "        ax.legend()\n",
    "\n",
    "        autolabel(rects1, ax)\n",
    "        autolabel(rects2, ax)\n",
    "\n",
    "        fig.tight_layout()\n",
    "\n",
    "        plt.show()\n",
    "    \n",
    "    else:\n",
    "        print(\"Choose a correct type_ ; Available : MODEL, SMOTE. Default : SMOTE\")"
   ]
  },
  {
   "cell_type": "markdown",
   "metadata": {},
   "source": [
    "# Features Selection"
   ]
  },
  {
   "cell_type": "code",
   "execution_count": 24,
   "metadata": {},
   "outputs": [],
   "source": [
    "from sklearn.feature_selection import RFE\n",
    "from sklearn.ensemble import RandomForestClassifier"
   ]
  },
  {
   "cell_type": "code",
   "execution_count": 25,
   "metadata": {},
   "outputs": [
    {
     "data": {
      "text/plain": [
       "array([False,  True,  True, False, False, False, False, False, False,\n",
       "       False, False, False, False, False, False, False, False, False,\n",
       "        True,  True,  True,  True,  True, False,  True,  True, False,\n",
       "       False, False, False, False, False, False, False, False, False,\n",
       "       False, False, False, False, False, False, False,  True,  True,\n",
       "        True, False, False, False, False, False, False, False, False,\n",
       "       False, False, False, False, False, False, False, False, False,\n",
       "       False, False, False, False, False, False, False, False, False,\n",
       "       False, False, False, False, False, False, False, False, False,\n",
       "       False, False, False, False, False, False, False, False, False,\n",
       "       False, False, False,  True, False, False, False, False, False,\n",
       "       False, False, False, False, False, False, False, False, False,\n",
       "       False, False, False, False, False, False, False, False, False,\n",
       "       False, False,  True,  True,  True, False, False, False,  True,\n",
       "        True,  True, False,  True, False, False])"
      ]
     },
     "execution_count": 25,
     "metadata": {},
     "output_type": "execute_result"
    }
   ],
   "source": [
    "estimator = RandomForestClassifier()\n",
    "selector = RFE(estimator, n_features_to_select=20, step=1)\n",
    "selector = selector.fit(x_sample, y_sample)\n",
    "selector.support_"
   ]
  },
  {
   "cell_type": "code",
   "execution_count": 26,
   "metadata": {},
   "outputs": [
    {
     "data": {
      "text/plain": [
       "array([ 84,   1,   1,  24,  68,  57,  15,  23,  55,  16,  18,  13,  86,\n",
       "        76,  62,  67,  51,   7,   1,   1,   1,   1,   1,   3,   1,   1,\n",
       "        12, 111,  92,  52, 109,  43,  89,  29,  37,  31,   5,  95,  90,\n",
       "        93,  82,  69,  73,   1,   1,   1,  36,  46,  33,  66,  60,  87,\n",
       "        53,  56,  72,  28,  65,  39,  81,  48,  22,  54,  14,  59,  63,\n",
       "        80,  58,  70,  79,  34,  71,  30,  78,  38,  32,  35,  26,  44,\n",
       "        47,  83,  40,  64,  74,  41,  50,  27,  85,  49,  25,  21,  61,\n",
       "        17,  75,   1,  99,  42, 113,  94,  91, 112,  88,  97, 110, 100,\n",
       "       108, 102, 101, 103,  96, 107,  98, 105, 106, 104,   6,  10,  20,\n",
       "        11,   2,   1,   1,   1,   9,  19,  77,   1,   1,   1,   4,   1,\n",
       "         8,  45])"
      ]
     },
     "execution_count": 26,
     "metadata": {},
     "output_type": "execute_result"
    }
   ],
   "source": [
    "selector.ranking_"
   ]
  },
  {
   "cell_type": "code",
   "execution_count": 27,
   "metadata": {},
   "outputs": [],
   "source": [
    "x_sample = x_sample.iloc[:, selector.support_]\n",
    "x_train = x_train.iloc[:, selector.support_]\n",
    "x_train_ = x_train_.iloc[:, selector.support_]\n",
    "x_res = x_res.iloc[:, selector.support_]\n",
    "x_test = x_test.iloc[:, selector.support_]"
   ]
  },
  {
   "cell_type": "code",
   "execution_count": 28,
   "metadata": {},
   "outputs": [
    {
     "data": {
      "text/plain": [
       "Index(['CODE_GENDER', 'FLAG_OWN_CAR', 'AMT_CREDIT', 'AMT_ANNUITY',\n",
       "       'AMT_GOODS_PRICE', 'REGION_POPULATION_RELATIVE', 'DAYS_BIRTH',\n",
       "       'DAYS_REGISTRATION', 'DAYS_ID_PUBLISH', 'EXT_SOURCE_1', 'EXT_SOURCE_2',\n",
       "       'EXT_SOURCE_3', 'DAYS_LAST_PHONE_CHANGE', 'AMT_REQ_CREDIT_BUREAU_YEAR',\n",
       "       'TERM', 'OVER_EXPECT_CREDIT', 'AMT_REQ_CREDIT_BUREAU_TOTAL',\n",
       "       'BIRTH_EMPLOTED_INTERVEL', 'BIRTH_REGISTRATION_INTERVEL',\n",
       "       'SEASON_REMAINING'],\n",
       "      dtype='object')"
      ]
     },
     "execution_count": 28,
     "metadata": {},
     "output_type": "execute_result"
    }
   ],
   "source": [
    "x_test.columns"
   ]
  },
  {
   "cell_type": "markdown",
   "metadata": {},
   "source": [
    "# Modeling"
   ]
  },
  {
   "cell_type": "markdown",
   "metadata": {},
   "source": [
    "## Logistic Regression (Baseline)"
   ]
  },
  {
   "cell_type": "code",
   "execution_count": 29,
   "metadata": {},
   "outputs": [],
   "source": [
    "from sklearn.linear_model import LogisticRegression"
   ]
  },
  {
   "cell_type": "markdown",
   "metadata": {},
   "source": [
    "### Training"
   ]
  },
  {
   "cell_type": "markdown",
   "metadata": {},
   "source": [
    "#### Without SMOTE"
   ]
  },
  {
   "cell_type": "code",
   "execution_count": 30,
   "metadata": {},
   "outputs": [],
   "source": [
    "clf_no_smote = LogisticRegression(max_iter=1000, random_state=42).fit(x_train, y_train)\n",
    "clf_predict_no_smote = clf_no_smote.predict_proba(x_test)"
   ]
  },
  {
   "cell_type": "code",
   "execution_count": 31,
   "metadata": {},
   "outputs": [],
   "source": [
    "clf_predict_df_no_smote = pd.DataFrame(clf_predict_no_smote, index=y_test.index, columns=['Class0', 'Class1'])\n",
    "clf_predict_no_smote = np.where(clf_predict_no_smote[:,0] > 0.5, 0, 1)"
   ]
  },
  {
   "cell_type": "markdown",
   "metadata": {},
   "source": [
    "#### With SMOTE"
   ]
  },
  {
   "cell_type": "code",
   "execution_count": 32,
   "metadata": {},
   "outputs": [],
   "source": [
    "clf = LogisticRegression(max_iter=1000, random_state=42).fit(x_sample, y_sample)\n",
    "clf_predict = clf.predict_proba(x_test)"
   ]
  },
  {
   "cell_type": "code",
   "execution_count": 33,
   "metadata": {},
   "outputs": [],
   "source": [
    "clf_predict_df = pd.DataFrame(clf_predict, index=y_test.index, columns=['Class0', 'Class1'])"
   ]
  },
  {
   "cell_type": "code",
   "execution_count": 34,
   "metadata": {},
   "outputs": [
    {
     "data": {
      "image/png": "[encoded data removed]",
      "text/plain": [
       "<Figure size 432x288 with 1 Axes>"
      ]
     },
     "metadata": {
      "needs_background": "light"
     },
     "output_type": "display_data"
    },
    {
     "name": "stdout",
     "output_type": "stream",
     "text": [
      "Mean for class 0: 0.7156315843987299\n",
      "Mean for class 1: 0.5551596637194499\n"
     ]
    }
   ],
   "source": [
    "distrib = pd.merge(y_test, clf_predict_df['Class0'], left_index=True, right_index=True, how='inner')\n",
    "sns.distplot(distrib[distrib['TARGET'] == 0]['Class0'], label='Class 0')\n",
    "sns.distplot(distrib[distrib['TARGET'] == 1]['Class0'], label='Class 1')\n",
    "plt.legend()\n",
    "plt.show()\n",
    "print('Mean for class 0:', distrib[distrib['TARGET'] == 0]['Class0'].mean())\n",
    "print('Mean for class 1:', distrib[distrib['TARGET'] == 1]['Class0'].mean())"
   ]
  },
  {
   "cell_type": "code",
   "execution_count": 35,
   "metadata": {},
   "outputs": [],
   "source": [
    "# Let's loop on the proba to see if which proba to choose to maximize the predictions\n",
    "prob = pd.DataFrame(columns=['Model', 'Score', 'false_positive',\n",
    "                             'false_negative', 'good_pred',\n",
    "                             'f1_score', 'AUC'])\n",
    "for i in np.arange(0,1,0.05):\n",
    "    proba = clf_predict_df[['Class0']].copy()\n",
    "    proba['Predict_bool'] = np.where(proba['Class0']>i, 0, 1)\n",
    "    prob = personalizedMetric('LogReg:' + i.astype(str), y_test, proba['Predict_bool'], scores=prob)"
   ]
  },
  {
   "cell_type": "code",
   "execution_count": 36,
   "metadata": {},
   "outputs": [
    {
     "data": {
      "text/html": [
       "<div>\n",
       "<style scoped>\n",
       "    .dataframe tbody tr th:only-of-type {\n",
       "        vertical-align: middle;\n",
       "    }\n",
       "\n",
       "    .dataframe tbody tr th {\n",
       "        vertical-align: top;\n",
       "    }\n",
       "\n",
       "    .dataframe thead th {\n",
       "        text-align: right;\n",
       "    }\n",
       "</style>\n",
       "<table border=\"1\" class=\"dataframe\">\n",
       "  <thead>\n",
       "    <tr style=\"text-align: right;\">\n",
       "      <th></th>\n",
       "      <th>Model</th>\n",
       "      <th>Score</th>\n",
       "      <th>false_positive</th>\n",
       "      <th>false_negative</th>\n",
       "      <th>good_pred</th>\n",
       "      <th>f1_score</th>\n",
       "      <th>AUC</th>\n",
       "    </tr>\n",
       "  </thead>\n",
       "  <tbody>\n",
       "    <tr>\n",
       "      <th>0</th>\n",
       "      <td>LogReg:0.0</td>\n",
       "      <td>34643</td>\n",
       "      <td>0</td>\n",
       "      <td>4949</td>\n",
       "      <td>56554</td>\n",
       "      <td>0.479040</td>\n",
       "      <td>0.500000</td>\n",
       "    </tr>\n",
       "    <tr>\n",
       "      <th>1</th>\n",
       "      <td>LogReg:0.05</td>\n",
       "      <td>34643</td>\n",
       "      <td>0</td>\n",
       "      <td>4949</td>\n",
       "      <td>56554</td>\n",
       "      <td>0.479040</td>\n",
       "      <td>0.500000</td>\n",
       "    </tr>\n",
       "    <tr>\n",
       "      <th>2</th>\n",
       "      <td>LogReg:0.1</td>\n",
       "      <td>34597</td>\n",
       "      <td>10</td>\n",
       "      <td>4941</td>\n",
       "      <td>56552</td>\n",
       "      <td>0.480639</td>\n",
       "      <td>0.500720</td>\n",
       "    </tr>\n",
       "    <tr>\n",
       "      <th>3</th>\n",
       "      <td>LogReg:0.15000000000000002</td>\n",
       "      <td>34246</td>\n",
       "      <td>86</td>\n",
       "      <td>4880</td>\n",
       "      <td>56537</td>\n",
       "      <td>0.492459</td>\n",
       "      <td>0.506211</td>\n",
       "    </tr>\n",
       "    <tr>\n",
       "      <th>4</th>\n",
       "      <td>LogReg:0.2</td>\n",
       "      <td>33609</td>\n",
       "      <td>268</td>\n",
       "      <td>4763</td>\n",
       "      <td>56472</td>\n",
       "      <td>0.513036</td>\n",
       "      <td>0.516422</td>\n",
       "    </tr>\n",
       "    <tr>\n",
       "      <th>5</th>\n",
       "      <td>LogReg:0.25</td>\n",
       "      <td>32713</td>\n",
       "      <td>597</td>\n",
       "      <td>4588</td>\n",
       "      <td>56318</td>\n",
       "      <td>0.538975</td>\n",
       "      <td>0.531194</td>\n",
       "    </tr>\n",
       "    <tr>\n",
       "      <th>6</th>\n",
       "      <td>LogReg:0.30000000000000004</td>\n",
       "      <td>31680</td>\n",
       "      <td>1209</td>\n",
       "      <td>4353</td>\n",
       "      <td>55941</td>\n",
       "      <td>0.564322</td>\n",
       "      <td>0.549525</td>\n",
       "    </tr>\n",
       "    <tr>\n",
       "      <th>7</th>\n",
       "      <td>LogReg:0.35000000000000003</td>\n",
       "      <td>30567</td>\n",
       "      <td>2098</td>\n",
       "      <td>4067</td>\n",
       "      <td>55338</td>\n",
       "      <td>0.584451</td>\n",
       "      <td>0.570560</td>\n",
       "    </tr>\n",
       "    <tr>\n",
       "      <th>8</th>\n",
       "      <td>LogReg:0.4</td>\n",
       "      <td>29648</td>\n",
       "      <td>3300</td>\n",
       "      <td>3764</td>\n",
       "      <td>54439</td>\n",
       "      <td>0.594510</td>\n",
       "      <td>0.590546</td>\n",
       "    </tr>\n",
       "    <tr>\n",
       "      <th>9</th>\n",
       "      <td>LogReg:0.45</td>\n",
       "      <td>28623</td>\n",
       "      <td>4956</td>\n",
       "      <td>3381</td>\n",
       "      <td>53166</td>\n",
       "      <td>0.599294</td>\n",
       "      <td>0.614599</td>\n",
       "    </tr>\n",
       "    <tr>\n",
       "      <th>10</th>\n",
       "      <td>LogReg:0.5</td>\n",
       "      <td>27860</td>\n",
       "      <td>6993</td>\n",
       "      <td>2981</td>\n",
       "      <td>51529</td>\n",
       "      <td>0.595769</td>\n",
       "      <td>0.637002</td>\n",
       "    </tr>\n",
       "    <tr>\n",
       "      <th>11</th>\n",
       "      <td>LogReg:0.55</td>\n",
       "      <td>27684</td>\n",
       "      <td>9596</td>\n",
       "      <td>2584</td>\n",
       "      <td>49323</td>\n",
       "      <td>0.582457</td>\n",
       "      <td>0.654098</td>\n",
       "    </tr>\n",
       "    <tr>\n",
       "      <th>12</th>\n",
       "      <td>LogReg:0.6000000000000001</td>\n",
       "      <td>28277</td>\n",
       "      <td>12975</td>\n",
       "      <td>2186</td>\n",
       "      <td>46342</td>\n",
       "      <td>0.559475</td>\n",
       "      <td>0.664434</td>\n",
       "    </tr>\n",
       "    <tr>\n",
       "      <th>13</th>\n",
       "      <td>LogReg:0.65</td>\n",
       "      <td>29461</td>\n",
       "      <td>17064</td>\n",
       "      <td>1771</td>\n",
       "      <td>42668</td>\n",
       "      <td>0.529877</td>\n",
       "      <td>0.670210</td>\n",
       "    </tr>\n",
       "    <tr>\n",
       "      <th>14</th>\n",
       "      <td>LogReg:0.7000000000000001</td>\n",
       "      <td>31346</td>\n",
       "      <td>21952</td>\n",
       "      <td>1342</td>\n",
       "      <td>38209</td>\n",
       "      <td>0.492315</td>\n",
       "      <td>0.670337</td>\n",
       "    </tr>\n",
       "    <tr>\n",
       "      <th>15</th>\n",
       "      <td>LogReg:0.75</td>\n",
       "      <td>34595</td>\n",
       "      <td>28050</td>\n",
       "      <td>935</td>\n",
       "      <td>32518</td>\n",
       "      <td>0.439917</td>\n",
       "      <td>0.657543</td>\n",
       "    </tr>\n",
       "    <tr>\n",
       "      <th>16</th>\n",
       "      <td>LogReg:0.8</td>\n",
       "      <td>39198</td>\n",
       "      <td>35061</td>\n",
       "      <td>591</td>\n",
       "      <td>25851</td>\n",
       "      <td>0.371540</td>\n",
       "      <td>0.630313</td>\n",
       "    </tr>\n",
       "    <tr>\n",
       "      <th>17</th>\n",
       "      <td>LogReg:0.8500000000000001</td>\n",
       "      <td>44858</td>\n",
       "      <td>42870</td>\n",
       "      <td>284</td>\n",
       "      <td>18349</td>\n",
       "      <td>0.282923</td>\n",
       "      <td>0.592289</td>\n",
       "    </tr>\n",
       "    <tr>\n",
       "      <th>18</th>\n",
       "      <td>LogReg:0.9</td>\n",
       "      <td>51153</td>\n",
       "      <td>50579</td>\n",
       "      <td>82</td>\n",
       "      <td>10842</td>\n",
       "      <td>0.176017</td>\n",
       "      <td>0.544541</td>\n",
       "    </tr>\n",
       "    <tr>\n",
       "      <th>19</th>\n",
       "      <td>LogReg:0.9500000000000001</td>\n",
       "      <td>55828</td>\n",
       "      <td>55765</td>\n",
       "      <td>9</td>\n",
       "      <td>5729</td>\n",
       "      <td>0.089000</td>\n",
       "      <td>0.506066</td>\n",
       "    </tr>\n",
       "  </tbody>\n",
       "</table>\n",
       "</div>"
      ],
      "text/plain": [
       "                         Model  Score false_positive false_negative good_pred  \\\n",
       "0                   LogReg:0.0  34643              0           4949     56554   \n",
       "1                  LogReg:0.05  34643              0           4949     56554   \n",
       "2                   LogReg:0.1  34597             10           4941     56552   \n",
       "3   LogReg:0.15000000000000002  34246             86           4880     56537   \n",
       "4                   LogReg:0.2  33609            268           4763     56472   \n",
       "5                  LogReg:0.25  32713            597           4588     56318   \n",
       "6   LogReg:0.30000000000000004  31680           1209           4353     55941   \n",
       "7   LogReg:0.35000000000000003  30567           2098           4067     55338   \n",
       "8                   LogReg:0.4  29648           3300           3764     54439   \n",
       "9                  LogReg:0.45  28623           4956           3381     53166   \n",
       "10                  LogReg:0.5  27860           6993           2981     51529   \n",
       "11                 LogReg:0.55  27684           9596           2584     49323   \n",
       "12   LogReg:0.6000000000000001  28277          12975           2186     46342   \n",
       "13                 LogReg:0.65  29461          17064           1771     42668   \n",
       "14   LogReg:0.7000000000000001  31346          21952           1342     38209   \n",
       "15                 LogReg:0.75  34595          28050            935     32518   \n",
       "16                  LogReg:0.8  39198          35061            591     25851   \n",
       "17   LogReg:0.8500000000000001  44858          42870            284     18349   \n",
       "18                  LogReg:0.9  51153          50579             82     10842   \n",
       "19   LogReg:0.9500000000000001  55828          55765              9      5729   \n",
       "\n",
       "    f1_score       AUC  \n",
       "0   0.479040  0.500000  \n",
       "1   0.479040  0.500000  \n",
       "2   0.480639  0.500720  \n",
       "3   0.492459  0.506211  \n",
       "4   0.513036  0.516422  \n",
       "5   0.538975  0.531194  \n",
       "6   0.564322  0.549525  \n",
       "7   0.584451  0.570560  \n",
       "8   0.594510  0.590546  \n",
       "9   0.599294  0.614599  \n",
       "10  0.595769  0.637002  \n",
       "11  0.582457  0.654098  \n",
       "12  0.559475  0.664434  \n",
       "13  0.529877  0.670210  \n",
       "14  0.492315  0.670337  \n",
       "15  0.439917  0.657543  \n",
       "16  0.371540  0.630313  \n",
       "17  0.282923  0.592289  \n",
       "18  0.176017  0.544541  \n",
       "19  0.089000  0.506066  "
      ]
     },
     "execution_count": 36,
     "metadata": {},
     "output_type": "execute_result"
    }
   ],
   "source": [
    "prob"
   ]
  },
  {
   "cell_type": "code",
   "execution_count": 37,
   "metadata": {},
   "outputs": [],
   "source": [
    "clf_predict = np.where(clf_predict[:,0] > 0.55, 0, 1)"
   ]
  },
  {
   "cell_type": "markdown",
   "metadata": {},
   "source": [
    "### Performances"
   ]
  },
  {
   "cell_type": "code",
   "execution_count": 38,
   "metadata": {},
   "outputs": [
    {
     "data": {
      "text/html": [
       "<div>\n",
       "<style scoped>\n",
       "    .dataframe tbody tr th:only-of-type {\n",
       "        vertical-align: middle;\n",
       "    }\n",
       "\n",
       "    .dataframe tbody tr th {\n",
       "        vertical-align: top;\n",
       "    }\n",
       "\n",
       "    .dataframe thead th {\n",
       "        text-align: right;\n",
       "    }\n",
       "</style>\n",
       "<table border=\"1\" class=\"dataframe\">\n",
       "  <thead>\n",
       "    <tr style=\"text-align: right;\">\n",
       "      <th></th>\n",
       "      <th>Model</th>\n",
       "      <th>Score</th>\n",
       "      <th>false_positive</th>\n",
       "      <th>false_negative</th>\n",
       "      <th>good_pred</th>\n",
       "      <th>f1_score</th>\n",
       "      <th>AUC</th>\n",
       "    </tr>\n",
       "  </thead>\n",
       "  <tbody>\n",
       "    <tr>\n",
       "      <th>0</th>\n",
       "      <td>Baseline</td>\n",
       "      <td>27684</td>\n",
       "      <td>9596</td>\n",
       "      <td>2584</td>\n",
       "      <td>49323</td>\n",
       "      <td>0.582457</td>\n",
       "      <td>0.654098</td>\n",
       "    </tr>\n",
       "    <tr>\n",
       "      <th>1</th>\n",
       "      <td>Baseline Without SMOTE</td>\n",
       "      <td>34336</td>\n",
       "      <td>57</td>\n",
       "      <td>4897</td>\n",
       "      <td>56549</td>\n",
       "      <td>0.489280</td>\n",
       "      <td>0.504750</td>\n",
       "    </tr>\n",
       "  </tbody>\n",
       "</table>\n",
       "</div>"
      ],
      "text/plain": [
       "                    Model  Score false_positive false_negative good_pred  \\\n",
       "0                Baseline  27684           9596           2584     49323   \n",
       "1  Baseline Without SMOTE  34336             57           4897     56549   \n",
       "\n",
       "   f1_score       AUC  \n",
       "0  0.582457  0.654098  \n",
       "1  0.489280  0.504750  "
      ]
     },
     "execution_count": 38,
     "metadata": {},
     "output_type": "execute_result"
    }
   ],
   "source": [
    "scores = personalizedMetric('Baseline', y_test, clf_predict)\n",
    "scores = personalizedMetric('Baseline Without SMOTE', y_test, clf_predict_no_smote, scores=scores)\n",
    "scores"
   ]
  },
  {
   "cell_type": "code",
   "execution_count": 39,
   "metadata": {},
   "outputs": [
    {
     "data": {
      "image/png": "[encoded data removed]",
      "text/plain": [
       "<Figure size 720x360 with 1 Axes>"
      ]
     },
     "metadata": {
      "needs_background": "light"
     },
     "output_type": "display_data"
    }
   ],
   "source": [
    "comparaison(scores, type_='SMOTE', model='Baseline')"
   ]
  },
  {
   "cell_type": "markdown",
   "metadata": {},
   "source": [
    "As we can see here, without SMOTE the model does not seem to take into account the \"1\" class, the prediction looks good in general, but we are missing 1 class"
   ]
  },
  {
   "cell_type": "markdown",
   "metadata": {},
   "source": [
    "### Features importance"
   ]
  },
  {
   "cell_type": "code",
   "execution_count": 40,
   "metadata": {},
   "outputs": [
    {
     "data": {
      "image/png": "[encoded data removed]",
      "text/plain": [
       "<Figure size 1440x504 with 1 Axes>"
      ]
     },
     "metadata": {
      "needs_background": "light"
     },
     "output_type": "display_data"
    }
   ],
   "source": [
    "importance = clf.coef_[0]\n",
    "importance = pd.DataFrame(importance, index=x_test.columns, columns=['Importance']).reset_index()\n",
    "importance['Feature'] = [x for x in range(1, 21)]\n",
    "\n",
    "# plot features importance\n",
    "ax = plt.figure(figsize=(20,7))\n",
    "ax = sns.barplot(importance['Feature'], importance['Importance'])\n",
    "plt.xticks(range(0, 21), [x for x in importance['index'].unique()], rotation=60)\n",
    "plt.show()"
   ]
  },
  {
   "cell_type": "markdown",
   "metadata": {},
   "source": [
    "## Random Forest"
   ]
  },
  {
   "cell_type": "code",
   "execution_count": 41,
   "metadata": {},
   "outputs": [],
   "source": [
    "from sklearn.model_selection import RandomizedSearchCV"
   ]
  },
  {
   "cell_type": "markdown",
   "metadata": {},
   "source": [
    "### Training"
   ]
  },
  {
   "cell_type": "markdown",
   "metadata": {},
   "source": [
    "#### Without SMOTE"
   ]
  },
  {
   "cell_type": "code",
   "execution_count": 42,
   "metadata": {},
   "outputs": [
    {
     "name": "stdout",
     "output_type": "stream",
     "text": [
      "Fitting 3 folds for each of 150 candidates, totalling 450 fits\n"
     ]
    },
    {
     "name": "stderr",
     "output_type": "stream",
     "text": [
      "[Parallel(n_jobs=-1)]: Using backend LokyBackend with 12 concurrent workers.\n",
      "[Parallel(n_jobs=-1)]: Done  17 tasks      | elapsed:   40.8s\n",
      "[Parallel(n_jobs=-1)]: Done 138 tasks      | elapsed:  4.6min\n",
      "[Parallel(n_jobs=-1)]: Done 341 tasks      | elapsed: 11.1min\n",
      "[Parallel(n_jobs=-1)]: Done 450 out of 450 | elapsed: 14.4min finished\n"
     ]
    },
    {
     "name": "stdout",
     "output_type": "stream",
     "text": [
      "\n",
      "\n",
      "Function elapsed in:  886.9895484000001 s\n"
     ]
    },
    {
     "data": {
      "text/plain": [
       "{'n_estimators': 1000,\n",
       " 'min_samples_split': 2,\n",
       " 'min_samples_leaf': 1,\n",
       " 'max_depth': 20,\n",
       " 'bootstrap': True}"
      ]
     },
     "execution_count": 42,
     "metadata": {},
     "output_type": "execute_result"
    }
   ],
   "source": [
    "# Nombre d'arbres dans la forêt\n",
    "n_estimators = [int(x) for x in np.linspace(start=500,stop=2000,num=10)]\n",
    "# Level max des arbres\n",
    "max_depth = [int(x) for x in np.linspace(10,20,num=10)]\n",
    "max_depth.append(None)\n",
    "# nombre de sample min pour split\n",
    "min_samples_split = [2,5,10]\n",
    "# Minimum number of samples required at each leaf node\n",
    "min_samples_leaf = [1,2,3]\n",
    "# Method of selecting samples for training each tree\n",
    "bootstrap = [True, False]\n",
    "\n",
    "# On crée la random grid\n",
    "random_grid = {'n_estimators': n_estimators,\n",
    "               'max_depth': max_depth,\n",
    "               'min_samples_split': min_samples_split,\n",
    "               'min_samples_leaf': min_samples_leaf,\n",
    "               'bootstrap': bootstrap}\n",
    "\n",
    "t0 = time.perf_counter()\n",
    "\n",
    "rfc_no_smote = RandomForestClassifier()\n",
    "\n",
    "# On recherche avec 100 combinaisons différentes \n",
    "rfc_no_smote = RandomizedSearchCV(estimator=rfc_no_smote, param_distributions=random_grid, n_iter=150, \n",
    "                               cv=3, verbose=2, random_state=42, n_jobs=-1)\n",
    "\n",
    "# On fit\n",
    "rfc_no_smote.fit(x_train, y_train)\n",
    "\n",
    "t1 = time.perf_counter()\n",
    "print(\"\\n\")\n",
    "print ('Function elapsed in: ', t1-t0, 's')\n",
    "\n",
    "rfc_no_smote.best_params_"
   ]
  },
  {
   "cell_type": "code",
   "execution_count": 43,
   "metadata": {},
   "outputs": [
    {
     "name": "stdout",
     "output_type": "stream",
     "text": [
      "\n",
      "\n",
      "Function elapsed in:  3.562171100000114 s\n"
     ]
    }
   ],
   "source": [
    "t0 = time.perf_counter()\n",
    "\n",
    "rf_no_smote = RandomForestClassifier(n_estimators = list(rfc_no_smote.best_params_.values())[0],\n",
    "                                     min_samples_split = list(rfc_no_smote.best_params_.values())[1],\n",
    "                                     min_samples_leaf=list(rfc_no_smote.best_params_.values())[2],\n",
    "                                     max_depth = list(rfc_no_smote.best_params_.values())[3],\n",
    "                                     bootstrap=list(rfc_no_smote.best_params_.values())[4],\n",
    "                                     n_jobs = -1)\n",
    "rf_no_smote.fit(x_train, y_train)\n",
    "# on prédit\n",
    "y_predict_no_smote = rf_no_smote.predict_proba(x_test)\n",
    "\n",
    "t1 = time.perf_counter()\n",
    "print(\"\\n\")\n",
    "print ('Function elapsed in: ', t1-t0, 's')\n",
    "\n",
    "y_predict_df_no_smote = pd.DataFrame(y_predict_no_smote, index=y_test.index, columns=['Class0', 'Class1'])"
   ]
  },
  {
   "cell_type": "code",
   "execution_count": 44,
   "metadata": {},
   "outputs": [],
   "source": [
    "y_predict_no_smote = np.where(y_predict_no_smote[:,0] > 0.5, 0, 1)"
   ]
  },
  {
   "cell_type": "markdown",
   "metadata": {},
   "source": [
    "#### With SMOTE"
   ]
  },
  {
   "cell_type": "code",
   "execution_count": 45,
   "metadata": {},
   "outputs": [
    {
     "name": "stdout",
     "output_type": "stream",
     "text": [
      "Fitting 3 folds for each of 150 candidates, totalling 450 fits\n"
     ]
    },
    {
     "name": "stderr",
     "output_type": "stream",
     "text": [
      "[Parallel(n_jobs=-1)]: Using backend LokyBackend with 12 concurrent workers.\n",
      "[Parallel(n_jobs=-1)]: Done  17 tasks      | elapsed:   39.4s\n",
      "[Parallel(n_jobs=-1)]: Done 138 tasks      | elapsed:  4.7min\n",
      "[Parallel(n_jobs=-1)]: Done 341 tasks      | elapsed: 11.2min\n",
      "[Parallel(n_jobs=-1)]: Done 450 out of 450 | elapsed: 14.5min finished\n"
     ]
    },
    {
     "name": "stdout",
     "output_type": "stream",
     "text": [
      "\n",
      "\n",
      "Function elapsed in:  908.6153434000003 s\n"
     ]
    },
    {
     "data": {
      "text/plain": [
       "{'n_estimators': 1166,\n",
       " 'min_samples_split': 10,\n",
       " 'min_samples_leaf': 1,\n",
       " 'max_depth': None,\n",
       " 'bootstrap': False}"
      ]
     },
     "execution_count": 45,
     "metadata": {},
     "output_type": "execute_result"
    }
   ],
   "source": [
    "# Nombre d'arbres dans la forêt\n",
    "n_estimators = [int(x) for x in np.linspace(start=500,stop=2000,num=10)]\n",
    "# Level max des arbres\n",
    "max_depth = [int(x) for x in np.linspace(10,20,num=10)]\n",
    "max_depth.append(None)\n",
    "# nombre de sample min pour split\n",
    "min_samples_split = [2,5,10]\n",
    "# Minimum number of samples required at each leaf node\n",
    "min_samples_leaf = [1,2,3]\n",
    "# Method of selecting samples for training each tree\n",
    "bootstrap = [True, False]\n",
    "\n",
    "# On crée la random grid\n",
    "random_grid = {'n_estimators': n_estimators,\n",
    "               'max_depth': max_depth,\n",
    "               'min_samples_split': min_samples_split,\n",
    "               'min_samples_leaf': min_samples_leaf,\n",
    "               'bootstrap': bootstrap}\n",
    "\n",
    "t0 = time.perf_counter()\n",
    "\n",
    "rfc = RandomForestClassifier()\n",
    "\n",
    "# On recherche avec 100 combinaisons différentes \n",
    "rfc = RandomizedSearchCV(estimator=rfc, param_distributions=random_grid, n_iter=150, \n",
    "                               cv=3, verbose=2, random_state=42, n_jobs=-1)\n",
    "\n",
    "# On fit\n",
    "rfc.fit(x_sample, y_sample)\n",
    "\n",
    "t1 = time.perf_counter()\n",
    "print(\"\\n\")\n",
    "print ('Function elapsed in: ', t1-t0, 's')\n",
    "\n",
    "rfc.best_params_"
   ]
  },
  {
   "cell_type": "code",
   "execution_count": 46,
   "metadata": {},
   "outputs": [
    {
     "name": "stdout",
     "output_type": "stream",
     "text": [
      "\n",
      "\n",
      "Function elapsed in:  6.754664300000059 s\n"
     ]
    }
   ],
   "source": [
    "t0 = time.perf_counter()\n",
    "\n",
    "rf = RandomForestClassifier(n_estimators = list(rfc.best_params_.values())[0],\n",
    "                             min_samples_split = list(rfc.best_params_.values())[1],\n",
    "                             min_samples_leaf=list(rfc.best_params_.values())[2],\n",
    "                             max_depth = list(rfc.best_params_.values())[3],\n",
    "                             bootstrap=list(rfc.best_params_.values())[4],\n",
    "                             n_jobs = -1)\n",
    "rf.fit(x_sample, y_sample)\n",
    "# on prédit\n",
    "y_predict = rf.predict_proba(x_test)\n",
    "\n",
    "t1 = time.perf_counter()\n",
    "print(\"\\n\")\n",
    "print ('Function elapsed in: ', t1-t0, 's')\n",
    "\n",
    "y_predict_df = pd.DataFrame(y_predict, index=y_test.index, columns=['Class0', 'Class1'])"
   ]
  },
  {
   "cell_type": "code",
   "execution_count": 47,
   "metadata": {},
   "outputs": [],
   "source": [
    "y_predict = np.where(y_predict[:,0] > 0.5, 0, 1)"
   ]
  },
  {
   "cell_type": "markdown",
   "metadata": {},
   "source": [
    "### Performances"
   ]
  },
  {
   "cell_type": "code",
   "execution_count": 48,
   "metadata": {},
   "outputs": [
    {
     "data": {
      "text/html": [
       "<div>\n",
       "<style scoped>\n",
       "    .dataframe tbody tr th:only-of-type {\n",
       "        vertical-align: middle;\n",
       "    }\n",
       "\n",
       "    .dataframe tbody tr th {\n",
       "        vertical-align: top;\n",
       "    }\n",
       "\n",
       "    .dataframe thead th {\n",
       "        text-align: right;\n",
       "    }\n",
       "</style>\n",
       "<table border=\"1\" class=\"dataframe\">\n",
       "  <thead>\n",
       "    <tr style=\"text-align: right;\">\n",
       "      <th></th>\n",
       "      <th>Model</th>\n",
       "      <th>Score</th>\n",
       "      <th>false_positive</th>\n",
       "      <th>false_negative</th>\n",
       "      <th>good_pred</th>\n",
       "      <th>f1_score</th>\n",
       "      <th>AUC</th>\n",
       "    </tr>\n",
       "  </thead>\n",
       "  <tbody>\n",
       "    <tr>\n",
       "      <th>0</th>\n",
       "      <td>Baseline</td>\n",
       "      <td>27684</td>\n",
       "      <td>9596</td>\n",
       "      <td>2584</td>\n",
       "      <td>49323</td>\n",
       "      <td>0.582457</td>\n",
       "      <td>0.654098</td>\n",
       "    </tr>\n",
       "    <tr>\n",
       "      <th>1</th>\n",
       "      <td>Baseline Without SMOTE</td>\n",
       "      <td>34336</td>\n",
       "      <td>57</td>\n",
       "      <td>4897</td>\n",
       "      <td>56549</td>\n",
       "      <td>0.489280</td>\n",
       "      <td>0.504750</td>\n",
       "    </tr>\n",
       "    <tr>\n",
       "      <th>2</th>\n",
       "      <td>Random Forest</td>\n",
       "      <td>30334</td>\n",
       "      <td>3083</td>\n",
       "      <td>3893</td>\n",
       "      <td>54527</td>\n",
       "      <td>0.585579</td>\n",
       "      <td>0.579431</td>\n",
       "    </tr>\n",
       "    <tr>\n",
       "      <th>3</th>\n",
       "      <td>Random Forest Without SMOTE</td>\n",
       "      <td>34346</td>\n",
       "      <td>60</td>\n",
       "      <td>4898</td>\n",
       "      <td>56545</td>\n",
       "      <td>0.489061</td>\n",
       "      <td>0.504622</td>\n",
       "    </tr>\n",
       "  </tbody>\n",
       "</table>\n",
       "</div>"
      ],
      "text/plain": [
       "                         Model  Score false_positive false_negative good_pred  \\\n",
       "0                     Baseline  27684           9596           2584     49323   \n",
       "1       Baseline Without SMOTE  34336             57           4897     56549   \n",
       "2                Random Forest  30334           3083           3893     54527   \n",
       "3  Random Forest Without SMOTE  34346             60           4898     56545   \n",
       "\n",
       "   f1_score       AUC  \n",
       "0  0.582457  0.654098  \n",
       "1  0.489280  0.504750  \n",
       "2  0.585579  0.579431  \n",
       "3  0.489061  0.504622  "
      ]
     },
     "execution_count": 48,
     "metadata": {},
     "output_type": "execute_result"
    }
   ],
   "source": [
    "scores = personalizedMetric('Random Forest', y_test, y_predict, scores=scores)\n",
    "scores = personalizedMetric('Random Forest Without SMOTE', y_test, y_predict_no_smote, scores=scores)\n",
    "scores"
   ]
  },
  {
   "cell_type": "code",
   "execution_count": 49,
   "metadata": {},
   "outputs": [
    {
     "data": {
      "image/png": "[encoded data removed]",
      "text/plain": [
       "<Figure size 720x360 with 1 Axes>"
      ]
     },
     "metadata": {
      "needs_background": "light"
     },
     "output_type": "display_data"
    }
   ],
   "source": [
    "comparaison(scores, type_='SMOTE', model='Random Forest')"
   ]
  },
  {
   "cell_type": "markdown",
   "metadata": {},
   "source": [
    "### Features importance"
   ]
  },
  {
   "cell_type": "code",
   "execution_count": 50,
   "metadata": {},
   "outputs": [
    {
     "data": {
      "image/png": "[encoded data removed]",
      "text/plain": [
       "<Figure size 2160x720 with 1 Axes>"
      ]
     },
     "metadata": {
      "needs_background": "light"
     },
     "output_type": "display_data"
    }
   ],
   "source": [
    "importances = rf.feature_importances_\n",
    "std = np.std([tree.feature_importances_ for tree in rf.estimators_],\n",
    "             axis=0)\n",
    "indices = np.argsort(importances)[::-1]\n",
    "\n",
    "# Plot the impurity-based feature importances of the forest\n",
    "plt.figure(figsize=(30,10))\n",
    "plt.title(\"Feature importances\")\n",
    "plt.bar(range(x_sample.shape[1]), importances[indices],\n",
    "        color=\"r\", yerr=std[indices], align=\"center\")\n",
    "plt.xticks(range(x_sample.shape[1]), indices)\n",
    "plt.xlim([-1, x_sample.shape[1]])\n",
    "plt.show()"
   ]
  },
  {
   "cell_type": "markdown",
   "metadata": {},
   "source": [
    "## XGBoost"
   ]
  },
  {
   "cell_type": "code",
   "execution_count": 51,
   "metadata": {},
   "outputs": [],
   "source": [
    "import xgboost as xgb\n",
    "from xgboost.sklearn import XGBClassifier"
   ]
  },
  {
   "cell_type": "code",
   "execution_count": 52,
   "metadata": {},
   "outputs": [],
   "source": [
    "dxsample = xgb.DMatrix(x_sample, label=y_sample)\n",
    "dtrain  = xgb.DMatrix(x_train, label=y_train)\n",
    "dtest = xgb.DMatrix(x_test, label=y_test)"
   ]
  },
  {
   "cell_type": "markdown",
   "metadata": {},
   "source": [
    "### Training"
   ]
  },
  {
   "cell_type": "markdown",
   "metadata": {},
   "source": [
    "#### Without SMOTE"
   ]
  },
  {
   "cell_type": "code",
   "execution_count": 53,
   "metadata": {},
   "outputs": [
    {
     "name": "stdout",
     "output_type": "stream",
     "text": [
      "Fitting 3 folds for each of 150 candidates, totalling 450 fits\n"
     ]
    },
    {
     "name": "stderr",
     "output_type": "stream",
     "text": [
      "[Parallel(n_jobs=-1)]: Using backend LokyBackend with 12 concurrent workers.\n",
      "[Parallel(n_jobs=-1)]: Done  17 tasks      | elapsed:    7.4s\n",
      "[Parallel(n_jobs=-1)]: Done 138 tasks      | elapsed:   34.3s\n",
      "[Parallel(n_jobs=-1)]: Done 341 tasks      | elapsed:  1.3min\n",
      "[Parallel(n_jobs=-1)]: Done 450 out of 450 | elapsed:  1.7min finished\n"
     ]
    },
    {
     "data": {
      "text/plain": [
       "{'subsample': 0.9, 'max_depth': 20, 'eta': 0.1, 'colsample_bytree': 0.5}"
      ]
     },
     "execution_count": 53,
     "metadata": {},
     "output_type": "execute_result"
    }
   ],
   "source": [
    "# On crée la random grid\n",
    "random_grid = {'eta': [0.02, 0.04, 0.06, 0.08, 0.1], 'max_depth': [5, 10, 15, 20],\n",
    "               'subsample': [0.5, 0.7, 0.9, 1], 'colsample_bytree': [0.5, 0.7, 0.9, 1]}\n",
    "\n",
    "bst_no_smote = XGBClassifier()\n",
    "\n",
    "bst_no_smote_cv = RandomizedSearchCV(estimator=bst_no_smote, param_distributions=random_grid, n_iter=150, \n",
    "                               cv=3, verbose=2, random_state=42, n_jobs=-1)\n",
    "\n",
    "bst_no_smote_cv.fit(x_train, y_train)\n",
    "\n",
    "bst_no_smote_cv.best_params_"
   ]
  },
  {
   "cell_type": "code",
   "execution_count": 54,
   "metadata": {},
   "outputs": [],
   "source": [
    "num_round = 50\n",
    "bst_no_smote = xgb.train(bst_no_smote_cv.best_params_, dtrain, num_round)"
   ]
  },
  {
   "cell_type": "code",
   "execution_count": 55,
   "metadata": {},
   "outputs": [],
   "source": [
    "ypred_no_smote = bst_no_smote.predict(dtest)\n",
    "ypred_df_no_smote = pd.DataFrame(ypred_no_smote, index=y_test.index, columns=['Predict'])"
   ]
  },
  {
   "cell_type": "code",
   "execution_count": 56,
   "metadata": {},
   "outputs": [
    {
     "data": {
      "image/png": "[encoded data removed]",
      "text/plain": [
       "<Figure size 432x288 with 1 Axes>"
      ]
     },
     "metadata": {
      "needs_background": "light"
     },
     "output_type": "display_data"
    },
    {
     "name": "stdout",
     "output_type": "stream",
     "text": [
      "Mean for class 0: 0.08906372636556625\n",
      "Mean for class 1: 0.1486419141292572\n"
     ]
    }
   ],
   "source": [
    "distrib = pd.merge(y_test, ypred_df_no_smote, left_index=True, right_index=True, how='inner')\n",
    "sns.distplot(distrib[distrib['TARGET'] == 0]['Predict'], label='Class 0')\n",
    "sns.distplot(distrib[distrib['TARGET'] == 1]['Predict'], label='Class 1')\n",
    "plt.legend()\n",
    "plt.show()\n",
    "print('Mean for class 0:', distrib[distrib['TARGET'] == 0]['Predict'].mean())\n",
    "print('Mean for class 1:', distrib[distrib['TARGET'] == 1]['Predict'].mean())"
   ]
  },
  {
   "cell_type": "code",
   "execution_count": 57,
   "metadata": {},
   "outputs": [],
   "source": [
    "ypred_df_no_smote['Predict_bool'] = np.where(ypred_df_no_smote['Predict']>0.50, 1, 0)\n",
    "ypred_no_smote_ = ypred_df_no_smote['Predict']"
   ]
  },
  {
   "cell_type": "markdown",
   "metadata": {},
   "source": [
    "#### With SMOTE"
   ]
  },
  {
   "cell_type": "code",
   "execution_count": 58,
   "metadata": {},
   "outputs": [
    {
     "name": "stdout",
     "output_type": "stream",
     "text": [
      "Fitting 3 folds for each of 150 candidates, totalling 450 fits\n"
     ]
    },
    {
     "name": "stderr",
     "output_type": "stream",
     "text": [
      "[Parallel(n_jobs=-1)]: Using backend LokyBackend with 12 concurrent workers.\n",
      "[Parallel(n_jobs=-1)]: Done  17 tasks      | elapsed:    4.2s\n",
      "[Parallel(n_jobs=-1)]: Done 138 tasks      | elapsed:   32.3s\n",
      "[Parallel(n_jobs=-1)]: Done 341 tasks      | elapsed:  1.3min\n",
      "[Parallel(n_jobs=-1)]: Done 450 out of 450 | elapsed:  1.8min finished\n"
     ]
    },
    {
     "data": {
      "text/plain": [
       "{'subsample': 1, 'max_depth': 10, 'eta': 0.1, 'colsample_bytree': 0.5}"
      ]
     },
     "execution_count": 58,
     "metadata": {},
     "output_type": "execute_result"
    }
   ],
   "source": [
    "# On crée la random grid\n",
    "random_grid = {'eta': [0.02, 0.04, 0.06, 0.08, 0.1], 'max_depth': [5, 10, 15, 20],\n",
    "               'subsample': [0.5, 0.7, 1], 'colsample_bytree': [0.5, 0.7, 1]}\n",
    "\n",
    "bst = XGBClassifier()\n",
    "\n",
    "bst_cv = RandomizedSearchCV(estimator=bst, param_distributions=random_grid, n_iter=150, \n",
    "                               cv=3, verbose=2, random_state=42, n_jobs=-1)\n",
    "\n",
    "bst_cv.fit(x_sample, y_sample)\n",
    "\n",
    "bst_cv.best_params_"
   ]
  },
  {
   "cell_type": "code",
   "execution_count": 59,
   "metadata": {},
   "outputs": [],
   "source": [
    "num_round = 50\n",
    "bst = xgb.train(bst_cv.best_params_, dxsample, num_round)"
   ]
  },
  {
   "cell_type": "code",
   "execution_count": 60,
   "metadata": {},
   "outputs": [],
   "source": [
    "ypred = bst.predict(dtest)\n",
    "ypred_df = pd.DataFrame(ypred, index=y_test.index, columns=['Predict'])"
   ]
  },
  {
   "cell_type": "code",
   "execution_count": 61,
   "metadata": {},
   "outputs": [
    {
     "data": {
      "image/png": "[encoded data removed]",
      "text/plain": [
       "<Figure size 432x288 with 1 Axes>"
      ]
     },
     "metadata": {
      "needs_background": "light"
     },
     "output_type": "display_data"
    },
    {
     "name": "stdout",
     "output_type": "stream",
     "text": [
      "Mean for class 0: 0.2119373232126236\n",
      "Median for class 0: 0.18791961669921875\n",
      "Mean for class 1: 0.32948172092437744\n",
      "Median for class 1: 0.31389278173446655\n"
     ]
    }
   ],
   "source": [
    "distrib = pd.merge(y_test, ypred_df, left_index=True, right_index=True, how='inner')\n",
    "sns.distplot(distrib[distrib['TARGET'] == 0]['Predict'], label='Class 0')\n",
    "sns.distplot(distrib[distrib['TARGET'] == 1]['Predict'], label='Class 1')\n",
    "plt.legend()\n",
    "plt.show()\n",
    "print('Mean for class 0:', distrib[distrib['TARGET'] == 0]['Predict'].mean())\n",
    "print('Median for class 0:', distrib[distrib['TARGET'] == 0]['Predict'].median())\n",
    "print('Mean for class 1:', distrib[distrib['TARGET'] == 1]['Predict'].mean())\n",
    "print('Median for class 1:', distrib[distrib['TARGET'] == 1]['Predict'].median())"
   ]
  },
  {
   "cell_type": "code",
   "execution_count": 62,
   "metadata": {},
   "outputs": [],
   "source": [
    "# Let's loop on the proba to see if which proba to choose to maximize the predictions\n",
    "prob = pd.DataFrame(columns=['Model', 'Score', 'false_positive',\n",
    "                             'false_negative', 'good_pred',\n",
    "                             'f1_score', 'AUC'])\n",
    "for i in np.arange(0,1,0.05):\n",
    "    proba = ypred_df.copy()\n",
    "    proba['Predict_bool'] = np.where(proba['Predict']>i, 1, 0)\n",
    "    prob = personalizedMetric('XGBoost:' + i.astype(str), y_test, proba['Predict_bool'], scores=prob)"
   ]
  },
  {
   "cell_type": "code",
   "execution_count": 63,
   "metadata": {},
   "outputs": [
    {
     "data": {
      "text/plain": [
       "29119"
      ]
     },
     "execution_count": 63,
     "metadata": {},
     "output_type": "execute_result"
    }
   ],
   "source": [
    "prob['Score'].min()"
   ]
  },
  {
   "cell_type": "code",
   "execution_count": 64,
   "metadata": {},
   "outputs": [],
   "source": [
    "ypred_df['Predict_bool'] = np.where(ypred_df['Predict']>0.40, 1, 0)\n",
    "ypred_ = ypred_df['Predict']"
   ]
  },
  {
   "cell_type": "markdown",
   "metadata": {},
   "source": [
    "### Performances"
   ]
  },
  {
   "cell_type": "code",
   "execution_count": 65,
   "metadata": {},
   "outputs": [
    {
     "data": {
      "text/html": [
       "<div>\n",
       "<style scoped>\n",
       "    .dataframe tbody tr th:only-of-type {\n",
       "        vertical-align: middle;\n",
       "    }\n",
       "\n",
       "    .dataframe tbody tr th {\n",
       "        vertical-align: top;\n",
       "    }\n",
       "\n",
       "    .dataframe thead th {\n",
       "        text-align: right;\n",
       "    }\n",
       "</style>\n",
       "<table border=\"1\" class=\"dataframe\">\n",
       "  <thead>\n",
       "    <tr style=\"text-align: right;\">\n",
       "      <th></th>\n",
       "      <th>Model</th>\n",
       "      <th>Score</th>\n",
       "      <th>false_positive</th>\n",
       "      <th>false_negative</th>\n",
       "      <th>good_pred</th>\n",
       "      <th>f1_score</th>\n",
       "      <th>AUC</th>\n",
       "    </tr>\n",
       "  </thead>\n",
       "  <tbody>\n",
       "    <tr>\n",
       "      <th>0</th>\n",
       "      <td>Baseline</td>\n",
       "      <td>27684</td>\n",
       "      <td>9596</td>\n",
       "      <td>2584</td>\n",
       "      <td>49323</td>\n",
       "      <td>0.582457</td>\n",
       "      <td>0.654098</td>\n",
       "    </tr>\n",
       "    <tr>\n",
       "      <th>1</th>\n",
       "      <td>Baseline Without SMOTE</td>\n",
       "      <td>34336</td>\n",
       "      <td>57</td>\n",
       "      <td>4897</td>\n",
       "      <td>56549</td>\n",
       "      <td>0.489280</td>\n",
       "      <td>0.504750</td>\n",
       "    </tr>\n",
       "    <tr>\n",
       "      <th>2</th>\n",
       "      <td>Random Forest</td>\n",
       "      <td>30334</td>\n",
       "      <td>3083</td>\n",
       "      <td>3893</td>\n",
       "      <td>54527</td>\n",
       "      <td>0.585579</td>\n",
       "      <td>0.579431</td>\n",
       "    </tr>\n",
       "    <tr>\n",
       "      <th>3</th>\n",
       "      <td>Random Forest Without SMOTE</td>\n",
       "      <td>34346</td>\n",
       "      <td>60</td>\n",
       "      <td>4898</td>\n",
       "      <td>56545</td>\n",
       "      <td>0.489061</td>\n",
       "      <td>0.504622</td>\n",
       "    </tr>\n",
       "    <tr>\n",
       "      <th>4</th>\n",
       "      <td>XGBoost</td>\n",
       "      <td>29422</td>\n",
       "      <td>6161</td>\n",
       "      <td>3323</td>\n",
       "      <td>52019</td>\n",
       "      <td>0.584666</td>\n",
       "      <td>0.609806</td>\n",
       "    </tr>\n",
       "    <tr>\n",
       "      <th>5</th>\n",
       "      <td>XGBoost Without SMOTE</td>\n",
       "      <td>34219</td>\n",
       "      <td>115</td>\n",
       "      <td>4872</td>\n",
       "      <td>56516</td>\n",
       "      <td>0.493822</td>\n",
       "      <td>0.506763</td>\n",
       "    </tr>\n",
       "  </tbody>\n",
       "</table>\n",
       "</div>"
      ],
      "text/plain": [
       "                         Model  Score false_positive false_negative good_pred  \\\n",
       "0                     Baseline  27684           9596           2584     49323   \n",
       "1       Baseline Without SMOTE  34336             57           4897     56549   \n",
       "2                Random Forest  30334           3083           3893     54527   \n",
       "3  Random Forest Without SMOTE  34346             60           4898     56545   \n",
       "4                      XGBoost  29422           6161           3323     52019   \n",
       "5        XGBoost Without SMOTE  34219            115           4872     56516   \n",
       "\n",
       "   f1_score       AUC  \n",
       "0  0.582457  0.654098  \n",
       "1  0.489280  0.504750  \n",
       "2  0.585579  0.579431  \n",
       "3  0.489061  0.504622  \n",
       "4  0.584666  0.609806  \n",
       "5  0.493822  0.506763  "
      ]
     },
     "execution_count": 65,
     "metadata": {},
     "output_type": "execute_result"
    }
   ],
   "source": [
    "scores = personalizedMetric('XGBoost', y_test, ypred_df['Predict_bool'], scores=scores)\n",
    "scores = personalizedMetric('XGBoost Without SMOTE', y_test, ypred_df_no_smote['Predict_bool'], scores=scores)\n",
    "scores"
   ]
  },
  {
   "cell_type": "code",
   "execution_count": 66,
   "metadata": {},
   "outputs": [
    {
     "data": {
      "image/png": "[encoded data removed]",
      "text/plain": [
       "<Figure size 720x360 with 1 Axes>"
      ]
     },
     "metadata": {
      "needs_background": "light"
     },
     "output_type": "display_data"
    }
   ],
   "source": [
    "comparaison(scores, type_='SMOTE', model='XGBoost')"
   ]
  },
  {
   "cell_type": "markdown",
   "metadata": {},
   "source": [
    "### Features importance"
   ]
  },
  {
   "cell_type": "code",
   "execution_count": 67,
   "metadata": {},
   "outputs": [
    {
     "data": {
      "text/plain": [
       "[]"
      ]
     },
     "execution_count": 67,
     "metadata": {},
     "output_type": "execute_result"
    },
    {
     "data": {
      "image/png": "[encoded data removed]",
      "text/plain": [
       "<Figure size 432x288 with 1 Axes>"
      ]
     },
     "metadata": {
      "needs_background": "light"
     },
     "output_type": "display_data"
    }
   ],
   "source": [
    "xgb.plot_importance(bst)\n",
    "plt.plot()"
   ]
  },
  {
   "cell_type": "markdown",
   "metadata": {},
   "source": [
    "The model is less effective if we watch only the accuracy score, but it understands better the problem and this time predict not only 0 values, but also 1 values"
   ]
  },
  {
   "cell_type": "markdown",
   "metadata": {},
   "source": [
    "# Best Model"
   ]
  },
  {
   "cell_type": "markdown",
   "metadata": {},
   "source": [
    "Let's see our DataFrame with the personalized metric:"
   ]
  },
  {
   "cell_type": "code",
   "execution_count": 68,
   "metadata": {},
   "outputs": [
    {
     "data": {
      "text/html": [
       "<div>\n",
       "<style scoped>\n",
       "    .dataframe tbody tr th:only-of-type {\n",
       "        vertical-align: middle;\n",
       "    }\n",
       "\n",
       "    .dataframe tbody tr th {\n",
       "        vertical-align: top;\n",
       "    }\n",
       "\n",
       "    .dataframe thead th {\n",
       "        text-align: right;\n",
       "    }\n",
       "</style>\n",
       "<table border=\"1\" class=\"dataframe\">\n",
       "  <thead>\n",
       "    <tr style=\"text-align: right;\">\n",
       "      <th></th>\n",
       "      <th>Model</th>\n",
       "      <th>Score</th>\n",
       "      <th>false_positive</th>\n",
       "      <th>false_negative</th>\n",
       "      <th>good_pred</th>\n",
       "      <th>f1_score</th>\n",
       "      <th>AUC</th>\n",
       "    </tr>\n",
       "  </thead>\n",
       "  <tbody>\n",
       "    <tr>\n",
       "      <th>0</th>\n",
       "      <td>Baseline</td>\n",
       "      <td>27684</td>\n",
       "      <td>9596</td>\n",
       "      <td>2584</td>\n",
       "      <td>49323</td>\n",
       "      <td>0.582457</td>\n",
       "      <td>0.654098</td>\n",
       "    </tr>\n",
       "    <tr>\n",
       "      <th>1</th>\n",
       "      <td>Baseline Without SMOTE</td>\n",
       "      <td>34336</td>\n",
       "      <td>57</td>\n",
       "      <td>4897</td>\n",
       "      <td>56549</td>\n",
       "      <td>0.489280</td>\n",
       "      <td>0.504750</td>\n",
       "    </tr>\n",
       "    <tr>\n",
       "      <th>2</th>\n",
       "      <td>Random Forest</td>\n",
       "      <td>30334</td>\n",
       "      <td>3083</td>\n",
       "      <td>3893</td>\n",
       "      <td>54527</td>\n",
       "      <td>0.585579</td>\n",
       "      <td>0.579431</td>\n",
       "    </tr>\n",
       "    <tr>\n",
       "      <th>3</th>\n",
       "      <td>Random Forest Without SMOTE</td>\n",
       "      <td>34346</td>\n",
       "      <td>60</td>\n",
       "      <td>4898</td>\n",
       "      <td>56545</td>\n",
       "      <td>0.489061</td>\n",
       "      <td>0.504622</td>\n",
       "    </tr>\n",
       "    <tr>\n",
       "      <th>4</th>\n",
       "      <td>XGBoost</td>\n",
       "      <td>29422</td>\n",
       "      <td>6161</td>\n",
       "      <td>3323</td>\n",
       "      <td>52019</td>\n",
       "      <td>0.584666</td>\n",
       "      <td>0.609806</td>\n",
       "    </tr>\n",
       "    <tr>\n",
       "      <th>5</th>\n",
       "      <td>XGBoost Without SMOTE</td>\n",
       "      <td>34219</td>\n",
       "      <td>115</td>\n",
       "      <td>4872</td>\n",
       "      <td>56516</td>\n",
       "      <td>0.493822</td>\n",
       "      <td>0.506763</td>\n",
       "    </tr>\n",
       "  </tbody>\n",
       "</table>\n",
       "</div>"
      ],
      "text/plain": [
       "                         Model  Score false_positive false_negative good_pred  \\\n",
       "0                     Baseline  27684           9596           2584     49323   \n",
       "1       Baseline Without SMOTE  34336             57           4897     56549   \n",
       "2                Random Forest  30334           3083           3893     54527   \n",
       "3  Random Forest Without SMOTE  34346             60           4898     56545   \n",
       "4                      XGBoost  29422           6161           3323     52019   \n",
       "5        XGBoost Without SMOTE  34219            115           4872     56516   \n",
       "\n",
       "   f1_score       AUC  \n",
       "0  0.582457  0.654098  \n",
       "1  0.489280  0.504750  \n",
       "2  0.585579  0.579431  \n",
       "3  0.489061  0.504622  \n",
       "4  0.584666  0.609806  \n",
       "5  0.493822  0.506763  "
      ]
     },
     "execution_count": 68,
     "metadata": {},
     "output_type": "execute_result"
    }
   ],
   "source": [
    "scores"
   ]
  },
  {
   "cell_type": "code",
   "execution_count": 69,
   "metadata": {},
   "outputs": [
    {
     "data": {
      "image/png": "[encoded data removed]",
      "text/plain": [
       "<Figure size 720x360 with 1 Axes>"
      ]
     },
     "metadata": {
      "needs_background": "light"
     },
     "output_type": "display_data"
    }
   ],
   "source": [
    "comparaison(scores, type_='MODEL')"
   ]
  },
  {
   "cell_type": "markdown",
   "metadata": {},
   "source": [
    "The best model is logistic regression. The thing here is to reduce the number of false negative, in order for the bank to avoid loosing money. <br/>\n",
    "So even if the number of good prediction is higher with the random forest (and XGBoost), logistic regression performs better in term of saving money"
   ]
  },
  {
   "cell_type": "markdown",
   "metadata": {},
   "source": [
    "We'll now retrain the logistic regression with the full x_train dataset"
   ]
  },
  {
   "cell_type": "code",
   "execution_count": 70,
   "metadata": {},
   "outputs": [],
   "source": [
    "clf_final = LogisticRegression(max_iter=1000, random_state=42).fit(x_res, y_res)\n",
    "clf_final_predict = clf_final.predict(x_test)"
   ]
  },
  {
   "cell_type": "markdown",
   "metadata": {},
   "source": [
    "# Model Saving"
   ]
  },
  {
   "cell_type": "code",
   "execution_count": 71,
   "metadata": {},
   "outputs": [],
   "source": [
    "pickle.dump(clf_final, open('regLog', 'wb'))\n",
    "bst.load_model('0001.model')"
   ]
  }
 ],
 "metadata": {
  "kernelspec": {
   "display_name": "Python 3",
   "language": "python",
   "name": "python3"
  },
  "language_info": {
   "codemirror_mode": {
    "name": "ipython",
    "version": 3
   },
   "file_extension": ".py",
   "mimetype": "text/x-python",
   "name": "python",
   "nbconvert_exporter": "python",
   "pygments_lexer": "ipython3",
   "version": "3.7.6"
  },
  "toc": {
   "base_numbering": 1,
   "nav_menu": {},
   "number_sections": true,
   "sideBar": true,
   "skip_h1_title": false,
   "title_cell": "Table of Contents",
   "title_sidebar": "Contents",
   "toc_cell": true,
   "toc_position": {
    "height": "calc(100% - 180px)",
    "left": "10px",
    "top": "150px",
    "width": "352px"
   },
   "toc_section_display": true,
   "toc_window_display": false
  },
  "varInspector": {
   "cols": {
    "lenName": 16,
    "lenType": 16,
    "lenVar": 40
   },
   "kernels_config": {
    "python": {
     "delete_cmd_postfix": "",
     "delete_cmd_prefix": "del ",
     "library": "var_list.py",
     "varRefreshCmd": "print(var_dic_list())"
    },
    "r": {
     "delete_cmd_postfix": ") ",
     "delete_cmd_prefix": "rm(",
     "library": "var_list.r",
     "varRefreshCmd": "cat(var_dic_list()) "
    }
   },
   "types_to_exclude": [
    "module",
    "function",
    "builtin_function_or_method",
    "instance",
    "_Feature"
   ],
   "window_display": false
  }
 },
 "nbformat": 4,
 "nbformat_minor": 4
}
