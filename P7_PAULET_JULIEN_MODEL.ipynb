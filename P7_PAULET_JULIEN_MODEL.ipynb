{
 "cells": [
  {
   "cell_type": "markdown",
   "metadata": {
    "toc": true
   },
   "source": [
    "<h1>Table of Contents<span class=\"tocSkip\"></span></h1>\n",
    "<div class=\"toc\"><ul class=\"toc-item\"><li><span><a href=\"#Data-Import\" data-toc-modified-id=\"Data-Import-1\"><span class=\"toc-item-num\">1&nbsp;&nbsp;</span>Data Import</a></span><ul class=\"toc-item\"><li><span><a href=\"#Imputing-missing-values\" data-toc-modified-id=\"Imputing-missing-values-1.1\"><span class=\"toc-item-num\">1.1&nbsp;&nbsp;</span>Imputing missing values</a></span></li></ul></li><li><span><a href=\"#Over-Sampling\" data-toc-modified-id=\"Over-Sampling-2\"><span class=\"toc-item-num\">2&nbsp;&nbsp;</span>Over Sampling</a></span></li><li><span><a href=\"#Under-&amp;-Over-Sampling\" data-toc-modified-id=\"Under-&amp;-Over-Sampling-3\"><span class=\"toc-item-num\">3&nbsp;&nbsp;</span>Under &amp; Over Sampling</a></span></li><li><span><a href=\"#Sampling-for-modelization\" data-toc-modified-id=\"Sampling-for-modelization-4\"><span class=\"toc-item-num\">4&nbsp;&nbsp;</span>Sampling for modelization</a></span></li><li><span><a href=\"#Personalized-Metric\" data-toc-modified-id=\"Personalized-Metric-5\"><span class=\"toc-item-num\">5&nbsp;&nbsp;</span>Personalized Metric</a></span></li><li><span><a href=\"#Modeling\" data-toc-modified-id=\"Modeling-6\"><span class=\"toc-item-num\">6&nbsp;&nbsp;</span>Modeling</a></span><ul class=\"toc-item\"><li><span><a href=\"#Logistic-Regression-(Baseline)\" data-toc-modified-id=\"Logistic-Regression-(Baseline)-6.1\"><span class=\"toc-item-num\">6.1&nbsp;&nbsp;</span>Logistic Regression (Baseline)</a></span><ul class=\"toc-item\"><li><span><a href=\"#Training\" data-toc-modified-id=\"Training-6.1.1\"><span class=\"toc-item-num\">6.1.1&nbsp;&nbsp;</span>Training</a></span></li><li><span><a href=\"#Features-importance\" data-toc-modified-id=\"Features-importance-6.1.2\"><span class=\"toc-item-num\">6.1.2&nbsp;&nbsp;</span>Features importance</a></span></li><li><span><a href=\"#Performances\" data-toc-modified-id=\"Performances-6.1.3\"><span class=\"toc-item-num\">6.1.3&nbsp;&nbsp;</span>Performances</a></span></li></ul></li><li><span><a href=\"#Random-Forest\" data-toc-modified-id=\"Random-Forest-6.2\"><span class=\"toc-item-num\">6.2&nbsp;&nbsp;</span>Random Forest</a></span><ul class=\"toc-item\"><li><span><a href=\"#Training\" data-toc-modified-id=\"Training-6.2.1\"><span class=\"toc-item-num\">6.2.1&nbsp;&nbsp;</span>Training</a></span></li><li><span><a href=\"#Features-importance\" data-toc-modified-id=\"Features-importance-6.2.2\"><span class=\"toc-item-num\">6.2.2&nbsp;&nbsp;</span>Features importance</a></span></li><li><span><a href=\"#Performances\" data-toc-modified-id=\"Performances-6.2.3\"><span class=\"toc-item-num\">6.2.3&nbsp;&nbsp;</span>Performances</a></span></li></ul></li><li><span><a href=\"#XGBoost\" data-toc-modified-id=\"XGBoost-6.3\"><span class=\"toc-item-num\">6.3&nbsp;&nbsp;</span>XGBoost</a></span><ul class=\"toc-item\"><li><span><a href=\"#Training\" data-toc-modified-id=\"Training-6.3.1\"><span class=\"toc-item-num\">6.3.1&nbsp;&nbsp;</span>Training</a></span></li><li><span><a href=\"#Features-importance\" data-toc-modified-id=\"Features-importance-6.3.2\"><span class=\"toc-item-num\">6.3.2&nbsp;&nbsp;</span>Features importance</a></span></li><li><span><a href=\"#Performances\" data-toc-modified-id=\"Performances-6.3.3\"><span class=\"toc-item-num\">6.3.3&nbsp;&nbsp;</span>Performances</a></span></li></ul></li></ul></li><li><span><a href=\"#Best-Model\" data-toc-modified-id=\"Best-Model-7\"><span class=\"toc-item-num\">7&nbsp;&nbsp;</span>Best Model</a></span></li><li><span><a href=\"#Model-Saving\" data-toc-modified-id=\"Model-Saving-8\"><span class=\"toc-item-num\">8&nbsp;&nbsp;</span>Model Saving</a></span></li><li><span><a href=\"#Pipeline-Saving\" data-toc-modified-id=\"Pipeline-Saving-9\"><span class=\"toc-item-num\">9&nbsp;&nbsp;</span>Pipeline Saving</a></span></li></ul></div>"
   ]
  },
  {
   "cell_type": "markdown",
   "metadata": {},
   "source": [
    "https://medium.com/henry-jia/how-to-score-your-credit-1c08dd73e2ed <br/>\n",
    "https://towardsdatascience.com/intro-to-credit-scorecard-9afeaaa3725f"
   ]
  },
  {
   "cell_type": "code",
   "execution_count": 1,
   "metadata": {},
   "outputs": [
    {
     "name": "stderr",
     "output_type": "stream",
     "text": [
      "C:\\ProgramData\\Anaconda3\\lib\\site-packages\\numpy\\core\\__init__.py:29: UserWarning: loaded more than 1 DLL from .libs:\n",
      "C:\\ProgramData\\Anaconda3\\lib\\site-packages\\numpy\\.libs\\libopenblas.PYQHXLVVQ7VESDPUVUADXEVJOBGHJPAY.gfortran-win_amd64.dll\n",
      "C:\\ProgramData\\Anaconda3\\lib\\site-packages\\numpy\\.libs\\libopenblas.TXA6YQSD3GCQQC22GEQ54J2UDCXDXHWN.gfortran-win_amd64.dll\n",
      "  stacklevel=1)\n"
     ]
    }
   ],
   "source": [
    "import pandas as pd\n",
    "import numpy as np\n",
    "import time\n",
    "import seaborn as sns\n",
    "import matplotlib.pyplot as plt\n",
    "from sklearn.metrics import accuracy_score\n",
    "from sklearn.metrics import confusion_matrix"
   ]
  },
  {
   "cell_type": "markdown",
   "metadata": {},
   "source": [
    "# Data Import"
   ]
  },
  {
   "cell_type": "code",
   "execution_count": 2,
   "metadata": {},
   "outputs": [],
   "source": [
    "try:\n",
    "    application_train = pd.read_csv('cleaned_data/application_train_cleaned.csv').drop(columns=['Unnamed: 0'])\n",
    "except:\n",
    "    application_train = pd.read_csv('cleaned_data/application_train_cleaned.csv')\n",
    "\n",
    "try:\n",
    "    application_test = pd.read_csv('cleaned_data/application_test_cleaned.csv').drop(columns=['Unnamed: 0'])\n",
    "except:\n",
    "    application_test = pd.read_csv('cleaned_data/application_test_cleaned.csv')\n",
    "    \n",
    "application_train = application_train.set_index('SK_ID_CURR')\n",
    "application_test = application_test.set_index('SK_ID_CURR')"
   ]
  },
  {
   "cell_type": "code",
   "execution_count": 3,
   "metadata": {},
   "outputs": [
    {
     "data": {
      "text/html": [
       "<div>\n",
       "<style scoped>\n",
       "    .dataframe tbody tr th:only-of-type {\n",
       "        vertical-align: middle;\n",
       "    }\n",
       "\n",
       "    .dataframe tbody tr th {\n",
       "        vertical-align: top;\n",
       "    }\n",
       "\n",
       "    .dataframe thead th {\n",
       "        text-align: right;\n",
       "    }\n",
       "</style>\n",
       "<table border=\"1\" class=\"dataframe\">\n",
       "  <thead>\n",
       "    <tr style=\"text-align: right;\">\n",
       "      <th></th>\n",
       "      <th>TARGET</th>\n",
       "      <th>NAME_CONTRACT_TYPE</th>\n",
       "      <th>CODE_GENDER</th>\n",
       "      <th>FLAG_OWN_CAR</th>\n",
       "      <th>FLAG_OWN_REALTY</th>\n",
       "      <th>CNT_CHILDREN</th>\n",
       "      <th>AMT_INCOME_TOTAL</th>\n",
       "      <th>AMT_CREDIT</th>\n",
       "      <th>AMT_ANNUITY</th>\n",
       "      <th>AMT_GOODS_PRICE</th>\n",
       "      <th>...</th>\n",
       "      <th>MEAN_BUILDING_SCORE_AVG</th>\n",
       "      <th>TOTAL_BUILDING_SCORE_AVG</th>\n",
       "      <th>FLAG_DOCUMENT_TOTAL</th>\n",
       "      <th>AMT_REQ_CREDIT_BUREAU_TOTAL</th>\n",
       "      <th>BIRTH_EMPLOTED_INTERVEL</th>\n",
       "      <th>BIRTH_REGISTRATION_INTERVEL</th>\n",
       "      <th>INCOME_PER_FAMILY_MEMBER</th>\n",
       "      <th>SEASON_REMAINING</th>\n",
       "      <th>RATIO_INCOME_GOODS</th>\n",
       "      <th>CHILDREN_RATIO</th>\n",
       "    </tr>\n",
       "    <tr>\n",
       "      <th>SK_ID_CURR</th>\n",
       "      <th></th>\n",
       "      <th></th>\n",
       "      <th></th>\n",
       "      <th></th>\n",
       "      <th></th>\n",
       "      <th></th>\n",
       "      <th></th>\n",
       "      <th></th>\n",
       "      <th></th>\n",
       "      <th></th>\n",
       "      <th></th>\n",
       "      <th></th>\n",
       "      <th></th>\n",
       "      <th></th>\n",
       "      <th></th>\n",
       "      <th></th>\n",
       "      <th></th>\n",
       "      <th></th>\n",
       "      <th></th>\n",
       "      <th></th>\n",
       "      <th></th>\n",
       "    </tr>\n",
       "  </thead>\n",
       "  <tbody>\n",
       "    <tr>\n",
       "      <th>100002</th>\n",
       "      <td>1</td>\n",
       "      <td>0</td>\n",
       "      <td>1</td>\n",
       "      <td>0</td>\n",
       "      <td>1</td>\n",
       "      <td>0</td>\n",
       "      <td>202500.0</td>\n",
       "      <td>406597.5</td>\n",
       "      <td>24700.5</td>\n",
       "      <td>351000.0</td>\n",
       "      <td>...</td>\n",
       "      <td>0.144336</td>\n",
       "      <td>2.0207</td>\n",
       "      <td>1</td>\n",
       "      <td>1.0</td>\n",
       "      <td>8824</td>\n",
       "      <td>5813.0</td>\n",
       "      <td>202500.0</td>\n",
       "      <td>25924.5</td>\n",
       "      <td>-148500.0</td>\n",
       "      <td>0.0</td>\n",
       "    </tr>\n",
       "    <tr>\n",
       "      <th>100003</th>\n",
       "      <td>0</td>\n",
       "      <td>0</td>\n",
       "      <td>0</td>\n",
       "      <td>0</td>\n",
       "      <td>0</td>\n",
       "      <td>0</td>\n",
       "      <td>270000.0</td>\n",
       "      <td>1293502.5</td>\n",
       "      <td>35698.5</td>\n",
       "      <td>1129500.0</td>\n",
       "      <td>...</td>\n",
       "      <td>0.206343</td>\n",
       "      <td>2.8888</td>\n",
       "      <td>1</td>\n",
       "      <td>0.0</td>\n",
       "      <td>15577</td>\n",
       "      <td>15579.0</td>\n",
       "      <td>135000.0</td>\n",
       "      <td>31801.5</td>\n",
       "      <td>-859500.0</td>\n",
       "      <td>0.0</td>\n",
       "    </tr>\n",
       "    <tr>\n",
       "      <th>100004</th>\n",
       "      <td>0</td>\n",
       "      <td>1</td>\n",
       "      <td>1</td>\n",
       "      <td>1</td>\n",
       "      <td>1</td>\n",
       "      <td>0</td>\n",
       "      <td>67500.0</td>\n",
       "      <td>135000.0</td>\n",
       "      <td>6750.0</td>\n",
       "      <td>135000.0</td>\n",
       "      <td>...</td>\n",
       "      <td>NaN</td>\n",
       "      <td>0.0000</td>\n",
       "      <td>0</td>\n",
       "      <td>0.0</td>\n",
       "      <td>18821</td>\n",
       "      <td>14786.0</td>\n",
       "      <td>67500.0</td>\n",
       "      <td>10125.0</td>\n",
       "      <td>-67500.0</td>\n",
       "      <td>0.0</td>\n",
       "    </tr>\n",
       "    <tr>\n",
       "      <th>100006</th>\n",
       "      <td>0</td>\n",
       "      <td>0</td>\n",
       "      <td>0</td>\n",
       "      <td>0</td>\n",
       "      <td>1</td>\n",
       "      <td>0</td>\n",
       "      <td>135000.0</td>\n",
       "      <td>312682.5</td>\n",
       "      <td>29686.5</td>\n",
       "      <td>297000.0</td>\n",
       "      <td>...</td>\n",
       "      <td>NaN</td>\n",
       "      <td>0.0000</td>\n",
       "      <td>1</td>\n",
       "      <td>0.0</td>\n",
       "      <td>15966</td>\n",
       "      <td>9172.0</td>\n",
       "      <td>67500.0</td>\n",
       "      <td>4063.5</td>\n",
       "      <td>-162000.0</td>\n",
       "      <td>0.0</td>\n",
       "    </tr>\n",
       "    <tr>\n",
       "      <th>100007</th>\n",
       "      <td>0</td>\n",
       "      <td>0</td>\n",
       "      <td>1</td>\n",
       "      <td>0</td>\n",
       "      <td>1</td>\n",
       "      <td>0</td>\n",
       "      <td>121500.0</td>\n",
       "      <td>513000.0</td>\n",
       "      <td>21865.5</td>\n",
       "      <td>513000.0</td>\n",
       "      <td>...</td>\n",
       "      <td>NaN</td>\n",
       "      <td>0.0000</td>\n",
       "      <td>1</td>\n",
       "      <td>0.0</td>\n",
       "      <td>16894</td>\n",
       "      <td>15621.0</td>\n",
       "      <td>121500.0</td>\n",
       "      <td>8509.5</td>\n",
       "      <td>-391500.0</td>\n",
       "      <td>0.0</td>\n",
       "    </tr>\n",
       "  </tbody>\n",
       "</table>\n",
       "<p>5 rows × 133 columns</p>\n",
       "</div>"
      ],
      "text/plain": [
       "            TARGET  NAME_CONTRACT_TYPE  CODE_GENDER  FLAG_OWN_CAR  \\\n",
       "SK_ID_CURR                                                          \n",
       "100002           1                   0            1             0   \n",
       "100003           0                   0            0             0   \n",
       "100004           0                   1            1             1   \n",
       "100006           0                   0            0             0   \n",
       "100007           0                   0            1             0   \n",
       "\n",
       "            FLAG_OWN_REALTY  CNT_CHILDREN  AMT_INCOME_TOTAL  AMT_CREDIT  \\\n",
       "SK_ID_CURR                                                                \n",
       "100002                    1             0          202500.0    406597.5   \n",
       "100003                    0             0          270000.0   1293502.5   \n",
       "100004                    1             0           67500.0    135000.0   \n",
       "100006                    1             0          135000.0    312682.5   \n",
       "100007                    1             0          121500.0    513000.0   \n",
       "\n",
       "            AMT_ANNUITY  AMT_GOODS_PRICE  ...  MEAN_BUILDING_SCORE_AVG  \\\n",
       "SK_ID_CURR                                ...                            \n",
       "100002          24700.5         351000.0  ...                 0.144336   \n",
       "100003          35698.5        1129500.0  ...                 0.206343   \n",
       "100004           6750.0         135000.0  ...                      NaN   \n",
       "100006          29686.5         297000.0  ...                      NaN   \n",
       "100007          21865.5         513000.0  ...                      NaN   \n",
       "\n",
       "            TOTAL_BUILDING_SCORE_AVG  FLAG_DOCUMENT_TOTAL  \\\n",
       "SK_ID_CURR                                                  \n",
       "100002                        2.0207                    1   \n",
       "100003                        2.8888                    1   \n",
       "100004                        0.0000                    0   \n",
       "100006                        0.0000                    1   \n",
       "100007                        0.0000                    1   \n",
       "\n",
       "            AMT_REQ_CREDIT_BUREAU_TOTAL  BIRTH_EMPLOTED_INTERVEL  \\\n",
       "SK_ID_CURR                                                         \n",
       "100002                              1.0                     8824   \n",
       "100003                              0.0                    15577   \n",
       "100004                              0.0                    18821   \n",
       "100006                              0.0                    15966   \n",
       "100007                              0.0                    16894   \n",
       "\n",
       "            BIRTH_REGISTRATION_INTERVEL  INCOME_PER_FAMILY_MEMBER  \\\n",
       "SK_ID_CURR                                                          \n",
       "100002                           5813.0                  202500.0   \n",
       "100003                          15579.0                  135000.0   \n",
       "100004                          14786.0                   67500.0   \n",
       "100006                           9172.0                   67500.0   \n",
       "100007                          15621.0                  121500.0   \n",
       "\n",
       "            SEASON_REMAINING  RATIO_INCOME_GOODS  CHILDREN_RATIO  \n",
       "SK_ID_CURR                                                        \n",
       "100002               25924.5           -148500.0             0.0  \n",
       "100003               31801.5           -859500.0             0.0  \n",
       "100004               10125.0            -67500.0             0.0  \n",
       "100006                4063.5           -162000.0             0.0  \n",
       "100007                8509.5           -391500.0             0.0  \n",
       "\n",
       "[5 rows x 133 columns]"
      ]
     },
     "execution_count": 3,
     "metadata": {},
     "output_type": "execute_result"
    }
   ],
   "source": [
    "application_train.head()"
   ]
  },
  {
   "cell_type": "code",
   "execution_count": 4,
   "metadata": {},
   "outputs": [
    {
     "data": {
      "text/html": [
       "<div>\n",
       "<style scoped>\n",
       "    .dataframe tbody tr th:only-of-type {\n",
       "        vertical-align: middle;\n",
       "    }\n",
       "\n",
       "    .dataframe tbody tr th {\n",
       "        vertical-align: top;\n",
       "    }\n",
       "\n",
       "    .dataframe thead th {\n",
       "        text-align: right;\n",
       "    }\n",
       "</style>\n",
       "<table border=\"1\" class=\"dataframe\">\n",
       "  <thead>\n",
       "    <tr style=\"text-align: right;\">\n",
       "      <th></th>\n",
       "      <th>NAME_CONTRACT_TYPE</th>\n",
       "      <th>CODE_GENDER</th>\n",
       "      <th>FLAG_OWN_CAR</th>\n",
       "      <th>FLAG_OWN_REALTY</th>\n",
       "      <th>CNT_CHILDREN</th>\n",
       "      <th>AMT_INCOME_TOTAL</th>\n",
       "      <th>AMT_CREDIT</th>\n",
       "      <th>AMT_ANNUITY</th>\n",
       "      <th>AMT_GOODS_PRICE</th>\n",
       "      <th>NAME_TYPE_SUITE</th>\n",
       "      <th>...</th>\n",
       "      <th>MEAN_BUILDING_SCORE_AVG</th>\n",
       "      <th>TOTAL_BUILDING_SCORE_AVG</th>\n",
       "      <th>FLAG_DOCUMENT_TOTAL</th>\n",
       "      <th>AMT_REQ_CREDIT_BUREAU_TOTAL</th>\n",
       "      <th>BIRTH_EMPLOTED_INTERVEL</th>\n",
       "      <th>BIRTH_REGISTRATION_INTERVEL</th>\n",
       "      <th>INCOME_PER_FAMILY_MEMBER</th>\n",
       "      <th>SEASON_REMAINING</th>\n",
       "      <th>RATIO_INCOME_GOODS</th>\n",
       "      <th>CHILDREN_RATIO</th>\n",
       "    </tr>\n",
       "    <tr>\n",
       "      <th>SK_ID_CURR</th>\n",
       "      <th></th>\n",
       "      <th></th>\n",
       "      <th></th>\n",
       "      <th></th>\n",
       "      <th></th>\n",
       "      <th></th>\n",
       "      <th></th>\n",
       "      <th></th>\n",
       "      <th></th>\n",
       "      <th></th>\n",
       "      <th></th>\n",
       "      <th></th>\n",
       "      <th></th>\n",
       "      <th></th>\n",
       "      <th></th>\n",
       "      <th></th>\n",
       "      <th></th>\n",
       "      <th></th>\n",
       "      <th></th>\n",
       "      <th></th>\n",
       "      <th></th>\n",
       "    </tr>\n",
       "  </thead>\n",
       "  <tbody>\n",
       "    <tr>\n",
       "      <th>100001</th>\n",
       "      <td>0</td>\n",
       "      <td>0</td>\n",
       "      <td>0</td>\n",
       "      <td>1</td>\n",
       "      <td>0</td>\n",
       "      <td>135000.0</td>\n",
       "      <td>568800.0</td>\n",
       "      <td>20560.5</td>\n",
       "      <td>450000.0</td>\n",
       "      <td>7</td>\n",
       "      <td>...</td>\n",
       "      <td>0.235467</td>\n",
       "      <td>1.4128</td>\n",
       "      <td>1.0</td>\n",
       "      <td>27.664697</td>\n",
       "      <td>16912</td>\n",
       "      <td>14071.0</td>\n",
       "      <td>67500.0</td>\n",
       "      <td>13189.5</td>\n",
       "      <td>-315000.0</td>\n",
       "      <td>0.000000</td>\n",
       "    </tr>\n",
       "    <tr>\n",
       "      <th>100005</th>\n",
       "      <td>0</td>\n",
       "      <td>1</td>\n",
       "      <td>0</td>\n",
       "      <td>1</td>\n",
       "      <td>0</td>\n",
       "      <td>99000.0</td>\n",
       "      <td>222768.0</td>\n",
       "      <td>17370.0</td>\n",
       "      <td>180000.0</td>\n",
       "      <td>7</td>\n",
       "      <td>...</td>\n",
       "      <td>NaN</td>\n",
       "      <td>0.0000</td>\n",
       "      <td>1.0</td>\n",
       "      <td>15.824870</td>\n",
       "      <td>13595</td>\n",
       "      <td>8946.0</td>\n",
       "      <td>49500.0</td>\n",
       "      <td>7380.0</td>\n",
       "      <td>-81000.0</td>\n",
       "      <td>0.000000</td>\n",
       "    </tr>\n",
       "    <tr>\n",
       "      <th>100013</th>\n",
       "      <td>0</td>\n",
       "      <td>1</td>\n",
       "      <td>1</td>\n",
       "      <td>1</td>\n",
       "      <td>0</td>\n",
       "      <td>202500.0</td>\n",
       "      <td>663264.0</td>\n",
       "      <td>69777.0</td>\n",
       "      <td>630000.0</td>\n",
       "      <td>3</td>\n",
       "      <td>...</td>\n",
       "      <td>NaN</td>\n",
       "      <td>0.0000</td>\n",
       "      <td>1.0</td>\n",
       "      <td>14.505482</td>\n",
       "      <td>15580</td>\n",
       "      <td>17863.0</td>\n",
       "      <td>101250.0</td>\n",
       "      <td>-19152.0</td>\n",
       "      <td>-427500.0</td>\n",
       "      <td>0.000000</td>\n",
       "    </tr>\n",
       "    <tr>\n",
       "      <th>100028</th>\n",
       "      <td>0</td>\n",
       "      <td>0</td>\n",
       "      <td>0</td>\n",
       "      <td>1</td>\n",
       "      <td>2</td>\n",
       "      <td>315000.0</td>\n",
       "      <td>1575000.0</td>\n",
       "      <td>49018.5</td>\n",
       "      <td>1575000.0</td>\n",
       "      <td>7</td>\n",
       "      <td>...</td>\n",
       "      <td>0.323150</td>\n",
       "      <td>4.5241</td>\n",
       "      <td>1.0</td>\n",
       "      <td>35.130726</td>\n",
       "      <td>12110</td>\n",
       "      <td>11976.0</td>\n",
       "      <td>78750.0</td>\n",
       "      <td>29731.5</td>\n",
       "      <td>-1260000.0</td>\n",
       "      <td>0.500000</td>\n",
       "    </tr>\n",
       "    <tr>\n",
       "      <th>100038</th>\n",
       "      <td>0</td>\n",
       "      <td>1</td>\n",
       "      <td>1</td>\n",
       "      <td>0</td>\n",
       "      <td>1</td>\n",
       "      <td>180000.0</td>\n",
       "      <td>625500.0</td>\n",
       "      <td>32067.0</td>\n",
       "      <td>625500.0</td>\n",
       "      <td>7</td>\n",
       "      <td>...</td>\n",
       "      <td>NaN</td>\n",
       "      <td>0.0000</td>\n",
       "      <td>1.0</td>\n",
       "      <td>19.506034</td>\n",
       "      <td>10849</td>\n",
       "      <td>9040.0</td>\n",
       "      <td>60000.0</td>\n",
       "      <td>12933.0</td>\n",
       "      <td>-445500.0</td>\n",
       "      <td>0.333333</td>\n",
       "    </tr>\n",
       "  </tbody>\n",
       "</table>\n",
       "<p>5 rows × 132 columns</p>\n",
       "</div>"
      ],
      "text/plain": [
       "            NAME_CONTRACT_TYPE  CODE_GENDER  FLAG_OWN_CAR  FLAG_OWN_REALTY  \\\n",
       "SK_ID_CURR                                                                   \n",
       "100001                       0            0             0                1   \n",
       "100005                       0            1             0                1   \n",
       "100013                       0            1             1                1   \n",
       "100028                       0            0             0                1   \n",
       "100038                       0            1             1                0   \n",
       "\n",
       "            CNT_CHILDREN  AMT_INCOME_TOTAL  AMT_CREDIT  AMT_ANNUITY  \\\n",
       "SK_ID_CURR                                                            \n",
       "100001                 0          135000.0    568800.0      20560.5   \n",
       "100005                 0           99000.0    222768.0      17370.0   \n",
       "100013                 0          202500.0    663264.0      69777.0   \n",
       "100028                 2          315000.0   1575000.0      49018.5   \n",
       "100038                 1          180000.0    625500.0      32067.0   \n",
       "\n",
       "            AMT_GOODS_PRICE  NAME_TYPE_SUITE  ...  MEAN_BUILDING_SCORE_AVG  \\\n",
       "SK_ID_CURR                                    ...                            \n",
       "100001             450000.0                7  ...                 0.235467   \n",
       "100005             180000.0                7  ...                      NaN   \n",
       "100013             630000.0                3  ...                      NaN   \n",
       "100028            1575000.0                7  ...                 0.323150   \n",
       "100038             625500.0                7  ...                      NaN   \n",
       "\n",
       "            TOTAL_BUILDING_SCORE_AVG  FLAG_DOCUMENT_TOTAL  \\\n",
       "SK_ID_CURR                                                  \n",
       "100001                        1.4128                  1.0   \n",
       "100005                        0.0000                  1.0   \n",
       "100013                        0.0000                  1.0   \n",
       "100028                        4.5241                  1.0   \n",
       "100038                        0.0000                  1.0   \n",
       "\n",
       "            AMT_REQ_CREDIT_BUREAU_TOTAL  BIRTH_EMPLOTED_INTERVEL  \\\n",
       "SK_ID_CURR                                                         \n",
       "100001                        27.664697                    16912   \n",
       "100005                        15.824870                    13595   \n",
       "100013                        14.505482                    15580   \n",
       "100028                        35.130726                    12110   \n",
       "100038                        19.506034                    10849   \n",
       "\n",
       "            BIRTH_REGISTRATION_INTERVEL  INCOME_PER_FAMILY_MEMBER  \\\n",
       "SK_ID_CURR                                                          \n",
       "100001                          14071.0                   67500.0   \n",
       "100005                           8946.0                   49500.0   \n",
       "100013                          17863.0                  101250.0   \n",
       "100028                          11976.0                   78750.0   \n",
       "100038                           9040.0                   60000.0   \n",
       "\n",
       "            SEASON_REMAINING  RATIO_INCOME_GOODS  CHILDREN_RATIO  \n",
       "SK_ID_CURR                                                        \n",
       "100001               13189.5           -315000.0        0.000000  \n",
       "100005                7380.0            -81000.0        0.000000  \n",
       "100013              -19152.0           -427500.0        0.000000  \n",
       "100028               29731.5          -1260000.0        0.500000  \n",
       "100038               12933.0           -445500.0        0.333333  \n",
       "\n",
       "[5 rows x 132 columns]"
      ]
     },
     "execution_count": 4,
     "metadata": {},
     "output_type": "execute_result"
    }
   ],
   "source": [
    "application_test.head()"
   ]
  },
  {
   "cell_type": "code",
   "execution_count": 5,
   "metadata": {},
   "outputs": [],
   "source": [
    "def isnan(data, aff_glob=True, aff_col=False):\n",
    "    taille = len(data)\n",
    "    nulle = []\n",
    "    nbr_moy = []\n",
    "    for i in data.columns:\n",
    "        if any(pd.isna(data[i])):\n",
    "            nbr = len(data[i])-len(data[i].dropna())\n",
    "            if aff_glob == True:\n",
    "                print(\"La colonne '{}'\".format(i), \"comporte\", nbr, \"/ {}\".format(taille), \"valeur(s) manquante(s)\")\n",
    "                print(\"Ce qui représente {}%\".format(nbr/taille*100))\n",
    "            if aff_col == True:\n",
    "                print(\"La colonne '{}' comporte des valeurs manquantes\".format(i))\n",
    "            col = data[i]\n",
    "            nulle.append(col)\n",
    "            nbr_moy.append(nbr)\n",
    "            \n",
    "    nbr_moy = pd.DataFrame(nbr_moy, columns=['Nbr']).mean()\n",
    "    print(len(nulle), \"colonnes au total possèdent des valeurs manquantes\")\n",
    "    print(nbr_moy[0], \"/ {}\".format(taille), \"valeurs sont manquantes en moyenne dans chaque colonne\") "
   ]
  },
  {
   "cell_type": "code",
   "execution_count": 6,
   "metadata": {},
   "outputs": [
    {
     "name": "stdout",
     "output_type": "stream",
     "text": [
      "La colonne 'AMT_ANNUITY' comporte 12 / 307511 valeur(s) manquante(s)\n",
      "Ce qui représente 0.003902299429939092%\n",
      "La colonne 'AMT_GOODS_PRICE' comporte 278 / 307511 valeur(s) manquante(s)\n",
      "Ce qui représente 0.09040327012692229%\n",
      "La colonne 'OWN_CAR_AGE' comporte 202929 / 307511 valeur(s) manquante(s)\n",
      "Ce qui représente 65.9908100848425%\n",
      "La colonne 'CNT_FAM_MEMBERS' comporte 2 / 307511 valeur(s) manquante(s)\n",
      "Ce qui représente 0.0006503832383231819%\n",
      "La colonne 'EXT_SOURCE_1' comporte 173378 / 307511 valeur(s) manquante(s)\n",
      "Ce qui représente 56.381072546998325%\n",
      "La colonne 'EXT_SOURCE_2' comporte 660 / 307511 valeur(s) manquante(s)\n",
      "Ce qui représente 0.21462646864665005%\n",
      "La colonne 'EXT_SOURCE_3' comporte 60965 / 307511 valeur(s) manquante(s)\n",
      "Ce qui représente 19.825307062186393%\n",
      "La colonne 'APARTMENTS_AVG' comporte 156061 / 307511 valeur(s) manquante(s)\n",
      "Ce qui représente 50.74972927797705%\n",
      "La colonne 'BASEMENTAREA_AVG' comporte 179943 / 307511 valeur(s) manquante(s)\n",
      "Ce qui représente 58.51595552679416%\n",
      "La colonne 'YEARS_BEGINEXPLUATATION_AVG' comporte 150007 / 307511 valeur(s) manquante(s)\n",
      "Ce qui représente 48.781019215572776%\n",
      "La colonne 'YEARS_BUILD_AVG' comporte 204488 / 307511 valeur(s) manquante(s)\n",
      "Ce qui représente 66.49778381911543%\n",
      "La colonne 'COMMONAREA_AVG' comporte 214865 / 307511 valeur(s) manquante(s)\n",
      "Ce qui représente 69.87229725115525%\n",
      "La colonne 'ELEVATORS_AVG' comporte 163891 / 307511 valeur(s) manquante(s)\n",
      "Ce qui représente 53.29597965601231%\n",
      "La colonne 'ENTRANCES_AVG' comporte 154828 / 307511 valeur(s) manquante(s)\n",
      "Ce qui représente 50.3487680115508%\n",
      "La colonne 'FLOORSMAX_AVG' comporte 153020 / 307511 valeur(s) manquante(s)\n",
      "Ce qui représente 49.76082156410665%\n",
      "La colonne 'FLOORSMIN_AVG' comporte 208642 / 307511 valeur(s) manquante(s)\n",
      "Ce qui représente 67.84862980511267%\n",
      "La colonne 'LANDAREA_AVG' comporte 182590 / 307511 valeur(s) manquante(s)\n",
      "Ce qui représente 59.376737742714894%\n",
      "La colonne 'LIVINGAPARTMENTS_AVG' comporte 210199 / 307511 valeur(s) manquante(s)\n",
      "Ce qui représente 68.35495315614726%\n",
      "La colonne 'LIVINGAREA_AVG' comporte 154350 / 307511 valeur(s) manquante(s)\n",
      "Ce qui représente 50.193326417591564%\n",
      "La colonne 'NONLIVINGAPARTMENTS_AVG' comporte 213514 / 307511 valeur(s) manquante(s)\n",
      "Ce qui représente 69.43296337366793%\n",
      "La colonne 'NONLIVINGAREA_AVG' comporte 169682 / 307511 valeur(s) manquante(s)\n",
      "Ce qui représente 55.17916432257708%\n",
      "La colonne 'APARTMENTS_MODE' comporte 156061 / 307511 valeur(s) manquante(s)\n",
      "Ce qui représente 50.74972927797705%\n",
      "La colonne 'BASEMENTAREA_MODE' comporte 179943 / 307511 valeur(s) manquante(s)\n",
      "Ce qui représente 58.51595552679416%\n",
      "La colonne 'YEARS_BEGINEXPLUATATION_MODE' comporte 150007 / 307511 valeur(s) manquante(s)\n",
      "Ce qui représente 48.781019215572776%\n",
      "La colonne 'YEARS_BUILD_MODE' comporte 204488 / 307511 valeur(s) manquante(s)\n",
      "Ce qui représente 66.49778381911543%\n",
      "La colonne 'COMMONAREA_MODE' comporte 214865 / 307511 valeur(s) manquante(s)\n",
      "Ce qui représente 69.87229725115525%\n",
      "La colonne 'ELEVATORS_MODE' comporte 163891 / 307511 valeur(s) manquante(s)\n",
      "Ce qui représente 53.29597965601231%\n",
      "La colonne 'ENTRANCES_MODE' comporte 154828 / 307511 valeur(s) manquante(s)\n",
      "Ce qui représente 50.3487680115508%\n",
      "La colonne 'FLOORSMAX_MODE' comporte 153020 / 307511 valeur(s) manquante(s)\n",
      "Ce qui représente 49.76082156410665%\n",
      "La colonne 'FLOORSMIN_MODE' comporte 208642 / 307511 valeur(s) manquante(s)\n",
      "Ce qui représente 67.84862980511267%\n",
      "La colonne 'LANDAREA_MODE' comporte 182590 / 307511 valeur(s) manquante(s)\n",
      "Ce qui représente 59.376737742714894%\n",
      "La colonne 'LIVINGAPARTMENTS_MODE' comporte 210199 / 307511 valeur(s) manquante(s)\n",
      "Ce qui représente 68.35495315614726%\n",
      "La colonne 'LIVINGAREA_MODE' comporte 154350 / 307511 valeur(s) manquante(s)\n",
      "Ce qui représente 50.193326417591564%\n",
      "La colonne 'NONLIVINGAPARTMENTS_MODE' comporte 213514 / 307511 valeur(s) manquante(s)\n",
      "Ce qui représente 69.43296337366793%\n",
      "La colonne 'NONLIVINGAREA_MODE' comporte 169682 / 307511 valeur(s) manquante(s)\n",
      "Ce qui représente 55.17916432257708%\n",
      "La colonne 'APARTMENTS_MEDI' comporte 156061 / 307511 valeur(s) manquante(s)\n",
      "Ce qui représente 50.74972927797705%\n",
      "La colonne 'BASEMENTAREA_MEDI' comporte 179943 / 307511 valeur(s) manquante(s)\n",
      "Ce qui représente 58.51595552679416%\n",
      "La colonne 'YEARS_BEGINEXPLUATATION_MEDI' comporte 150007 / 307511 valeur(s) manquante(s)\n",
      "Ce qui représente 48.781019215572776%\n",
      "La colonne 'YEARS_BUILD_MEDI' comporte 204488 / 307511 valeur(s) manquante(s)\n",
      "Ce qui représente 66.49778381911543%\n",
      "La colonne 'COMMONAREA_MEDI' comporte 214865 / 307511 valeur(s) manquante(s)\n",
      "Ce qui représente 69.87229725115525%\n",
      "La colonne 'ELEVATORS_MEDI' comporte 163891 / 307511 valeur(s) manquante(s)\n",
      "Ce qui représente 53.29597965601231%\n",
      "La colonne 'ENTRANCES_MEDI' comporte 154828 / 307511 valeur(s) manquante(s)\n",
      "Ce qui représente 50.3487680115508%\n",
      "La colonne 'FLOORSMAX_MEDI' comporte 153020 / 307511 valeur(s) manquante(s)\n",
      "Ce qui représente 49.76082156410665%\n",
      "La colonne 'FLOORSMIN_MEDI' comporte 208642 / 307511 valeur(s) manquante(s)\n",
      "Ce qui représente 67.84862980511267%\n",
      "La colonne 'LANDAREA_MEDI' comporte 182590 / 307511 valeur(s) manquante(s)\n",
      "Ce qui représente 59.376737742714894%\n",
      "La colonne 'LIVINGAPARTMENTS_MEDI' comporte 210199 / 307511 valeur(s) manquante(s)\n",
      "Ce qui représente 68.35495315614726%\n",
      "La colonne 'LIVINGAREA_MEDI' comporte 154350 / 307511 valeur(s) manquante(s)\n",
      "Ce qui représente 50.193326417591564%\n",
      "La colonne 'NONLIVINGAPARTMENTS_MEDI' comporte 213514 / 307511 valeur(s) manquante(s)\n",
      "Ce qui représente 69.43296337366793%\n",
      "La colonne 'NONLIVINGAREA_MEDI' comporte 169682 / 307511 valeur(s) manquante(s)\n",
      "Ce qui représente 55.17916432257708%\n",
      "La colonne 'TOTALAREA_MODE' comporte 148431 / 307511 valeur(s) manquante(s)\n",
      "Ce qui représente 48.26851722377411%\n",
      "La colonne 'OBS_30_CNT_SOCIAL_CIRCLE' comporte 1021 / 307511 valeur(s) manquante(s)\n",
      "Ce qui représente 0.3320206431639844%\n",
      "La colonne 'DEF_30_CNT_SOCIAL_CIRCLE' comporte 1021 / 307511 valeur(s) manquante(s)\n",
      "Ce qui représente 0.3320206431639844%\n",
      "La colonne 'OBS_60_CNT_SOCIAL_CIRCLE' comporte 1021 / 307511 valeur(s) manquante(s)\n",
      "Ce qui représente 0.3320206431639844%\n",
      "La colonne 'DEF_60_CNT_SOCIAL_CIRCLE' comporte 1021 / 307511 valeur(s) manquante(s)\n",
      "Ce qui représente 0.3320206431639844%\n",
      "La colonne 'DAYS_LAST_PHONE_CHANGE' comporte 1 / 307511 valeur(s) manquante(s)\n",
      "Ce qui représente 0.00032519161916159093%\n",
      "La colonne 'AMT_REQ_CREDIT_BUREAU_HOUR' comporte 41519 / 307511 valeur(s) manquante(s)\n",
      "Ce qui représente 13.501630835970097%\n",
      "La colonne 'AMT_REQ_CREDIT_BUREAU_DAY' comporte 41519 / 307511 valeur(s) manquante(s)\n",
      "Ce qui représente 13.501630835970097%\n",
      "La colonne 'AMT_REQ_CREDIT_BUREAU_WEEK' comporte 41519 / 307511 valeur(s) manquante(s)\n",
      "Ce qui représente 13.501630835970097%\n",
      "La colonne 'AMT_REQ_CREDIT_BUREAU_MON' comporte 41519 / 307511 valeur(s) manquante(s)\n",
      "Ce qui représente 13.501630835970097%\n",
      "La colonne 'AMT_REQ_CREDIT_BUREAU_QRT' comporte 41519 / 307511 valeur(s) manquante(s)\n",
      "Ce qui représente 13.501630835970097%\n",
      "La colonne 'AMT_REQ_CREDIT_BUREAU_YEAR' comporte 41519 / 307511 valeur(s) manquante(s)\n",
      "Ce qui représente 13.501630835970097%\n",
      "La colonne 'TERM' comporte 12 / 307511 valeur(s) manquante(s)\n",
      "Ce qui représente 0.003902299429939092%\n",
      "La colonne 'MEAN_BUILDING_SCORE_AVG' comporte 148810 / 307511 valeur(s) manquante(s)\n",
      "Ce qui représente 48.391764847436356%\n",
      "La colonne 'INCOME_PER_FAMILY_MEMBER' comporte 2 / 307511 valeur(s) manquante(s)\n",
      "Ce qui représente 0.0006503832383231819%\n",
      "La colonne 'SEASON_REMAINING' comporte 12 / 307511 valeur(s) manquante(s)\n",
      "Ce qui représente 0.003902299429939092%\n",
      "La colonne 'RATIO_INCOME_GOODS' comporte 278 / 307511 valeur(s) manquante(s)\n",
      "Ce qui représente 0.09040327012692229%\n",
      "La colonne 'CHILDREN_RATIO' comporte 2 / 307511 valeur(s) manquante(s)\n",
      "Ce qui représente 0.0006503832383231819%\n",
      "67 colonnes au total possèdent des valeurs manquantes\n",
      "127421.04477611941 / 307511 valeurs sont manquantes en moyenne dans chaque colonne\n"
     ]
    }
   ],
   "source": [
    "isnan(application_train)"
   ]
  },
  {
   "cell_type": "markdown",
   "metadata": {},
   "source": [
    "## Imputing missing values"
   ]
  },
  {
   "cell_type": "code",
   "execution_count": 7,
   "metadata": {},
   "outputs": [],
   "source": [
    "from sklearn.impute import SimpleImputer"
   ]
  },
  {
   "cell_type": "code",
   "execution_count": 8,
   "metadata": {},
   "outputs": [],
   "source": [
    "imp_mean = SimpleImputer(missing_values=np.nan, strategy='mean')\n",
    "imp_mean2 = SimpleImputer(missing_values=np.nan, strategy='mean')\n",
    "\n",
    "application_train_cleaned = imp_mean.fit_transform(application_train)\n",
    "application_train_cleaned = pd.DataFrame(application_train_cleaned,\n",
    "                                         columns=application_train.columns,\n",
    "                                         index=application_train.index)\n",
    "\n",
    "application_test_cleaned = imp_mean2.fit_transform(application_test)\n",
    "application_test_cleaned = pd.DataFrame(application_test_cleaned,\n",
    "                                        columns=application_test.columns,\n",
    "                                        index=application_test.index)"
   ]
  },
  {
   "cell_type": "code",
   "execution_count": 9,
   "metadata": {},
   "outputs": [
    {
     "name": "stdout",
     "output_type": "stream",
     "text": [
      "0 colonnes au total possèdent des valeurs manquantes\n",
      "nan / 307511 valeurs sont manquantes en moyenne dans chaque colonne\n"
     ]
    }
   ],
   "source": [
    "isnan(application_train_cleaned)"
   ]
  },
  {
   "cell_type": "markdown",
   "metadata": {},
   "source": [
    "# Over Sampling"
   ]
  },
  {
   "cell_type": "code",
   "execution_count": 10,
   "metadata": {},
   "outputs": [],
   "source": [
    "from sklearn.model_selection import train_test_split"
   ]
  },
  {
   "cell_type": "code",
   "execution_count": 11,
   "metadata": {},
   "outputs": [],
   "source": [
    "x = application_train_cleaned.drop(columns=['TARGET'])\n",
    "y = application_train_cleaned.TARGET"
   ]
  },
  {
   "cell_type": "code",
   "execution_count": 12,
   "metadata": {},
   "outputs": [],
   "source": [
    "x_train, x_test, y_train, y_test = train_test_split(x, y, test_size=0.2)"
   ]
  },
  {
   "cell_type": "code",
   "execution_count": 13,
   "metadata": {},
   "outputs": [],
   "source": [
    "from collections import Counter\n",
    "from imblearn.over_sampling import SMOTE"
   ]
  },
  {
   "cell_type": "code",
   "execution_count": 14,
   "metadata": {},
   "outputs": [
    {
     "name": "stdout",
     "output_type": "stream",
     "text": [
      "Counter({0.0: 282686, 1.0: 24825})\n"
     ]
    }
   ],
   "source": [
    "counter = Counter(y)\n",
    "print(counter)"
   ]
  },
  {
   "cell_type": "code",
   "execution_count": 15,
   "metadata": {},
   "outputs": [],
   "source": [
    "sm = SMOTE(random_state=42)\n",
    "x_res, y_res = sm.fit_resample(x_train, y_train)"
   ]
  },
  {
   "cell_type": "code",
   "execution_count": 16,
   "metadata": {},
   "outputs": [
    {
     "name": "stdout",
     "output_type": "stream",
     "text": [
      "Counter({0.0: 226153, 1.0: 226153})\n"
     ]
    }
   ],
   "source": [
    "counter = Counter(y_res)\n",
    "print(counter)"
   ]
  },
  {
   "cell_type": "markdown",
   "metadata": {},
   "source": [
    "# Under & Over Sampling"
   ]
  },
  {
   "cell_type": "code",
   "execution_count": 17,
   "metadata": {},
   "outputs": [],
   "source": [
    "from imblearn.under_sampling import RandomUnderSampler\n",
    "from imblearn.pipeline import Pipeline"
   ]
  },
  {
   "cell_type": "code",
   "execution_count": 18,
   "metadata": {},
   "outputs": [
    {
     "name": "stdout",
     "output_type": "stream",
     "text": [
      "Counter({0.0: 282686, 1.0: 24825})\n"
     ]
    }
   ],
   "source": [
    "counter = Counter(y)\n",
    "print(counter)"
   ]
  },
  {
   "cell_type": "code",
   "execution_count": 19,
   "metadata": {},
   "outputs": [],
   "source": [
    "over = SMOTE(sampling_strategy=0.2, random_state=42)\n",
    "under = RandomUnderSampler(sampling_strategy=0.5)\n",
    "steps = [('o', over), ('u', under)]\n",
    "pipeline = Pipeline(steps=steps)\n",
    "# transform the dataset\n",
    "x_res, y_res = pipeline.fit_resample(x_train, y_train)"
   ]
  },
  {
   "cell_type": "code",
   "execution_count": 20,
   "metadata": {},
   "outputs": [
    {
     "name": "stdout",
     "output_type": "stream",
     "text": [
      "Counter({0.0: 90460, 1.0: 45230})\n"
     ]
    }
   ],
   "source": [
    "counter = Counter(y_res)\n",
    "print(counter)"
   ]
  },
  {
   "cell_type": "markdown",
   "metadata": {},
   "source": [
    "# Sampling for modelization"
   ]
  },
  {
   "cell_type": "code",
   "execution_count": 21,
   "metadata": {},
   "outputs": [
    {
     "data": {
      "text/plain": [
       "(10000, 132)"
      ]
     },
     "execution_count": 21,
     "metadata": {},
     "output_type": "execute_result"
    }
   ],
   "source": [
    "sample = np.random.randint(0, x_res.shape[0], 10000)\n",
    "x_sample = x_res.iloc[sample,:]\n",
    "y_sample = y_res[sample]\n",
    "x_sample.shape"
   ]
  },
  {
   "cell_type": "code",
   "execution_count": 22,
   "metadata": {},
   "outputs": [
    {
     "name": "stdout",
     "output_type": "stream",
     "text": [
      "Counter({0.0: 6669, 1.0: 3331})\n"
     ]
    }
   ],
   "source": [
    "counter = Counter(y_sample)\n",
    "print(counter)"
   ]
  },
  {
   "cell_type": "markdown",
   "metadata": {},
   "source": [
    "# Personalized Metric"
   ]
  },
  {
   "cell_type": "code",
   "execution_count": 23,
   "metadata": {},
   "outputs": [],
   "source": [
    "def personalizedMetric(model_name, data, pred, saving=True, scores=None):\n",
    "    \"\"\"This function calculate a score based on a personalized metric ; \n",
    "    It creates a dataframe if it does not already exist, allowing you to keep the scores\n",
    "    of your models in memory\"\"\"\n",
    "    # Df init\n",
    "    if scores is not None:\n",
    "        df = scores        \n",
    "    else:\n",
    "        df = pd.DataFrame(columns=['Model', 'Score', 'false_positive', 'false_negative', 'good_pred'])\n",
    "    \n",
    "    # Calculation of the score for current model:\n",
    "    false_positive = 0\n",
    "    false_negative = 0\n",
    "    good_pred = 0\n",
    "    model_score = 0\n",
    "    for i, j in zip(data, pred):\n",
    "        if i == j:\n",
    "            good_pred += 1\n",
    "            model_score += 0\n",
    "        elif i != j:\n",
    "            if i == 0:\n",
    "                false_positive += 1\n",
    "                model_score += 1\n",
    "            elif i == 1:\n",
    "                false_negative += 1\n",
    "                model_score += 5\n",
    "    \n",
    "    # Put the results in the df\n",
    "    results = {\"Model\":model_name, \"Score\":model_score,\n",
    "               \"false_positive\":false_positive, \"false_negative\":false_negative,\n",
    "               \"good_pred\":good_pred}\n",
    "    \n",
    "    # if saving == True:\n",
    "    df = df.append(results, ignore_index=True)\n",
    "    \n",
    "    return df"
   ]
  },
  {
   "cell_type": "markdown",
   "metadata": {},
   "source": [
    "# Modeling"
   ]
  },
  {
   "cell_type": "markdown",
   "metadata": {},
   "source": [
    "## Logistic Regression (Baseline)"
   ]
  },
  {
   "cell_type": "code",
   "execution_count": 24,
   "metadata": {},
   "outputs": [],
   "source": [
    "from sklearn.linear_model import LogisticRegression"
   ]
  },
  {
   "cell_type": "markdown",
   "metadata": {},
   "source": [
    "### Training"
   ]
  },
  {
   "cell_type": "code",
   "execution_count": 25,
   "metadata": {},
   "outputs": [],
   "source": [
    "clf = LogisticRegression(max_iter=1000, random_state=42).fit(x_sample, y_sample)\n",
    "clf_predict = clf.predict(x_test)\n",
    "#clf_predict = pd.DataFrame(clf_predict, index=y_test.index, columns=['predict'])"
   ]
  },
  {
   "cell_type": "markdown",
   "metadata": {},
   "source": [
    "### Features importance"
   ]
  },
  {
   "cell_type": "code",
   "execution_count": null,
   "metadata": {},
   "outputs": [],
   "source": []
  },
  {
   "cell_type": "markdown",
   "metadata": {},
   "source": [
    "### Performances"
   ]
  },
  {
   "cell_type": "code",
   "execution_count": 26,
   "metadata": {},
   "outputs": [
    {
     "data": {
      "text/html": [
       "<div>\n",
       "<style scoped>\n",
       "    .dataframe tbody tr th:only-of-type {\n",
       "        vertical-align: middle;\n",
       "    }\n",
       "\n",
       "    .dataframe tbody tr th {\n",
       "        vertical-align: top;\n",
       "    }\n",
       "\n",
       "    .dataframe thead th {\n",
       "        text-align: right;\n",
       "    }\n",
       "</style>\n",
       "<table border=\"1\" class=\"dataframe\">\n",
       "  <thead>\n",
       "    <tr style=\"text-align: right;\">\n",
       "      <th></th>\n",
       "      <th>Model</th>\n",
       "      <th>Score</th>\n",
       "      <th>false_positive</th>\n",
       "      <th>false_negative</th>\n",
       "      <th>good_pred</th>\n",
       "    </tr>\n",
       "  </thead>\n",
       "  <tbody>\n",
       "    <tr>\n",
       "      <th>0</th>\n",
       "      <td>Baseline</td>\n",
       "      <td>24851</td>\n",
       "      <td>786</td>\n",
       "      <td>4813</td>\n",
       "      <td>55904</td>\n",
       "    </tr>\n",
       "  </tbody>\n",
       "</table>\n",
       "</div>"
      ],
      "text/plain": [
       "      Model  Score false_positive false_negative good_pred\n",
       "0  Baseline  24851            786           4813     55904"
      ]
     },
     "execution_count": 26,
     "metadata": {},
     "output_type": "execute_result"
    }
   ],
   "source": [
    "scores = personalizedMetric('Baseline', y_test, clf_predict)\n",
    "scores"
   ]
  },
  {
   "cell_type": "markdown",
   "metadata": {},
   "source": [
    "## Random Forest"
   ]
  },
  {
   "cell_type": "code",
   "execution_count": 27,
   "metadata": {},
   "outputs": [],
   "source": [
    "from sklearn.ensemble import RandomForestClassifier\n",
    "from sklearn.model_selection import RandomizedSearchCV"
   ]
  },
  {
   "cell_type": "markdown",
   "metadata": {},
   "source": [
    "### Training"
   ]
  },
  {
   "cell_type": "code",
   "execution_count": 28,
   "metadata": {},
   "outputs": [
    {
     "name": "stdout",
     "output_type": "stream",
     "text": [
      "Fitting 3 folds for each of 100 candidates, totalling 300 fits\n"
     ]
    },
    {
     "name": "stderr",
     "output_type": "stream",
     "text": [
      "[Parallel(n_jobs=-1)]: Using backend LokyBackend with 12 concurrent workers.\n",
      "[Parallel(n_jobs=-1)]: Done  17 tasks      | elapsed:   40.5s\n",
      "[Parallel(n_jobs=-1)]: Done 138 tasks      | elapsed:  5.5min\n",
      "[Parallel(n_jobs=-1)]: Done 300 out of 300 | elapsed: 13.3min finished\n"
     ]
    },
    {
     "name": "stdout",
     "output_type": "stream",
     "text": [
      "\n",
      "\n",
      "Function elapsed in:  843.379606 s\n"
     ]
    },
    {
     "data": {
      "text/plain": [
       "{'n_estimators': 1155,\n",
       " 'min_samples_split': 5,\n",
       " 'min_samples_leaf': 1,\n",
       " 'max_depth': 73,\n",
       " 'bootstrap': False}"
      ]
     },
     "execution_count": 28,
     "metadata": {},
     "output_type": "execute_result"
    }
   ],
   "source": [
    "# Nombre d'arbres dans la forêt\n",
    "n_estimators = [int(x) for x in np.linspace(start = 100, stop = 2000, num = 10)]\n",
    "# Level max des arbres\n",
    "max_depth = [int(x) for x in np.linspace(40, 140, num = 10)]\n",
    "max_depth.append(None)\n",
    "# nombre de sample min pour split\n",
    "min_samples_split = [2, 5]\n",
    "# Minimum number of samples required at each leaf node\n",
    "min_samples_leaf = [1, 2]\n",
    "# Method of selecting samples for training each tree\n",
    "bootstrap = [True, False]\n",
    "\n",
    "# On crée la random grid\n",
    "random_grid = {'n_estimators': n_estimators,\n",
    "               'max_depth': max_depth,\n",
    "               'min_samples_split': min_samples_split,\n",
    "               'min_samples_leaf': min_samples_leaf,\n",
    "               'bootstrap': bootstrap}\n",
    "\n",
    "t0 = time.perf_counter()\n",
    "\n",
    "rfc = RandomForestClassifier()\n",
    "\n",
    "# On recherche avec 100 combinaisons différentes \n",
    "rfc = RandomizedSearchCV(estimator=rfc, param_distributions=random_grid, n_iter=100, \n",
    "                               cv=3, verbose=2, random_state=42, n_jobs=-1)\n",
    "\n",
    "# On fit\n",
    "rfc.fit(x_sample, y_sample)\n",
    "\n",
    "t1 = time.perf_counter()\n",
    "print(\"\\n\")\n",
    "print ('Function elapsed in: ', t1-t0, 's')\n",
    "\n",
    "rfc.best_params_"
   ]
  },
  {
   "cell_type": "code",
   "execution_count": 29,
   "metadata": {},
   "outputs": [
    {
     "name": "stdout",
     "output_type": "stream",
     "text": [
      "\n",
      "\n",
      "Function elapsed in:  7.623179599999958 s\n"
     ]
    }
   ],
   "source": [
    "t0 = time.perf_counter()\n",
    "\n",
    "rf = RandomForestClassifier(n_estimators = list(rfc.best_params_.values())[0],\n",
    "                             min_samples_split = list(rfc.best_params_.values())[1],\n",
    "                             min_samples_leaf=list(rfc.best_params_.values())[2],\n",
    "                             max_depth = list(rfc.best_params_.values())[3],\n",
    "                             bootstrap=list(rfc.best_params_.values())[4],\n",
    "                             n_jobs = -1)\n",
    "rf.fit(x_sample, y_sample)\n",
    "# on prédit\n",
    "y_predict = rf.predict(x_test)\n",
    "\n",
    "t1 = time.perf_counter()\n",
    "print(\"\\n\")\n",
    "print ('Function elapsed in: ', t1-t0, 's')\n",
    "\n",
    "y_predict_df = pd.DataFrame(y_predict, index=y_test.index, columns=['Predict'])"
   ]
  },
  {
   "cell_type": "markdown",
   "metadata": {},
   "source": [
    "### Features importance"
   ]
  },
  {
   "cell_type": "code",
   "execution_count": 30,
   "metadata": {},
   "outputs": [
    {
     "data": {
      "image/png": "[encoded data removed]",
      "text/plain": [
       "<Figure size 2160x720 with 1 Axes>"
      ]
     },
     "metadata": {
      "needs_background": "light"
     },
     "output_type": "display_data"
    }
   ],
   "source": [
    "importances = rf.feature_importances_\n",
    "std = np.std([tree.feature_importances_ for tree in rf.estimators_],\n",
    "             axis=0)\n",
    "indices = np.argsort(importances)[::-1]\n",
    "\n",
    "# Plot the impurity-based feature importances of the forest\n",
    "plt.figure(figsize=(30,10))\n",
    "plt.title(\"Feature importances\")\n",
    "plt.bar(range(x_sample.shape[1]), importances[indices],\n",
    "        color=\"r\", yerr=std[indices], align=\"center\")\n",
    "plt.xticks(range(x_sample.shape[1]), indices)\n",
    "plt.xlim([-1, x_sample.shape[1]])\n",
    "plt.show()"
   ]
  },
  {
   "cell_type": "markdown",
   "metadata": {},
   "source": [
    "### Performances"
   ]
  },
  {
   "cell_type": "code",
   "execution_count": 31,
   "metadata": {},
   "outputs": [
    {
     "data": {
      "text/html": [
       "<div>\n",
       "<style scoped>\n",
       "    .dataframe tbody tr th:only-of-type {\n",
       "        vertical-align: middle;\n",
       "    }\n",
       "\n",
       "    .dataframe tbody tr th {\n",
       "        vertical-align: top;\n",
       "    }\n",
       "\n",
       "    .dataframe thead th {\n",
       "        text-align: right;\n",
       "    }\n",
       "</style>\n",
       "<table border=\"1\" class=\"dataframe\">\n",
       "  <thead>\n",
       "    <tr style=\"text-align: right;\">\n",
       "      <th></th>\n",
       "      <th>Model</th>\n",
       "      <th>Score</th>\n",
       "      <th>false_positive</th>\n",
       "      <th>false_negative</th>\n",
       "      <th>good_pred</th>\n",
       "    </tr>\n",
       "  </thead>\n",
       "  <tbody>\n",
       "    <tr>\n",
       "      <th>0</th>\n",
       "      <td>Baseline</td>\n",
       "      <td>24851</td>\n",
       "      <td>786</td>\n",
       "      <td>4813</td>\n",
       "      <td>55904</td>\n",
       "    </tr>\n",
       "    <tr>\n",
       "      <th>1</th>\n",
       "      <td>Random Forest</td>\n",
       "      <td>24210</td>\n",
       "      <td>360</td>\n",
       "      <td>4770</td>\n",
       "      <td>56373</td>\n",
       "    </tr>\n",
       "  </tbody>\n",
       "</table>\n",
       "</div>"
      ],
      "text/plain": [
       "           Model  Score false_positive false_negative good_pred\n",
       "0       Baseline  24851            786           4813     55904\n",
       "1  Random Forest  24210            360           4770     56373"
      ]
     },
     "execution_count": 31,
     "metadata": {},
     "output_type": "execute_result"
    }
   ],
   "source": [
    "scores = personalizedMetric('Random Forest', y_test, y_predict, scores=scores)\n",
    "scores"
   ]
  },
  {
   "cell_type": "code",
   "execution_count": 32,
   "metadata": {},
   "outputs": [
    {
     "data": {
      "text/plain": [
       "array([0., 0., 0., ..., 0., 0., 0.])"
      ]
     },
     "execution_count": 32,
     "metadata": {},
     "output_type": "execute_result"
    }
   ],
   "source": [
    "clf_predict"
   ]
  },
  {
   "cell_type": "markdown",
   "metadata": {},
   "source": [
    "## XGBoost"
   ]
  },
  {
   "cell_type": "code",
   "execution_count": 33,
   "metadata": {},
   "outputs": [],
   "source": [
    "import xgboost as xgb"
   ]
  },
  {
   "cell_type": "code",
   "execution_count": 34,
   "metadata": {},
   "outputs": [],
   "source": [
    "dtrain = xgb.DMatrix(x_sample, label=y_sample)\n",
    "dtest = xgb.DMatrix(x_test, label=y_test)"
   ]
  },
  {
   "cell_type": "code",
   "execution_count": 35,
   "metadata": {},
   "outputs": [],
   "source": [
    "param = {'max_depth': 2, 'eta': 1, 'objective': 'binary:logistic'}\n",
    "param['nthread'] = 4\n",
    "param['eval_metric'] = 'auc'"
   ]
  },
  {
   "cell_type": "markdown",
   "metadata": {},
   "source": [
    "### Training"
   ]
  },
  {
   "cell_type": "code",
   "execution_count": 36,
   "metadata": {},
   "outputs": [],
   "source": [
    "num_round = 10\n",
    "bst = xgb.train(param, dtrain, num_round)"
   ]
  },
  {
   "cell_type": "markdown",
   "metadata": {},
   "source": [
    "### Features importance"
   ]
  },
  {
   "cell_type": "code",
   "execution_count": 37,
   "metadata": {},
   "outputs": [
    {
     "data": {
      "text/plain": [
       "[]"
      ]
     },
     "execution_count": 37,
     "metadata": {},
     "output_type": "execute_result"
    },
    {
     "data": {
      "image/png": "[encoded data removed]",
      "text/plain": [
       "<Figure size 432x288 with 1 Axes>"
      ]
     },
     "metadata": {
      "needs_background": "light"
     },
     "output_type": "display_data"
    }
   ],
   "source": [
    "xgb.plot_importance(bst)\n",
    "plt.plot()"
   ]
  },
  {
   "cell_type": "code",
   "execution_count": 38,
   "metadata": {},
   "outputs": [],
   "source": [
    "# Load model saved, usefull for after\n",
    "#bst = xgb.Booster({'nthread': 4})  # init model\n",
    "#bst.load_model('model.bin')  # load data"
   ]
  },
  {
   "cell_type": "markdown",
   "metadata": {},
   "source": [
    "### Performances"
   ]
  },
  {
   "cell_type": "code",
   "execution_count": 45,
   "metadata": {},
   "outputs": [],
   "source": [
    "ypred = bst.predict(dtest)\n",
    "ypred_df = pd.DataFrame(ypred, index=y_test.index, columns=['Predict'])\n",
    "ypred_df['Predict'] = np.where(ypred_df['Predict']>0.50, 1, 0)\n",
    "ypred_ = ypred_df['Predict']"
   ]
  },
  {
   "cell_type": "code",
   "execution_count": 46,
   "metadata": {},
   "outputs": [
    {
     "data": {
      "text/html": [
       "<div>\n",
       "<style scoped>\n",
       "    .dataframe tbody tr th:only-of-type {\n",
       "        vertical-align: middle;\n",
       "    }\n",
       "\n",
       "    .dataframe tbody tr th {\n",
       "        vertical-align: top;\n",
       "    }\n",
       "\n",
       "    .dataframe thead th {\n",
       "        text-align: right;\n",
       "    }\n",
       "</style>\n",
       "<table border=\"1\" class=\"dataframe\">\n",
       "  <thead>\n",
       "    <tr style=\"text-align: right;\">\n",
       "      <th></th>\n",
       "      <th>Model</th>\n",
       "      <th>Score</th>\n",
       "      <th>false_positive</th>\n",
       "      <th>false_negative</th>\n",
       "      <th>good_pred</th>\n",
       "    </tr>\n",
       "  </thead>\n",
       "  <tbody>\n",
       "    <tr>\n",
       "      <th>0</th>\n",
       "      <td>Baseline</td>\n",
       "      <td>24851</td>\n",
       "      <td>786</td>\n",
       "      <td>4813</td>\n",
       "      <td>55904</td>\n",
       "    </tr>\n",
       "    <tr>\n",
       "      <th>1</th>\n",
       "      <td>Random Forest</td>\n",
       "      <td>24210</td>\n",
       "      <td>360</td>\n",
       "      <td>4770</td>\n",
       "      <td>56373</td>\n",
       "    </tr>\n",
       "    <tr>\n",
       "      <th>2</th>\n",
       "      <td>XGBoost</td>\n",
       "      <td>81383</td>\n",
       "      <td>56533</td>\n",
       "      <td>4970</td>\n",
       "      <td>0</td>\n",
       "    </tr>\n",
       "    <tr>\n",
       "      <th>3</th>\n",
       "      <td>XGBoost</td>\n",
       "      <td>23680</td>\n",
       "      <td>2925</td>\n",
       "      <td>4151</td>\n",
       "      <td>54427</td>\n",
       "    </tr>\n",
       "    <tr>\n",
       "      <th>4</th>\n",
       "      <td>XGBoost</td>\n",
       "      <td>23680</td>\n",
       "      <td>2925</td>\n",
       "      <td>4151</td>\n",
       "      <td>54427</td>\n",
       "    </tr>\n",
       "  </tbody>\n",
       "</table>\n",
       "</div>"
      ],
      "text/plain": [
       "           Model  Score false_positive false_negative good_pred\n",
       "0       Baseline  24851            786           4813     55904\n",
       "1  Random Forest  24210            360           4770     56373\n",
       "2        XGBoost  81383          56533           4970         0\n",
       "3        XGBoost  23680           2925           4151     54427\n",
       "4        XGBoost  23680           2925           4151     54427"
      ]
     },
     "execution_count": 46,
     "metadata": {},
     "output_type": "execute_result"
    }
   ],
   "source": [
    "scores = personalizedMetric('XGBoost', y_test, ypred_, scores=scores)\n",
    "scores"
   ]
  },
  {
   "cell_type": "markdown",
   "metadata": {},
   "source": [
    "The model is less effective if we watch only the accuracy score, but it understands better the problem and this time predict not only 0 values, but also 1 values"
   ]
  },
  {
   "cell_type": "code",
   "execution_count": 55,
   "metadata": {},
   "outputs": [
    {
     "data": {
      "text/plain": [
       "5725"
      ]
     },
     "execution_count": 55,
     "metadata": {},
     "output_type": "execute_result"
    }
   ],
   "source": [
    "len(ypred[(ypred >= 0.4) & (ypred <= 0.6)])"
   ]
  },
  {
   "cell_type": "markdown",
   "metadata": {},
   "source": [
    "# Best Model"
   ]
  },
  {
   "cell_type": "code",
   "execution_count": null,
   "metadata": {},
   "outputs": [],
   "source": []
  },
  {
   "cell_type": "markdown",
   "metadata": {},
   "source": [
    "# Model Saving"
   ]
  },
  {
   "cell_type": "code",
   "execution_count": null,
   "metadata": {},
   "outputs": [],
   "source": []
  },
  {
   "cell_type": "markdown",
   "metadata": {},
   "source": [
    "# Pipeline Saving"
   ]
  },
  {
   "cell_type": "code",
   "execution_count": null,
   "metadata": {},
   "outputs": [],
   "source": []
  }
 ],
 "metadata": {
  "kernelspec": {
   "display_name": "Python 3",
   "language": "python",
   "name": "python3"
  },
  "language_info": {
   "codemirror_mode": {
    "name": "ipython",
    "version": 3
   },
   "file_extension": ".py",
   "mimetype": "text/x-python",
   "name": "python",
   "nbconvert_exporter": "python",
   "pygments_lexer": "ipython3",
   "version": "3.7.6"
  },
  "toc": {
   "base_numbering": 1,
   "nav_menu": {},
   "number_sections": true,
   "sideBar": true,
   "skip_h1_title": false,
   "title_cell": "Table of Contents",
   "title_sidebar": "Contents",
   "toc_cell": true,
   "toc_position": {
    "height": "calc(100% - 180px)",
    "left": "10px",
    "top": "150px",
    "width": "352px"
   },
   "toc_section_display": true,
   "toc_window_display": true
  },
  "varInspector": {
   "cols": {
    "lenName": 16,
    "lenType": 16,
    "lenVar": 40
   },
   "kernels_config": {
    "python": {
     "delete_cmd_postfix": "",
     "delete_cmd_prefix": "del ",
     "library": "var_list.py",
     "varRefreshCmd": "print(var_dic_list())"
    },
    "r": {
     "delete_cmd_postfix": ") ",
     "delete_cmd_prefix": "rm(",
     "library": "var_list.r",
     "varRefreshCmd": "cat(var_dic_list()) "
    }
   },
   "types_to_exclude": [
    "module",
    "function",
    "builtin_function_or_method",
    "instance",
    "_Feature"
   ],
   "window_display": false
  }
 },
 "nbformat": 4,
 "nbformat_minor": 4
}
